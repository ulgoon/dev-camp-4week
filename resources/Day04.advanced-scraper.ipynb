{
 "cells": [
  {
   "cell_type": "markdown",
   "metadata": {},
   "source": [
    "## Selenium을 활용한 고급 스크래핑\n",
    "- 동적인 클라이언트 환경은 Selenium으로 회피할 수 있습니다.\n",
    "- 사용자 액션 자동화가 필요할 경우 사용하셔도 됩니다."
   ]
  },
  {
   "cell_type": "code",
   "execution_count": 1,
   "metadata": {},
   "outputs": [],
   "source": [
    "from selenium import webdriver\n",
    "from selenium.webdriver.common.by import By\n",
    "from selenium.webdriver.support.ui import WebDriverWait\n",
    "from selenium.webdriver.support import expected_conditions as EC\n",
    "from time import sleep, ctime\n",
    "import requests\n",
    "from bs4 import BeautifulSoup\n",
    "import lxml"
   ]
  },
  {
   "cell_type": "code",
   "execution_count": 25,
   "metadata": {},
   "outputs": [],
   "source": [
    "# Chromedriver를 이용해 새로운 세션 시작\n",
    "ch_driver = webdriver.Chrome('/Users/ulgoon/Documents/dev/chromedriver')\n",
    "# C:\\\\windows\\\\Users\\\\ulgoon\\\\Desktop\\\\sprint\\\\chromedriver.exe"
   ]
  },
  {
   "cell_type": "code",
   "execution_count": null,
   "metadata": {},
   "outputs": [],
   "source": [
    "# 페이지 이동을 위해 쓰이는 get\n",
    "ch_driver.get('https://www.google.com')"
   ]
  },
  {
   "cell_type": "code",
   "execution_count": 26,
   "metadata": {},
   "outputs": [],
   "source": [
    "# N사 평화나라로 이동합니다.\n",
    "ch_driver.get('https://cafe.naver.com/joonggonara')"
   ]
  },
  {
   "cell_type": "code",
   "execution_count": 27,
   "metadata": {},
   "outputs": [],
   "source": [
    "# 액션을 수행하게 될 요소(검색어입력란)을 id를 이용해 찾아내 query_input에 할당합니다.\n",
    "query_input = ch_driver.find_element_by_id('topLayerQueryInput')"
   ]
  },
  {
   "cell_type": "code",
   "execution_count": 28,
   "metadata": {},
   "outputs": [
    {
     "data": {
      "text/plain": [
       "<selenium.webdriver.remote.webelement.WebElement (session=\"47cd58dc9da138b17e9b7047508e72a6\", element=\"0.5645913295166463-1\")>"
      ]
     },
     "execution_count": 28,
     "metadata": {},
     "output_type": "execute_result"
    }
   ],
   "source": [
    "# 성공유무 확인\n",
    "query_input"
   ]
  },
  {
   "cell_type": "code",
   "execution_count": 29,
   "metadata": {},
   "outputs": [],
   "source": [
    "# jupyter의 string을 query_input에 전달합니다.\n",
    "query_input.send_keys('맥북 프로 15')"
   ]
  },
  {
   "cell_type": "code",
   "execution_count": 30,
   "metadata": {},
   "outputs": [],
   "source": [
    "ch_driver.execute_script('searchBoard();')"
   ]
  },
  {
   "cell_type": "code",
   "execution_count": 31,
   "metadata": {},
   "outputs": [],
   "source": [
    "ch_driver.switch_to.frame('cafe_main')"
   ]
  },
  {
   "cell_type": "code",
   "execution_count": null,
   "metadata": {},
   "outputs": [],
   "source": [
    "content_path = '//*[@id=\"main-area\"]/div[5]/table/tbody/tr[1]/td[1]/div[2]/div/a'"
   ]
  },
  {
   "cell_type": "code",
   "execution_count": null,
   "metadata": {},
   "outputs": [],
   "source": [
    "ch_driver.find_element_by_xpath(content_path).text"
   ]
  },
  {
   "cell_type": "code",
   "execution_count": null,
   "metadata": {},
   "outputs": [],
   "source": [
    "contents_path = '//*[@id=\"main-area\"]/div[5]/table/tbody/tr/td[1]/div[2]/div/a'"
   ]
  },
  {
   "cell_type": "code",
   "execution_count": null,
   "metadata": {},
   "outputs": [],
   "source": [
    "result_list = ch_driver.find_elements_by_xpath(contents_path)"
   ]
  },
  {
   "cell_type": "code",
   "execution_count": null,
   "metadata": {},
   "outputs": [],
   "source": [
    "len(result_list)"
   ]
  },
  {
   "cell_type": "code",
   "execution_count": null,
   "metadata": {},
   "outputs": [],
   "source": [
    "for item in result_list:\n",
    "    print(item.text)"
   ]
  },
  {
   "cell_type": "code",
   "execution_count": null,
   "metadata": {},
   "outputs": [],
   "source": [
    "page_path = '//*[@id=\"main-area\"]/div[7]/a[2]'\n",
    "ch_driver.find_element_by_xpath(page_path).click()"
   ]
  },
  {
   "cell_type": "code",
   "execution_count": null,
   "metadata": {},
   "outputs": [],
   "source": [
    "result_list = ch_driver.find_elements_by_xpath(contents_path)\n",
    "for item in result_list:\n",
    "    print(item.text)"
   ]
  },
  {
   "cell_type": "code",
   "execution_count": null,
   "metadata": {},
   "outputs": [],
   "source": [
    "results = []\n",
    "contents_path = '//*[@id=\"main-area\"]/div[5]/table/tbody/tr/td[1]/div[2]/div/a'\n",
    "for i in range(1,10+1):\n",
    "    page_path = '//*[@id=\"main-area\"]/div[7]/a[{}]'.format(i)\n",
    "    ch_driver.find_element_by_xpath(page_path).click()\n",
    "    WebDriverWait(ch_driver, 10).until(\n",
    "        EC.presence_of_element_located((By.XPATH, contents_path))\n",
    "    )\n",
    "    result_list = ch_driver.find_elements_by_xpath(contents_path)\n",
    "    for item in result_list:\n",
    "        ch_driver.implicitly_wait(5000)\n",
    "        results.append(item.text)"
   ]
  },
  {
   "cell_type": "code",
   "execution_count": 33,
   "metadata": {},
   "outputs": [
    {
     "data": {
      "text/plain": [
       "10"
      ]
     },
     "execution_count": 33,
     "metadata": {},
     "output_type": "execute_result"
    }
   ],
   "source": [
    "len(results)"
   ]
  },
  {
   "cell_type": "code",
   "execution_count": 34,
   "metadata": {},
   "outputs": [
    {
     "data": {
      "text/plain": [
       "['맥북 프로 15인치 레티나 고급형 2014 mid MGXC2KH/A 판매합니다. 배터리교체',\n",
       " '맥북프로 15\" late 2011 i7 2.2Ghz 팝니다',\n",
       " '맥북프로 레티나 15인치 2015 기본형 256G MJLQ2KH/A 싸이클11 깨끗',\n",
       " '*[미개봉]2019년형 맥북프로 15인치 터치바 MV912KH/A 판매합니다',\n",
       " '2019 맥북프로 기본형 15인치 스페이스 그레이 팝니다.',\n",
       " '맥북프로 2017년형 2018년도구매 15인치 고급형 풀박스 싸게 판매',\n",
       " '*[미개봉]2019년형 맥북프로 15인치 터치바 MV932KH/A판매합니다',\n",
       " '맥북프로 2013년형 15인치 레티나 팝니다',\n",
       " '맥북 프로 15인치 2016년형 스페이스 그레이 CTO',\n",
       " '[미개봉] 맥북 프로 2019 15인치 [프로그램 설치] 고급형 MV912KH/A, 기본형 MV902KH/A 판매']"
      ]
     },
     "execution_count": 34,
     "metadata": {},
     "output_type": "execute_result"
    }
   ],
   "source": [
    "results"
   ]
  },
  {
   "cell_type": "code",
   "execution_count": null,
   "metadata": {},
   "outputs": [],
   "source": [
    "# https://twitter.com/search?q=%EB%B8%94%ED%94%84"
   ]
  },
  {
   "cell_type": "code",
   "execution_count": 5,
   "metadata": {},
   "outputs": [],
   "source": [
    "ch_driver = webdriver.Chrome('/Users/ulgoon/Documents/dev/chromedriver')"
   ]
  },
  {
   "cell_type": "code",
   "execution_count": 6,
   "metadata": {},
   "outputs": [],
   "source": [
    "ch_driver.get('https://twitter.com/search?q=블프')"
   ]
  },
  {
   "cell_type": "code",
   "execution_count": 9,
   "metadata": {},
   "outputs": [],
   "source": [
    "for _ in range(3):\n",
    "    ch_driver.execute_script('window.scrollTo(0,window.scrollY + 10000)')\n",
    "    sleep(5) # ch_driver.implicitly_wait(10000)\n",
    "html_text = ch_driver.page_source\n",
    "# 여기서 부터 BeautifulSoup을 하셔도 됩니다."
   ]
  },
  {
   "cell_type": "code",
   "execution_count": 10,
   "metadata": {},
   "outputs": [
    {
     "data": {
      "text/plain": [
       "'<!DOCTYPE html><html xmlns=\"http://www.w3.org/1999/xhtml\" lang=\"en\" data-scribe-reduced-action-queue=\"true\"><head><style id=\"react-native-stylesheet\"></style>\\n    \\n    \\n    \\n    \\n    \\n    \\n    \\n    <m'"
      ]
     },
     "execution_count": 10,
     "metadata": {},
     "output_type": "execute_result"
    }
   ],
   "source": [
    "html_text[:200]"
   ]
  },
  {
   "cell_type": "code",
   "execution_count": 15,
   "metadata": {},
   "outputs": [
    {
     "name": "stdout",
     "output_type": "stream",
     "text": [
      "40\n",
      "@yeah_bbi_eyo Nov 28\n",
      "@its0c0ld Nov 28\n",
      "@holdme_tight_ 16h\n",
      "@hangoon__ Nov 25\n",
      "@bpcclm065 Nov 29\n",
      "@fearless4812b Nov 28\n",
      "@maaanye Nov 28\n",
      "@NumeroUno_Gott Nov 25\n",
      "@Si_B_Al_ Nov 28\n",
      "@2111_2113 Nov 28\n",
      "@btsjimin_92 Nov 28\n",
      "@Its_my_park Nov 28\n",
      "@anzinne Nov 28\n",
      "@wall_rkid Nov 29\n",
      "@07poodlecho Nov 29\n",
      "@joodannote Nov 28\n",
      "@comcgman Nov 28\n",
      "@Five_Hana Nov 25\n",
      "@FrostOrum Nov 29\n",
      "@youngbluewave_ Nov 28\n",
      "@XylitoLdrink Nov 28\n",
      "@ihanllama Nov 23\n",
      "@cheng__a 4h\n",
      "@noon_n00n_ Nov 28\n",
      "@SWANtheRockStar Nov 28\n",
      "@natsutoyuuhi Nov 26\n",
      "@_cherriesh_ Nov 28\n",
      "@thegardenforno1 Nov 29\n",
      "@_kura9903 Nov 28\n",
      "@football_tot_7 3h\n",
      "@bigboybondage Nov 27\n",
      "@woojoojoo88 Nov 28\n",
      "@yoonsanhakr Nov 24\n",
      "@Billy_Hotgrove2 Nov 28\n",
      "@StillRPG Nov 28\n",
      "@KSS_merlin 19h\n",
      "@nickick90 Nov 28\n",
      "@endrhyme 7h\n",
      "@everydaylipluvu Nov 28\n",
      "@LonlyCat_kd 20h\n"
     ]
    }
   ],
   "source": [
    "# li_path = '//*[@id=\"stream-items-id\"]/li'\n",
    "# result_list = ch_driver.find_elements_by_xpath(li_path)\n",
    "# username_path = '/*[@class=\"stream-item-header\"]/a/span[2]/b'\n",
    "# for item in result_list:\n",
    "#     print(item.tag_name)\n",
    "#     # username = item.find_element_by_xpath(username_path)\n",
    "#     sleep(2)\n",
    "#     print(id(username))\n",
    "#     print(username.text)\n",
    "\n",
    "# selenium의 느린 속도 보완을 위해 page_source를 가져와 BeautifulSoup으로 수행합니다.\n",
    "soup = BeautifulSoup(html_text, 'lxml')\n",
    "li_list = soup.find_all('li', attrs={'class':'js-stream-item'})\n",
    "print(len(li_list))\n",
    "\n",
    "for li in li_list:\n",
    "    username = li.find('span', attrs={'class':'username'}).text\n",
    "    times_ago = li.find('span', attrs={'class':'_timestamp'}).text\n",
    "    print(username, times_ago)"
   ]
  },
  {
   "cell_type": "code",
   "execution_count": null,
   "metadata": {},
   "outputs": [],
   "source": []
  }
 ],
 "metadata": {
  "kernelspec": {
   "display_name": "Python 3",
   "language": "python",
   "name": "python3"
  },
  "language_info": {
   "codemirror_mode": {
    "name": "ipython",
    "version": 3
   },
   "file_extension": ".py",
   "mimetype": "text/x-python",
   "name": "python",
   "nbconvert_exporter": "python",
   "pygments_lexer": "ipython3",
   "version": "3.7.4"
  }
 },
 "nbformat": 4,
 "nbformat_minor": 2
}
