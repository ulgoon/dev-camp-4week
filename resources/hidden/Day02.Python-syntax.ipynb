{
 "cells": [
  {
   "cell_type": "code",
   "execution_count": 188,
   "metadata": {},
   "outputs": [],
   "source": [
    "import requests\n",
    "import lxml\n",
    "from bs4 import BeautifulSoup\n",
    "# 에러 나면 pip install openpyxl\n",
    "from openpyxl import Workbook, load_workbook\n",
    "import json\n",
    "import random # for numguess"
   ]
  },
  {
   "cell_type": "markdown",
   "metadata": {},
   "source": [
    "## 정리한 요소 저장하기"
   ]
  },
  {
   "cell_type": "code",
   "execution_count": 4,
   "metadata": {},
   "outputs": [
    {
     "data": {
      "text/plain": [
       "200"
      ]
     },
     "execution_count": 4,
     "metadata": {},
     "output_type": "execute_result"
    }
   ],
   "source": [
    "# n사 메인페이지 접속하기\n",
    "response = requests.get(\"https://www.naver.com/\")\n",
    "response.status_code"
   ]
  },
  {
   "cell_type": "code",
   "execution_count": 7,
   "metadata": {},
   "outputs": [
    {
     "data": {
      "text/plain": [
       "'<!doctype html>\\n\\n\\n\\n\\n\\n\\n\\n\\n\\n\\n\\n\\n\\n\\n\\n\\n<html lang=\"ko\">\\n<head>\\n<meta charset=\"utf-8\">\\n<meta name=\"Referrer\" content=\"origin\">\\n<meta http-equiv=\"Content-Script-Type\" content=\"text/javascript\">\\n<meta http-equi'"
      ]
     },
     "execution_count": 7,
     "metadata": {},
     "output_type": "execute_result"
    }
   ],
   "source": [
    "# 응답으로 받은 텍스트값 page_text에 할당\n",
    "page_text = response.text\n",
    "page_text[:200]"
   ]
  },
  {
   "cell_type": "code",
   "execution_count": 11,
   "metadata": {},
   "outputs": [
    {
     "data": {
      "text/plain": [
       "<ul class=\"ah_l\">\n",
       "<li class=\"ah_item\">\n",
       "<a class=\"ah_a\" data-clk=\"lve.keyword\" href=\"#\">\n",
       "<span class=\"ah_r\">1</span>\n",
       "<span class=\"ah_k\">일본 태풍</span>\n",
       "</a>\n",
       "</li>\n",
       "<li class=\"ah_item\">\n",
       "<a class=\"ah_a\" data-clk=\"lve.keyword\" href=\"#\">\n",
       "<span class=\"ah_r\">2</span>\n",
       "<span class=\"ah_k\">박정현 샹들리에</span>\n",
       "</a>\n",
       "</li>\n",
       "<li class=\"ah_item\">\n",
       "<a class=\"ah_a\" data-clk=\"lve.keyword\" href=\"#\">\n",
       "<span class=\"ah_r\">3</span>\n",
       "<span class=\"ah_k\">프레시지 삼시세끼</span>\n",
       "</a>\n",
       "</li>\n",
       "<li class=\"ah_item\">\n",
       "<a class=\"ah_a\" data-clk=\"lve.keyword\" href=\"#\">\n",
       "<span class=\"ah_r\">4</span>\n",
       "<span class=\"ah_k\">링링</span>\n",
       "</a>\n",
       "</li>\n",
       "<li class=\"ah_item\">\n",
       "<a class=\"ah_a\" data-clk=\"lve.keyword\" href=\"#\">\n",
       "<span class=\"ah_r\">5</span>\n",
       "<span class=\"ah_k\">겟아웃</span>\n",
       "</a>\n",
       "</li>\n",
       "<li class=\"ah_item\">\n",
       "<a class=\"ah_a\" data-clk=\"lve.keyword\" href=\"#\">\n",
       "<span class=\"ah_r\">6</span>\n",
       "<span class=\"ah_k\">박정현</span>\n",
       "</a>\n",
       "</li>\n",
       "<li class=\"ah_item\">\n",
       "<a class=\"ah_a\" data-clk=\"lve.keyword\" href=\"#\">\n",
       "<span class=\"ah_r\">7</span>\n",
       "<span class=\"ah_k\">컨시크올데이커버쿠션</span>\n",
       "</a>\n",
       "</li>\n",
       "<li class=\"ah_item\">\n",
       "<a class=\"ah_a\" data-clk=\"lve.keyword\" href=\"#\">\n",
       "<span class=\"ah_r\">8</span>\n",
       "<span class=\"ah_k\">김연아</span>\n",
       "</a>\n",
       "</li>\n",
       "<li class=\"ah_item\">\n",
       "<a class=\"ah_a\" data-clk=\"lve.keyword\" href=\"#\">\n",
       "<span class=\"ah_r\">9</span>\n",
       "<span class=\"ah_k\">이태원 지구촌 축제</span>\n",
       "</a>\n",
       "</li>\n",
       "<li class=\"ah_item\">\n",
       "<a class=\"ah_a\" data-clk=\"lve.keyword\" href=\"#\">\n",
       "<span class=\"ah_r\">10</span>\n",
       "<span class=\"ah_k\">이재황</span>\n",
       "</a>\n",
       "</li>\n",
       "<li class=\"ah_item\">\n",
       "<a class=\"ah_a\" data-clk=\"lve.keyword\" href=\"#\">\n",
       "<span class=\"ah_r\">11</span>\n",
       "<span class=\"ah_k\">샹들리에</span>\n",
       "</a>\n",
       "</li>\n",
       "<li class=\"ah_item\">\n",
       "<a class=\"ah_a\" data-clk=\"lve.keyword\" href=\"#\">\n",
       "<span class=\"ah_r\">12</span>\n",
       "<span class=\"ah_k\">그랜절</span>\n",
       "</a>\n",
       "</li>\n",
       "<li class=\"ah_item\">\n",
       "<a class=\"ah_a\" data-clk=\"lve.keyword\" href=\"#\">\n",
       "<span class=\"ah_r\">13</span>\n",
       "<span class=\"ah_k\">가수 강남 집안</span>\n",
       "</a>\n",
       "</li>\n",
       "<li class=\"ah_item\">\n",
       "<a class=\"ah_a\" data-clk=\"lve.keyword\" href=\"#\">\n",
       "<span class=\"ah_r\">14</span>\n",
       "<span class=\"ah_k\">영화 겟아웃</span>\n",
       "</a>\n",
       "</li>\n",
       "<li class=\"ah_item\">\n",
       "<a class=\"ah_a\" data-clk=\"lve.keyword\" href=\"#\">\n",
       "<span class=\"ah_r\">15</span>\n",
       "<span class=\"ah_k\">김필</span>\n",
       "</a>\n",
       "</li>\n",
       "<li class=\"ah_item\">\n",
       "<a class=\"ah_a\" data-clk=\"lve.keyword\" href=\"#\">\n",
       "<span class=\"ah_r\">16</span>\n",
       "<span class=\"ah_k\">유다솜</span>\n",
       "</a>\n",
       "</li>\n",
       "<li class=\"ah_item\">\n",
       "<a class=\"ah_a\" data-clk=\"lve.keyword\" href=\"#\">\n",
       "<span class=\"ah_r\">17</span>\n",
       "<span class=\"ah_k\">비긴어게인3</span>\n",
       "</a>\n",
       "</li>\n",
       "<li class=\"ah_item\">\n",
       "<a class=\"ah_a\" data-clk=\"lve.keyword\" href=\"#\">\n",
       "<span class=\"ah_r\">18</span>\n",
       "<span class=\"ah_k\">경주백설갈비찜</span>\n",
       "</a>\n",
       "</li>\n",
       "<li class=\"ah_item\">\n",
       "<a class=\"ah_a\" data-clk=\"lve.keyword\" href=\"#\">\n",
       "<span class=\"ah_r\">19</span>\n",
       "<span class=\"ah_k\">헨리</span>\n",
       "</a>\n",
       "</li>\n",
       "<li class=\"ah_item\">\n",
       "<a class=\"ah_a\" data-clk=\"lve.keyword\" href=\"#\">\n",
       "<span class=\"ah_r\">20</span>\n",
       "<span class=\"ah_k\">왕밤빵</span>\n",
       "</a>\n",
       "</li>\n",
       "</ul>"
      ]
     },
     "execution_count": 11,
     "metadata": {},
     "output_type": "execute_result"
    }
   ],
   "source": [
    "# 전체 소스에서 검색어에 해당하는 부분 찾기\n",
    "soup = BeautifulSoup(page_text, \"lxml\")\n",
    "ul_text = soup.find(\"ul\", attrs={\"class\":\"ah_l\"})\n",
    "ul_text"
   ]
  },
  {
   "cell_type": "code",
   "execution_count": 15,
   "metadata": {},
   "outputs": [
    {
     "data": {
      "text/plain": [
       "<li class=\"ah_item\">\n",
       "<a class=\"ah_a\" data-clk=\"lve.keyword\" href=\"#\">\n",
       "<span class=\"ah_r\">1</span>\n",
       "<span class=\"ah_k\">일본 태풍</span>\n",
       "</a>\n",
       "</li>"
      ]
     },
     "execution_count": 15,
     "metadata": {},
     "output_type": "execute_result"
    }
   ],
   "source": [
    "# 전체 단위를 순위를 기준으로 잘라 li_list에 할당\n",
    "li_list = ul_text.find_all(\"li\")\n",
    "li_list[0]"
   ]
  },
  {
   "cell_type": "code",
   "execution_count": 17,
   "metadata": {
    "scrolled": true
   },
   "outputs": [],
   "source": [
    "# 검색어 하나에 대해 순위와 키워드 찾아내 nv_querys에 저장\n",
    "nv_querys = []\n",
    "for li in li_list:\n",
    "    rank = li.find(\"span\", attrs={\"class\":\"ah_r\"}).text\n",
    "    keyword = li.find(\"span\", attrs={\"class\":\"ah_k\"}).text\n",
    "    nv_querys.append((rank, keyword))"
   ]
  },
  {
   "cell_type": "code",
   "execution_count": 18,
   "metadata": {},
   "outputs": [
    {
     "data": {
      "text/plain": [
       "[('1', '일본 태풍'),\n",
       " ('2', '박정현 샹들리에'),\n",
       " ('3', '프레시지 삼시세끼'),\n",
       " ('4', '링링'),\n",
       " ('5', '겟아웃'),\n",
       " ('6', '박정현'),\n",
       " ('7', '컨시크올데이커버쿠션'),\n",
       " ('8', '김연아'),\n",
       " ('9', '이태원 지구촌 축제'),\n",
       " ('10', '이재황'),\n",
       " ('11', '샹들리에'),\n",
       " ('12', '그랜절'),\n",
       " ('13', '가수 강남 집안'),\n",
       " ('14', '영화 겟아웃'),\n",
       " ('15', '김필'),\n",
       " ('16', '유다솜'),\n",
       " ('17', '비긴어게인3'),\n",
       " ('18', '경주백설갈비찜'),\n",
       " ('19', '헨리'),\n",
       " ('20', '왕밤빵')]"
      ]
     },
     "execution_count": 18,
     "metadata": {},
     "output_type": "execute_result"
    }
   ],
   "source": [
    "nv_querys"
   ]
  },
  {
   "cell_type": "code",
   "execution_count": 22,
   "metadata": {},
   "outputs": [],
   "source": [
    "with open('nv_querys.csv', 'a') as f:\n",
    "    for kw in nv_querys:\n",
    "        f.write(kw[0]+\",\"+kw[1]+\"\\n\")"
   ]
  },
  {
   "cell_type": "code",
   "execution_count": 23,
   "metadata": {},
   "outputs": [
    {
     "name": "stdout",
     "output_type": "stream",
     "text": [
      "1,일본 태풍2,박정현 샹들리에3,프레시지 삼시세끼4,링링5,겟아웃6,박정현7,컨시크올데이커버쿠션8,김연아9,이태원 지구촌 축제10,이재황11,샹들리에12,그랜절13,가수 강남 집안14,영화 겟아웃15,김필16,유다솜17,비긴어게인318,경주백설갈비찜19,헨리20,왕밤빵1,일본 태풍\n",
      "\n",
      "2,박정현 샹들리에\n",
      "\n",
      "3,프레시지 삼시세끼\n",
      "\n",
      "4,링링\n",
      "\n",
      "5,겟아웃\n",
      "\n",
      "6,박정현\n",
      "\n",
      "7,컨시크올데이커버쿠션\n",
      "\n",
      "8,김연아\n",
      "\n",
      "9,이태원 지구촌 축제\n",
      "\n",
      "10,이재황\n",
      "\n",
      "11,샹들리에\n",
      "\n",
      "12,그랜절\n",
      "\n",
      "13,가수 강남 집안\n",
      "\n",
      "14,영화 겟아웃\n",
      "\n",
      "15,김필\n",
      "\n",
      "16,유다솜\n",
      "\n",
      "17,비긴어게인3\n",
      "\n",
      "18,경주백설갈비찜\n",
      "\n",
      "19,헨리\n",
      "\n",
      "20,왕밤빵\n",
      "\n"
     ]
    }
   ],
   "source": [
    "with open('nv_querys.csv', 'r') as f:\n",
    "    data = f.readlines()\n",
    "    for text in data:\n",
    "        print(text)"
   ]
  },
  {
   "cell_type": "code",
   "execution_count": 32,
   "metadata": {},
   "outputs": [],
   "source": [
    "workbook_name = 'nv_querys.xlsx'\n",
    "\n",
    "try:\n",
    "    workbook = load_workbook(workbook_name)\n",
    "except FileNotFoundError as e:\n",
    "    workbook = Workbook()\n",
    "\n",
    "worksheet = workbook.active\n",
    "for rank, keyword in nv_querys:\n",
    "    worksheet.append((int(rank), keyword))\n",
    "\n",
    "workbook.save(workbook_name)"
   ]
  },
  {
   "cell_type": "code",
   "execution_count": 40,
   "metadata": {},
   "outputs": [],
   "source": [
    "file_name = \"nv_querys.json\"\n",
    "\n",
    "nv_object = dict(nv_querys)\n",
    "\n",
    "try:\n",
    "    with open(file_name, 'r+') as f:\n",
    "        data = json.load(f)\n",
    "        data[\"data\"].append(nv_object)\n",
    "        f.seek(0)\n",
    "        json.dump(data, f)\n",
    "        f.truncate()\n",
    "except FileNotFoundError as e: # -> e가 빠졌..\n",
    "    with open(file_name, 'w') as f:\n",
    "        json.dump({\"data\":[nv_object]}, f) # -> f가 빠졌.."
   ]
  },
  {
   "cell_type": "code",
   "execution_count": 36,
   "metadata": {},
   "outputs": [
    {
     "data": {
      "text/plain": [
       "{'1': '일본 태풍',\n",
       " '2': '박정현 샹들리에',\n",
       " '3': '프레시지 삼시세끼',\n",
       " '4': '링링',\n",
       " '5': '겟아웃',\n",
       " '6': '박정현',\n",
       " '7': '컨시크올데이커버쿠션',\n",
       " '8': '김연아',\n",
       " '9': '이태원 지구촌 축제',\n",
       " '10': '이재황',\n",
       " '11': '샹들리에',\n",
       " '12': '그랜절',\n",
       " '13': '가수 강남 집안',\n",
       " '14': '영화 겟아웃',\n",
       " '15': '김필',\n",
       " '16': '유다솜',\n",
       " '17': '비긴어게인3',\n",
       " '18': '경주백설갈비찜',\n",
       " '19': '헨리',\n",
       " '20': '왕밤빵'}"
      ]
     },
     "execution_count": 36,
     "metadata": {},
     "output_type": "execute_result"
    }
   ],
   "source": [
    "nv_object"
   ]
  },
  {
   "cell_type": "code",
   "execution_count": 39,
   "metadata": {},
   "outputs": [
    {
     "name": "stdout",
     "output_type": "stream",
     "text": [
      "{'data': [{'1': '일본 태풍', '2': '박정현 샹들리에', '3': '프레시지 삼시세끼', '4': '링링', '5': '겟아웃', '6': '박정현', '7': '컨시크올데이커버쿠션', '8': '김연아', '9': '이태원 지구촌 축제', '10': '이재황', '11': '샹들리에', '12': '그랜절', '13': '가수 강남 집안', '14': '영화 겟아웃', '15': '김필', '16': '유다솜', '17': '비긴어게인3', '18': '경주백설갈비찜', '19': '헨리', '20': '왕밤빵'}]}\n"
     ]
    }
   ],
   "source": [
    "with open('nv_querys.json', 'r') as f:\n",
    "    data = json.load(f)\n",
    "    print(data)"
   ]
  },
  {
   "cell_type": "code",
   "execution_count": null,
   "metadata": {},
   "outputs": [],
   "source": [
    "# CSV : a,b,c,d\n",
    "# excel: table\n",
    "# json: {a:1, b:2, c:3}"
   ]
  },
  {
   "cell_type": "markdown",
   "metadata": {},
   "source": [
    "## Python 기본문법\n",
    "### Operation, Operators"
   ]
  },
  {
   "cell_type": "code",
   "execution_count": 41,
   "metadata": {},
   "outputs": [
    {
     "data": {
      "text/plain": [
       "5"
      ]
     },
     "execution_count": 41,
     "metadata": {},
     "output_type": "execute_result"
    }
   ],
   "source": [
    "# + - * /\n",
    "3+2\n",
    "\n",
    "2-3\n",
    "\n",
    "17*4\n",
    "\n",
    "7/2"
   ]
  },
  {
   "cell_type": "code",
   "execution_count": 45,
   "metadata": {},
   "outputs": [
    {
     "ename": "SyntaxError",
     "evalue": "invalid syntax (<ipython-input-45-9145b16c209a>, line 1)",
     "output_type": "error",
     "traceback": [
      "\u001b[0;36m  File \u001b[0;32m\"<ipython-input-45-9145b16c209a>\"\u001b[0;36m, line \u001b[0;32m1\u001b[0m\n\u001b[0;31m    3 2 /\u001b[0m\n\u001b[0m      ^\u001b[0m\n\u001b[0;31mSyntaxError\u001b[0m\u001b[0;31m:\u001b[0m invalid syntax\n"
     ]
    }
   ],
   "source": [
    "3 2 /"
   ]
  },
  {
   "cell_type": "code",
   "execution_count": 46,
   "metadata": {},
   "outputs": [
    {
     "data": {
      "text/plain": [
       "4.0"
      ]
     },
     "execution_count": 46,
     "metadata": {},
     "output_type": "execute_result"
    }
   ],
   "source": [
    "8/2"
   ]
  },
  {
   "cell_type": "code",
   "execution_count": 47,
   "metadata": {},
   "outputs": [
    {
     "data": {
      "text/plain": [
       "3.5"
      ]
     },
     "execution_count": 47,
     "metadata": {},
     "output_type": "execute_result"
    }
   ],
   "source": [
    "7/2"
   ]
  },
  {
   "cell_type": "code",
   "execution_count": 48,
   "metadata": {},
   "outputs": [
    {
     "data": {
      "text/plain": [
       "3"
      ]
     },
     "execution_count": 48,
     "metadata": {},
     "output_type": "execute_result"
    }
   ],
   "source": [
    "7//2\n",
    "\n",
    "7%2\n",
    "\n",
    "3**2"
   ]
  },
  {
   "cell_type": "code",
   "execution_count": 52,
   "metadata": {},
   "outputs": [
    {
     "data": {
      "text/plain": [
       "bool"
      ]
     },
     "execution_count": 52,
     "metadata": {},
     "output_type": "execute_result"
    }
   ],
   "source": [
    "type(3 > 2) # 비교연산자: 비교의 결과를 참과 거짓으로 표현"
   ]
  },
  {
   "cell_type": "code",
   "execution_count": 53,
   "metadata": {},
   "outputs": [
    {
     "data": {
      "text/plain": [
       "True"
      ]
     },
     "execution_count": 53,
     "metadata": {},
     "output_type": "execute_result"
    }
   ],
   "source": [
    "3 > 2"
   ]
  },
  {
   "cell_type": "code",
   "execution_count": 54,
   "metadata": {},
   "outputs": [
    {
     "data": {
      "text/plain": [
       "False"
      ]
     },
     "execution_count": 54,
     "metadata": {},
     "output_type": "execute_result"
    }
   ],
   "source": [
    "3 < 2"
   ]
  },
  {
   "cell_type": "code",
   "execution_count": 55,
   "metadata": {},
   "outputs": [
    {
     "data": {
      "text/plain": [
       "True"
      ]
     },
     "execution_count": 55,
     "metadata": {},
     "output_type": "execute_result"
    }
   ],
   "source": [
    "10 == 10"
   ]
  },
  {
   "cell_type": "code",
   "execution_count": 56,
   "metadata": {},
   "outputs": [
    {
     "data": {
      "text/plain": [
       "False"
      ]
     },
     "execution_count": 56,
     "metadata": {},
     "output_type": "execute_result"
    }
   ],
   "source": [
    "10 == 9"
   ]
  },
  {
   "cell_type": "code",
   "execution_count": 57,
   "metadata": {},
   "outputs": [
    {
     "data": {
      "text/plain": [
       "True"
      ]
     },
     "execution_count": 57,
     "metadata": {},
     "output_type": "execute_result"
    }
   ],
   "source": [
    "10 != 9"
   ]
  },
  {
   "cell_type": "markdown",
   "metadata": {},
   "source": [
    "### Variable"
   ]
  },
  {
   "cell_type": "code",
   "execution_count": 59,
   "metadata": {},
   "outputs": [],
   "source": [
    "a = 10 # = 는 assignment operator로 오른쪽의 값을 왼쪽의 변수명에 할당합니다\n",
    "b = 5"
   ]
  },
  {
   "cell_type": "code",
   "execution_count": 60,
   "metadata": {},
   "outputs": [
    {
     "data": {
      "text/plain": [
       "15"
      ]
     },
     "execution_count": 60,
     "metadata": {},
     "output_type": "execute_result"
    }
   ],
   "source": [
    "a + b"
   ]
  },
  {
   "cell_type": "code",
   "execution_count": 61,
   "metadata": {},
   "outputs": [
    {
     "name": "stdout",
     "output_type": "stream",
     "text": [
      "10 5\n"
     ]
    }
   ],
   "source": [
    "print(a,b)"
   ]
  },
  {
   "cell_type": "code",
   "execution_count": 64,
   "metadata": {},
   "outputs": [
    {
     "data": {
      "text/plain": [
       "int"
      ]
     },
     "execution_count": 64,
     "metadata": {},
     "output_type": "execute_result"
    }
   ],
   "source": [
    "type(10)"
   ]
  },
  {
   "cell_type": "code",
   "execution_count": 65,
   "metadata": {},
   "outputs": [
    {
     "data": {
      "text/plain": [
       "float"
      ]
     },
     "execution_count": 65,
     "metadata": {},
     "output_type": "execute_result"
    }
   ],
   "source": [
    "type(3.5)"
   ]
  },
  {
   "cell_type": "code",
   "execution_count": 66,
   "metadata": {},
   "outputs": [
    {
     "data": {
      "text/plain": [
       "'왕밤빵'"
      ]
     },
     "execution_count": 66,
     "metadata": {},
     "output_type": "execute_result"
    }
   ],
   "source": [
    "\"왕밤빵\""
   ]
  },
  {
   "cell_type": "code",
   "execution_count": 67,
   "metadata": {},
   "outputs": [
    {
     "data": {
      "text/plain": [
       "str"
      ]
     },
     "execution_count": 67,
     "metadata": {},
     "output_type": "execute_result"
    }
   ],
   "source": [
    "type(\"왕밤빵\") # string (character)(character)(character)(character)"
   ]
  },
  {
   "cell_type": "code",
   "execution_count": 68,
   "metadata": {},
   "outputs": [
    {
     "ename": "NameError",
     "evalue": "name '왕밤빵' is not defined",
     "output_type": "error",
     "traceback": [
      "\u001b[0;31m---------------------------------------------------------------------------\u001b[0m",
      "\u001b[0;31mNameError\u001b[0m                                 Traceback (most recent call last)",
      "\u001b[0;32m<ipython-input-68-3201b13376c5>\u001b[0m in \u001b[0;36m<module>\u001b[0;34m\u001b[0m\n\u001b[0;32m----> 1\u001b[0;31m \u001b[0m왕밤빵\u001b[0m\u001b[0;34m\u001b[0m\u001b[0;34m\u001b[0m\u001b[0m\n\u001b[0m",
      "\u001b[0;31mNameError\u001b[0m: name '왕밤빵' is not defined"
     ]
    }
   ],
   "source": [
    "왕밤빵 # 글자가 \"\" 또는 '' 로 둘러싸여있다면 str, 아니면 변수이름!"
   ]
  },
  {
   "cell_type": "code",
   "execution_count": 69,
   "metadata": {},
   "outputs": [],
   "source": [
    "hello = 1\n",
    "greeting = \"hello\""
   ]
  },
  {
   "cell_type": "code",
   "execution_count": 70,
   "metadata": {},
   "outputs": [
    {
     "data": {
      "text/plain": [
       "1"
      ]
     },
     "execution_count": 70,
     "metadata": {},
     "output_type": "execute_result"
    }
   ],
   "source": [
    "hello"
   ]
  },
  {
   "cell_type": "code",
   "execution_count": 71,
   "metadata": {},
   "outputs": [
    {
     "data": {
      "text/plain": [
       "'hello'"
      ]
     },
     "execution_count": 71,
     "metadata": {},
     "output_type": "execute_result"
    }
   ],
   "source": [
    "greeting"
   ]
  },
  {
   "cell_type": "markdown",
   "metadata": {},
   "source": [
    "#### Type casting"
   ]
  },
  {
   "cell_type": "code",
   "execution_count": 74,
   "metadata": {},
   "outputs": [
    {
     "name": "stdout",
     "output_type": "stream",
     "text": [
      "2\n"
     ]
    }
   ],
   "source": [
    "print(int(\"1\") + 1)"
   ]
  },
  {
   "cell_type": "code",
   "execution_count": 75,
   "metadata": {},
   "outputs": [
    {
     "ename": "ValueError",
     "evalue": "invalid literal for int() with base 10: '안녕하세요'",
     "output_type": "error",
     "traceback": [
      "\u001b[0;31m---------------------------------------------------------------------------\u001b[0m",
      "\u001b[0;31mValueError\u001b[0m                                Traceback (most recent call last)",
      "\u001b[0;32m<ipython-input-75-b771e1eb05d9>\u001b[0m in \u001b[0;36m<module>\u001b[0;34m\u001b[0m\n\u001b[0;32m----> 1\u001b[0;31m \u001b[0mint\u001b[0m\u001b[0;34m(\u001b[0m\u001b[0;34m\"안녕하세요\"\u001b[0m\u001b[0;34m)\u001b[0m\u001b[0;34m\u001b[0m\u001b[0;34m\u001b[0m\u001b[0m\n\u001b[0m",
      "\u001b[0;31mValueError\u001b[0m: invalid literal for int() with base 10: '안녕하세요'"
     ]
    }
   ],
   "source": [
    "int(\"안녕하세요\")"
   ]
  },
  {
   "cell_type": "code",
   "execution_count": 76,
   "metadata": {},
   "outputs": [
    {
     "data": {
      "text/plain": [
       "1.0"
      ]
     },
     "execution_count": 76,
     "metadata": {},
     "output_type": "execute_result"
    }
   ],
   "source": [
    "float(1)"
   ]
  },
  {
   "cell_type": "code",
   "execution_count": 78,
   "metadata": {},
   "outputs": [
    {
     "data": {
      "text/plain": [
       "4"
      ]
     },
     "execution_count": 78,
     "metadata": {},
     "output_type": "execute_result"
    }
   ],
   "source": [
    "int(3.7) + 1"
   ]
  },
  {
   "cell_type": "code",
   "execution_count": 79,
   "metadata": {},
   "outputs": [],
   "source": [
    "# tuple과 list\n",
    "animals = [\"cat\", \"dog\", \"hamster\", \"acorn\"]"
   ]
  },
  {
   "cell_type": "code",
   "execution_count": 81,
   "metadata": {},
   "outputs": [
    {
     "data": {
      "text/plain": [
       "'cat'"
      ]
     },
     "execution_count": 81,
     "metadata": {},
     "output_type": "execute_result"
    }
   ],
   "source": [
    "animals[0]"
   ]
  },
  {
   "cell_type": "code",
   "execution_count": 82,
   "metadata": {},
   "outputs": [
    {
     "ename": "AttributeError",
     "evalue": "'tuple' object has no attribute 'append'",
     "output_type": "error",
     "traceback": [
      "\u001b[0;31m---------------------------------------------------------------------------\u001b[0m",
      "\u001b[0;31mAttributeError\u001b[0m                            Traceback (most recent call last)",
      "\u001b[0;32m<ipython-input-82-81a7bbbc199f>\u001b[0m in \u001b[0;36m<module>\u001b[0;34m\u001b[0m\n\u001b[1;32m      1\u001b[0m \u001b[0manimals\u001b[0m \u001b[0;34m=\u001b[0m \u001b[0;34m(\u001b[0m\u001b[0;34m\"cat\"\u001b[0m\u001b[0;34m,\u001b[0m\u001b[0;34m\"dog\"\u001b[0m\u001b[0;34m)\u001b[0m\u001b[0;34m\u001b[0m\u001b[0;34m\u001b[0m\u001b[0m\n\u001b[0;32m----> 2\u001b[0;31m \u001b[0manimals\u001b[0m\u001b[0;34m.\u001b[0m\u001b[0mappend\u001b[0m\u001b[0;34m(\u001b[0m\u001b[0;34m\"hamster\"\u001b[0m\u001b[0;34m)\u001b[0m\u001b[0;34m\u001b[0m\u001b[0;34m\u001b[0m\u001b[0m\n\u001b[0m",
      "\u001b[0;31mAttributeError\u001b[0m: 'tuple' object has no attribute 'append'"
     ]
    }
   ],
   "source": [
    "animals = (\"cat\",\"dog\")\n",
    "animals.append(\"hamster\") # tuple과 list의 차이: 값을 더 추가할 수 없음"
   ]
  },
  {
   "cell_type": "code",
   "execution_count": 84,
   "metadata": {},
   "outputs": [
    {
     "data": {
      "text/plain": [
       "{'kkobugi', 'pairi', 'pikachu'}"
      ]
     },
     "execution_count": 84,
     "metadata": {},
     "output_type": "execute_result"
    }
   ],
   "source": [
    "# Set, Dictionary\n",
    "pokeball = {'pikachu', 'pairi', 'kkobugi', 'pikachu'}\n",
    "pokeball"
   ]
  },
  {
   "cell_type": "code",
   "execution_count": 91,
   "metadata": {},
   "outputs": [],
   "source": [
    "words = (\"a\", \"b\", \"a\", \"a\")\n",
    "words = tuple(set(words))"
   ]
  },
  {
   "cell_type": "code",
   "execution_count": 92,
   "metadata": {},
   "outputs": [
    {
     "data": {
      "text/plain": [
       "('b', 'a')"
      ]
     },
     "execution_count": 92,
     "metadata": {},
     "output_type": "execute_result"
    }
   ],
   "source": [
    "words"
   ]
  },
  {
   "cell_type": "code",
   "execution_count": 93,
   "metadata": {},
   "outputs": [
    {
     "data": {
      "text/plain": [
       "{'1', '2', '3'}"
      ]
     },
     "execution_count": 93,
     "metadata": {},
     "output_type": "execute_result"
    }
   ],
   "source": [
    "{\"1\",\"2\",\"3\"} # set은 자료형 내부에 값이 나열되어 있음"
   ]
  },
  {
   "cell_type": "code",
   "execution_count": 94,
   "metadata": {},
   "outputs": [],
   "source": [
    "hong = {\n",
    "    \"name\": \"gil-dong, Hong\",\n",
    "    \"phone\": \"+821012341234\",\n",
    "    \"location\": \"Seoul, Korea\" # dict는 key, value가 존재\n",
    "}"
   ]
  },
  {
   "cell_type": "code",
   "execution_count": 95,
   "metadata": {},
   "outputs": [
    {
     "data": {
      "text/plain": [
       "'gil-dong, Hong'"
      ]
     },
     "execution_count": 95,
     "metadata": {},
     "output_type": "execute_result"
    }
   ],
   "source": [
    "hong[\"name\"]"
   ]
  },
  {
   "cell_type": "code",
   "execution_count": 96,
   "metadata": {},
   "outputs": [
    {
     "data": {
      "text/plain": [
       "'홍길동'"
      ]
     },
     "execution_count": 96,
     "metadata": {},
     "output_type": "execute_result"
    }
   ],
   "source": [
    "hong = [\"홍길동\", \"+82101010101\", \"Seoul, Korea\"]\n",
    "hong[0]"
   ]
  },
  {
   "cell_type": "code",
   "execution_count": 103,
   "metadata": {},
   "outputs": [
    {
     "name": "stdout",
     "output_type": "stream",
     "text": [
      "hello\n",
      "world\thello, python\n"
     ]
    }
   ],
   "source": [
    "print(\"hello\",\"world\", sep='\\n', end='\\t')\n",
    "print(\"hello, python\")"
   ]
  },
  {
   "cell_type": "code",
   "execution_count": 104,
   "metadata": {},
   "outputs": [],
   "source": [
    "print? #도움말"
   ]
  },
  {
   "cell_type": "code",
   "execution_count": 105,
   "metadata": {},
   "outputs": [
    {
     "name": "stdout",
     "output_type": "stream",
     "text": [
      "안녕하세요. 당신의 이름은?홍길동\n"
     ]
    },
    {
     "data": {
      "text/plain": [
       "'홍길동'"
      ]
     },
     "execution_count": 105,
     "metadata": {},
     "output_type": "execute_result"
    }
   ],
   "source": [
    "input(\"안녕하세요. 당신의 이름은?\") # 사용자 입력"
   ]
  },
  {
   "cell_type": "code",
   "execution_count": 111,
   "metadata": {},
   "outputs": [
    {
     "name": "stdout",
     "output_type": "stream",
     "text": [
      "안녕하세요. 당신의 이름은?12\n"
     ]
    }
   ],
   "source": [
    "your_name = input(\"안녕하세요. 당신의 이름은?\")"
   ]
  },
  {
   "cell_type": "code",
   "execution_count": 112,
   "metadata": {},
   "outputs": [
    {
     "data": {
      "text/plain": [
       "'12'"
      ]
     },
     "execution_count": 112,
     "metadata": {},
     "output_type": "execute_result"
    }
   ],
   "source": [
    "your_name"
   ]
  },
  {
   "cell_type": "code",
   "execution_count": 113,
   "metadata": {},
   "outputs": [
    {
     "data": {
      "text/plain": [
       "str"
      ]
     },
     "execution_count": 113,
     "metadata": {},
     "output_type": "execute_result"
    }
   ],
   "source": [
    "type(your_name)"
   ]
  },
  {
   "cell_type": "code",
   "execution_count": 116,
   "metadata": {},
   "outputs": [
    {
     "name": "stdout",
     "output_type": "stream",
     "text": [
      "당신의 나이는 얼마입니까?12\n"
     ]
    }
   ],
   "source": [
    "your_age = int(input(\"당신의 나이는 얼마입니까?\"))"
   ]
  },
  {
   "cell_type": "code",
   "execution_count": 117,
   "metadata": {},
   "outputs": [
    {
     "data": {
      "text/plain": [
       "False"
      ]
     },
     "execution_count": 117,
     "metadata": {},
     "output_type": "execute_result"
    }
   ],
   "source": [
    "your_age > 19"
   ]
  },
  {
   "cell_type": "code",
   "execution_count": 121,
   "metadata": {},
   "outputs": [
    {
     "name": "stdout",
     "output_type": "stream",
     "text": [
      "계산하고 싶은 반지름을 입력하세요 Human >10\n",
      "20\n",
      "62.830000000000005\n",
      "314.15000000000003\n",
      "4188.666666666666\n"
     ]
    }
   ],
   "source": [
    "pi = 3.1415\n",
    "\n",
    "r = int(input(\"계산하고 싶은 반지름을 입력하세요 Human >\"))\n",
    "\n",
    "gi_reum = 2 * r\n",
    "dul_re = 2 * pi * r\n",
    "nul_be = pi * r ** 2\n",
    "volume = 4 / 3 * pi * r ** 3\n",
    "print(gi_reum, dul_re, nul_be, volume, sep='\\n')"
   ]
  },
  {
   "cell_type": "code",
   "execution_count": 122,
   "metadata": {},
   "outputs": [],
   "source": [
    "some_string = \"Today, I'm not doing anyting. And python is great language.\""
   ]
  },
  {
   "cell_type": "code",
   "execution_count": 125,
   "metadata": {},
   "outputs": [
    {
     "data": {
      "text/plain": [
       "1"
      ]
     },
     "execution_count": 125,
     "metadata": {},
     "output_type": "execute_result"
    }
   ],
   "source": [
    "some_string.count(\"Today\")"
   ]
  },
  {
   "cell_type": "code",
   "execution_count": 126,
   "metadata": {},
   "outputs": [
    {
     "data": {
      "text/plain": [
       "11"
      ]
     },
     "execution_count": 126,
     "metadata": {},
     "output_type": "execute_result"
    }
   ],
   "source": [
    "some_string.find(\"not\")"
   ]
  },
  {
   "cell_type": "code",
   "execution_count": 130,
   "metadata": {},
   "outputs": [
    {
     "data": {
      "text/plain": [
       "'안fast녕fast하fast세fast요'"
      ]
     },
     "execution_count": 130,
     "metadata": {},
     "output_type": "execute_result"
    }
   ],
   "source": [
    "result = \"fast\".join(\"안녕하세요\")\n",
    "result"
   ]
  },
  {
   "cell_type": "code",
   "execution_count": 131,
   "metadata": {},
   "outputs": [
    {
     "data": {
      "text/plain": [
       "['안', '녕', '하', '세', '요']"
      ]
     },
     "execution_count": 131,
     "metadata": {},
     "output_type": "execute_result"
    }
   ],
   "source": [
    "result.split(\"fast\")"
   ]
  },
  {
   "cell_type": "code",
   "execution_count": 132,
   "metadata": {},
   "outputs": [
    {
     "data": {
      "text/plain": [
       "['오늘은', '날씨가', '참', '좋군요.']"
      ]
     },
     "execution_count": 132,
     "metadata": {},
     "output_type": "execute_result"
    }
   ],
   "source": [
    "\"오늘은 날씨가 참 좋군요.\".split(\" \")"
   ]
  },
  {
   "cell_type": "code",
   "execution_count": 133,
   "metadata": {},
   "outputs": [
    {
     "data": {
      "text/plain": [
       "'오늘은 기부니가 참 좋군요.'"
      ]
     },
     "execution_count": 133,
     "metadata": {},
     "output_type": "execute_result"
    }
   ],
   "source": [
    "\"오늘은 날씨가 참 좋군요.\".replace(\"날씨가\", \"기부니가\")"
   ]
  },
  {
   "cell_type": "code",
   "execution_count": 134,
   "metadata": {},
   "outputs": [
    {
     "data": {
      "text/plain": [
       "'안녕하세요'"
      ]
     },
     "execution_count": 134,
     "metadata": {},
     "output_type": "execute_result"
    }
   ],
   "source": [
    "\"    안녕하세요     \".strip()"
   ]
  },
  {
   "cell_type": "code",
   "execution_count": 135,
   "metadata": {},
   "outputs": [
    {
     "data": {
      "text/plain": [
       "'안녕하세요'"
      ]
     },
     "execution_count": 135,
     "metadata": {},
     "output_type": "execute_result"
    }
   ],
   "source": [
    "\"    .....!!!!안녕하세요,,,,////     \".strip(\" .!/,\")"
   ]
  },
  {
   "cell_type": "code",
   "execution_count": 136,
   "metadata": {},
   "outputs": [],
   "source": [
    "names = [\"a\", \"b\", \"c\"]\n",
    "companys = [\"dd\", \"ee\", \"ff\"]"
   ]
  },
  {
   "cell_type": "code",
   "execution_count": 141,
   "metadata": {},
   "outputs": [
    {
     "name": "stdout",
     "output_type": "stream",
     "text": [
      "[('a', 'dd'), ('b', 'ee'), ('c', 'ff')]\n",
      "안녕하세요 dd 의 a 님. 오랜만에 연락드립니다.\n",
      "안녕하세요 ee 의 b 님. 오랜만에 연락드립니다.\n",
      "안녕하세요 ff 의 c 님. 오랜만에 연락드립니다.\n"
     ]
    }
   ],
   "source": [
    "# String formating\n",
    "\n",
    "# Level1 : 한문장 한문장 손수 만들기\n",
    "#\"안녕하세요 dd 의 a 님. 오랜만에 연락드립니다.\"\n",
    "#\"안녕하세요 ee 의 b 님. 오랜만에 연락드립니다.\"\n",
    "#\"안녕하세요 ff 의 c 님. 오랜만에 연락드립니다.\"\n",
    "\n",
    "# Level2 : format 기능으로 채워넣기를 손수 하기\n",
    "#\"안녕하세요 {} 의 {} 님. 오랜만에 연락드립니다.\".format(\"dd\", \"a\")\n",
    "\n",
    "# Level3 : 이름과 회사 리스트를 미리 작성해두고 자동화시키기\n",
    "\n",
    "print(list(zip(names, companys))) # zip을 하면 두개의 리스트를 합칠 수 있습니다\n",
    "for name, company in zip(names, companys): # 합친 리스트의 앞 뒷값으로\n",
    "    print(\"안녕하세요 {0} 의 {1} 님. 오랜만에 연락드립니다.\".format(company, name))"
   ]
  },
  {
   "cell_type": "code",
   "execution_count": 152,
   "metadata": {},
   "outputs": [
    {
     "data": {
      "text/plain": [
       "[]"
      ]
     },
     "execution_count": 152,
     "metadata": {},
     "output_type": "execute_result"
    }
   ],
   "source": [
    "animals = []\n",
    "animals"
   ]
  },
  {
   "cell_type": "code",
   "execution_count": 153,
   "metadata": {},
   "outputs": [],
   "source": [
    "animals.append(\"cat\")"
   ]
  },
  {
   "cell_type": "code",
   "execution_count": 154,
   "metadata": {},
   "outputs": [
    {
     "data": {
      "text/plain": [
       "['cat']"
      ]
     },
     "execution_count": 154,
     "metadata": {},
     "output_type": "execute_result"
    }
   ],
   "source": [
    "animals"
   ]
  },
  {
   "cell_type": "code",
   "execution_count": 155,
   "metadata": {},
   "outputs": [
    {
     "data": {
      "text/plain": [
       "['dog', 'hamster']"
      ]
     },
     "execution_count": 155,
     "metadata": {},
     "output_type": "execute_result"
    }
   ],
   "source": [
    "animals = [\"dog\", \"hamster\"]\n",
    "animals"
   ]
  },
  {
   "cell_type": "code",
   "execution_count": 156,
   "metadata": {},
   "outputs": [
    {
     "data": {
      "text/plain": [
       "['dog', 'cat', 'hamster']"
      ]
     },
     "execution_count": 156,
     "metadata": {},
     "output_type": "execute_result"
    }
   ],
   "source": [
    "animals.insert(1, \"cat\")\n",
    "animals"
   ]
  },
  {
   "cell_type": "code",
   "execution_count": 157,
   "metadata": {},
   "outputs": [
    {
     "data": {
      "text/plain": [
       "1"
      ]
     },
     "execution_count": 157,
     "metadata": {},
     "output_type": "execute_result"
    }
   ],
   "source": [
    "animals.index(\"cat\")"
   ]
  },
  {
   "cell_type": "code",
   "execution_count": 160,
   "metadata": {},
   "outputs": [
    {
     "data": {
      "text/plain": [
       "'cat'"
      ]
     },
     "execution_count": 160,
     "metadata": {},
     "output_type": "execute_result"
    }
   ],
   "source": [
    "animals[1]"
   ]
  },
  {
   "cell_type": "code",
   "execution_count": 161,
   "metadata": {},
   "outputs": [
    {
     "data": {
      "text/plain": [
       "['dog', 'cat']"
      ]
     },
     "execution_count": 161,
     "metadata": {},
     "output_type": "execute_result"
    }
   ],
   "source": [
    "animals.remove(\"hamster\")\n",
    "animals"
   ]
  },
  {
   "cell_type": "code",
   "execution_count": 162,
   "metadata": {},
   "outputs": [
    {
     "data": {
      "text/plain": [
       "'cat'"
      ]
     },
     "execution_count": 162,
     "metadata": {},
     "output_type": "execute_result"
    }
   ],
   "source": [
    "some_animal = animals.pop()\n",
    "some_animal"
   ]
  },
  {
   "cell_type": "code",
   "execution_count": 163,
   "metadata": {},
   "outputs": [
    {
     "data": {
      "text/plain": [
       "['dog']"
      ]
     },
     "execution_count": 163,
     "metadata": {},
     "output_type": "execute_result"
    }
   ],
   "source": [
    "animals"
   ]
  },
  {
   "cell_type": "code",
   "execution_count": 164,
   "metadata": {},
   "outputs": [],
   "source": [
    "animals = [\"dog\", \"cat\", \"hamster\", \"aligator\", \"cameleon\"]"
   ]
  },
  {
   "cell_type": "code",
   "execution_count": 165,
   "metadata": {},
   "outputs": [
    {
     "data": {
      "text/plain": [
       "'hamster'"
      ]
     },
     "execution_count": 165,
     "metadata": {},
     "output_type": "execute_result"
    }
   ],
   "source": [
    "third_animal = animals.pop(2)\n",
    "third_animal"
   ]
  },
  {
   "cell_type": "code",
   "execution_count": 166,
   "metadata": {},
   "outputs": [
    {
     "data": {
      "text/plain": [
       "['dog', 'cat', 'aligator', 'cameleon']"
      ]
     },
     "execution_count": 166,
     "metadata": {},
     "output_type": "execute_result"
    }
   ],
   "source": [
    "animals"
   ]
  },
  {
   "cell_type": "code",
   "execution_count": 167,
   "metadata": {},
   "outputs": [
    {
     "data": {
      "text/plain": [
       "'aligator'"
      ]
     },
     "execution_count": 167,
     "metadata": {},
     "output_type": "execute_result"
    }
   ],
   "source": [
    "result = animals.pop(animals.index(\"aligator\"))\n",
    "result"
   ]
  },
  {
   "cell_type": "code",
   "execution_count": 171,
   "metadata": {},
   "outputs": [],
   "source": [
    "numbers = [1, 100, 67, -100, 3.14, 2.71828, 1.414]"
   ]
  },
  {
   "cell_type": "code",
   "execution_count": 172,
   "metadata": {},
   "outputs": [
    {
     "data": {
      "text/plain": [
       "[-100, 1, 1.414, 2.71828, 3.14, 67, 100]"
      ]
     },
     "execution_count": 172,
     "metadata": {},
     "output_type": "execute_result"
    }
   ],
   "source": [
    "numbers.sort()\n",
    "numbers"
   ]
  },
  {
   "cell_type": "code",
   "execution_count": 173,
   "metadata": {},
   "outputs": [
    {
     "data": {
      "text/plain": [
       "[100, 67, 3.14, 2.71828, 1.414, 1, -100]"
      ]
     },
     "execution_count": 173,
     "metadata": {},
     "output_type": "execute_result"
    }
   ],
   "source": [
    "numbers.reverse()\n",
    "numbers"
   ]
  },
  {
   "cell_type": "code",
   "execution_count": 174,
   "metadata": {
    "scrolled": true
   },
   "outputs": [
    {
     "data": {
      "text/plain": [
       "[100, 67, 3.14, 2.71828, 1.414, 1, -100]"
      ]
     },
     "execution_count": 174,
     "metadata": {},
     "output_type": "execute_result"
    }
   ],
   "source": [
    "numbers = [1, 100, 67, -100, 3.14, 2.71828, 1.414]\n",
    "numbers.sort(reverse=True)\n",
    "numbers"
   ]
  },
  {
   "cell_type": "markdown",
   "metadata": {},
   "source": [
    "## 조건문"
   ]
  },
  {
   "cell_type": "code",
   "execution_count": 177,
   "metadata": {},
   "outputs": [
    {
     "name": "stdout",
     "output_type": "stream",
     "text": [
      "3 is bigger than 2.\n"
     ]
    }
   ],
   "source": [
    "#if condition:\n",
    "#    statement\n",
    "\n",
    "if 3 > 2:\n",
    "    print(\"3 is bigger than 2.\")"
   ]
  },
  {
   "cell_type": "code",
   "execution_count": 178,
   "metadata": {},
   "outputs": [
    {
     "name": "stdout",
     "output_type": "stream",
     "text": [
      "something wrong..\n"
     ]
    }
   ],
   "source": [
    "if 3 < 2:\n",
    "    print(\"3 is bigger than 2.\")\n",
    "else:\n",
    "    print(\"something wrong..\")"
   ]
  },
  {
   "cell_type": "code",
   "execution_count": 180,
   "metadata": {},
   "outputs": [
    {
     "name": "stdout",
     "output_type": "stream",
     "text": [
      "pick the num 1 to 100:9\n",
      "Odd\n"
     ]
    }
   ],
   "source": [
    "user_num = int(input(\"pick the num 1 to 100:\"))\n",
    "\n",
    "if user_num % 2 == 0:\n",
    "    print(\"Even\")\n",
    "else:\n",
    "    print(\"Odd\")"
   ]
  },
  {
   "cell_type": "code",
   "execution_count": 187,
   "metadata": {},
   "outputs": [
    {
     "name": "stdout",
     "output_type": "stream",
     "text": [
      "pick the num 1 to 100:6\n",
      "Even\n"
     ]
    }
   ],
   "source": [
    "user_num = int(input(\"pick the num 1 to 100:\"))\n",
    "\n",
    "if user_num % 2 == 0:\n",
    "    print(\"Even\")\n",
    "else:\n",
    "    if user_num % 3 == 0:\n",
    "        print(\"times of 3\")\n",
    "    else:\n",
    "        print(\"2의 배수도, 3의 배수도 아님.\")"
   ]
  },
  {
   "cell_type": "code",
   "execution_count": null,
   "metadata": {},
   "outputs": [],
   "source": [
    "user_num = int(input(\"pick the num 1 to 100:\"))\n",
    "\n",
    "if user_num % 2 == 0:\n",
    "    print(\"Even\")\n",
    "elif user_num % 3 == 0:\n",
    "    print(\"3의 배수\")\n",
    "elif user_num % 5 == 0:\n",
    "    print(\"5의 배수\")\n",
    "else:\n",
    "    print(\"2의 배수도, 3의 배수도 아님.\")"
   ]
  },
  {
   "cell_type": "markdown",
   "metadata": {},
   "source": [
    "## Numguess"
   ]
  },
  {
   "cell_type": "code",
   "execution_count": 201,
   "metadata": {},
   "outputs": [
    {
     "data": {
      "text/plain": [
       "62"
      ]
     },
     "execution_count": 201,
     "metadata": {},
     "output_type": "execute_result"
    }
   ],
   "source": [
    "random.randint(1,100)"
   ]
  },
  {
   "cell_type": "code",
   "execution_count": 208,
   "metadata": {},
   "outputs": [
    {
     "name": "stdout",
     "output_type": "stream",
     "text": [
      "17\n",
      "1부터 100 사이의 정수를 입력하십시오 Human.17\n",
      "<class 'int'>\n",
      "정답입니다.\n"
     ]
    }
   ],
   "source": [
    "answer = random.randint(1,100)\n",
    "print(answer)\n",
    "\n",
    "# 사용자로부터 값을 입력받아야 함\n",
    "guess = int(input(\"1부터 100 사이의 정수를 입력하십시오 Human.\"))\n",
    "print(type(guess))\n",
    "# 그 값으로 정답과 비교하는 조건문 하나\n",
    "if guess == answer:\n",
    "    print(\"정답입니다.\")\n",
    "else:\n",
    "    print(\"틀렸으니 1BTC를 전송하시오.\")"
   ]
  },
  {
   "cell_type": "code",
   "execution_count": null,
   "metadata": {},
   "outputs": [],
   "source": [
    "# 숙제1: numguess에 추가하고싶은 기능 생각해보기(2개정도)\n",
    "\n",
    "# 숙제2: 사용자가 1~100 사이의 정수를 입력할때 \n",
    "# 그 값이 3의 배수 일때는 \"fizz\"\n",
    "# 5의 배수 일때는 \"buzz\"\n",
    "# 15의 배수일때는 \"fizzbuzz\"\n",
    "# 나머지 경우는 그냥 그 수를 출력해주세요"
   ]
  }
 ],
 "metadata": {
  "kernelspec": {
   "display_name": "Python 3",
   "language": "python",
   "name": "python3"
  },
  "language_info": {
   "codemirror_mode": {
    "name": "ipython",
    "version": 3
   },
   "file_extension": ".py",
   "mimetype": "text/x-python",
   "name": "python",
   "nbconvert_exporter": "python",
   "pygments_lexer": "ipython3",
   "version": "3.7.4"
  }
 },
 "nbformat": 4,
 "nbformat_minor": 2
}
