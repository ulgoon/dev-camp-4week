{
 "cells": [
  {
   "cell_type": "code",
   "execution_count": 23,
   "metadata": {},
   "outputs": [],
   "source": [
    "import random"
   ]
  },
  {
   "cell_type": "markdown",
   "metadata": {},
   "source": [
    "## Fizzbuzz"
   ]
  },
  {
   "cell_type": "code",
   "execution_count": 3,
   "metadata": {},
   "outputs": [
    {
     "name": "stdout",
     "output_type": "stream",
     "text": [
      "1부터 100사이의 숫자(소수안됨) 하나만 입력하세요: 1\n",
      "1\n"
     ]
    }
   ],
   "source": [
    "user_num = int(input(\"1부터 100사이의 숫자(소수안됨) 하나만 입력하세요: \"))\n",
    "if user_num % 15 == 0:\n",
    "    print(\"fizzbuzz\")\n",
    "elif user_num % 3 == 0:\n",
    "    print(\"fizz\")\n",
    "elif user_num % 5 == 0:\n",
    "    print(\"buzz\")\n",
    "else:\n",
    "    print(user_num)"
   ]
  },
  {
   "cell_type": "markdown",
   "metadata": {},
   "source": [
    "## Iteration"
   ]
  },
  {
   "cell_type": "code",
   "execution_count": 4,
   "metadata": {},
   "outputs": [
    {
     "name": "stdout",
     "output_type": "stream",
     "text": [
      "1\n",
      "2\n",
      "3\n",
      "4\n",
      "5\n",
      "6\n",
      "7\n",
      "8\n",
      "9\n",
      "10\n"
     ]
    }
   ],
   "source": [
    "for i in range(1,10+1):\n",
    "    print(i)"
   ]
  },
  {
   "cell_type": "code",
   "execution_count": 6,
   "metadata": {},
   "outputs": [
    {
     "data": {
      "text/plain": [
       "[1, 2, 3, 4, 5, 6, 7, 8, 9, 10]"
      ]
     },
     "execution_count": 6,
     "metadata": {},
     "output_type": "execute_result"
    }
   ],
   "source": [
    "list(range(1,10+1))"
   ]
  },
  {
   "cell_type": "code",
   "execution_count": 7,
   "metadata": {},
   "outputs": [
    {
     "name": "stdout",
     "output_type": "stream",
     "text": [
      "How lovely cat\n",
      "How lovely dog\n",
      "How lovely hamster\n"
     ]
    }
   ],
   "source": [
    "animals = [\"cat\", \"dog\", \"hamster\"]\n",
    "for animal in animals:\n",
    "    print(\"How lovely {}\".format(animal))"
   ]
  },
  {
   "cell_type": "code",
   "execution_count": 12,
   "metadata": {},
   "outputs": [
    {
     "name": "stdout",
     "output_type": "stream",
     "text": [
      "1위는 강남역입니다.\n",
      "2위는 강남 결혼입니다.\n",
      "3위는 강남 맛집입니다.\n"
     ]
    }
   ],
   "source": [
    "querys = [(1,\"강남역\",True), (2,\"강남 결혼\",False), (3,\"강남 맛집\",True)]\n",
    "for query in querys:\n",
    "    print(\"{}위는 {}입니다.\".format(query[0],query[1]))\n",
    "    "
   ]
  },
  {
   "cell_type": "code",
   "execution_count": 13,
   "metadata": {},
   "outputs": [
    {
     "name": "stdout",
     "output_type": "stream",
     "text": [
      "1위는 강남역입니다. 그리고 True입니다.\n",
      "2위는 강남 결혼입니다. 그리고 False입니다.\n",
      "3위는 강남 맛집입니다. 그리고 True입니다.\n"
     ]
    }
   ],
   "source": [
    "for rank, query, hidden in querys:\n",
    "    print(\"{}위는 {}입니다. 그리고 {}입니다.\".format(rank,query, hidden))"
   ]
  },
  {
   "cell_type": "code",
   "execution_count": null,
   "metadata": {},
   "outputs": [],
   "source": [
    "#while True: => 무한반복 Infinite loop\n",
    "#    print(\"hello\") "
   ]
  },
  {
   "cell_type": "code",
   "execution_count": 21,
   "metadata": {},
   "outputs": [
    {
     "name": "stdout",
     "output_type": "stream",
     "text": [
      "2\n",
      "4\n",
      "6\n",
      "8\n"
     ]
    }
   ],
   "source": [
    "i=0\n",
    "while True:\n",
    "    i = i + 1\n",
    "    if i == 10:\n",
    "        break\n",
    "    elif i % 2 == 0:\n",
    "        continue\n",
    "    print(i)"
   ]
  },
  {
   "cell_type": "code",
   "execution_count": 18,
   "metadata": {},
   "outputs": [
    {
     "data": {
      "text/plain": [
       "True"
      ]
     },
     "execution_count": 18,
     "metadata": {},
     "output_type": "execute_result"
    }
   ],
   "source": [
    "1 == True"
   ]
  },
  {
   "cell_type": "code",
   "execution_count": 19,
   "metadata": {},
   "outputs": [
    {
     "data": {
      "text/plain": [
       "True"
      ]
     },
     "execution_count": 19,
     "metadata": {},
     "output_type": "execute_result"
    }
   ],
   "source": [
    "0 == False"
   ]
  },
  {
   "cell_type": "code",
   "execution_count": 22,
   "metadata": {},
   "outputs": [
    {
     "name": "stdout",
     "output_type": "stream",
     "text": [
      "Type your name? fastcampus\n",
      "Hello, fastcampus\n",
      "Continue?(y/n)y\n",
      "Congrats!\n",
      "Type your name? fastcampus\n",
      "Hello, fastcampus\n",
      "Continue?(y/n)n\n"
     ]
    }
   ],
   "source": [
    "cont = True\n",
    "while cont:\n",
    "    user_name = input(\"Type your name? \")\n",
    "    print(\"Hello, {}\".format(user_name))\n",
    "    renew = input(\"Continue?(y/n)\")\n",
    "    if renew == \"y\":\n",
    "        print(\"Congrats!\")\n",
    "    elif renew == \"n\":\n",
    "        cont = False\n",
    "    else:\n",
    "        print(\"Anyway, We'll moving.\")"
   ]
  },
  {
   "cell_type": "markdown",
   "metadata": {},
   "source": [
    "## Numguess refactoring"
   ]
  },
  {
   "cell_type": "code",
   "execution_count": 41,
   "metadata": {
    "scrolled": true
   },
   "outputs": [
    {
     "name": "stdout",
     "output_type": "stream",
     "text": [
      "17\n",
      "What is your name?fastcampus\n",
      "Hi, fastcampus. guess the num 1 to 100 >1\n",
      "Larger than your number, fastcampus.\n",
      "Try again!\n",
      "Hi, fastcampus. guess the num 1 to 100 >1\n",
      "Larger than your number, fastcampus.\n",
      "Try again!\n",
      "Hi, fastcampus. guess the num 1 to 100 >1\n",
      "Larger than your number, fastcampus.\n",
      "Try again!\n",
      "Hi, fastcampus. guess the num 1 to 100 >1\n",
      "Larger than your number, fastcampus.\n",
      "Try again!\n",
      "Hi, fastcampus. guess the num 1 to 100 >1\n",
      "Larger than your number, fastcampus.\n",
      "Game over..\n"
     ]
    }
   ],
   "source": [
    "# idea to improve\n",
    "# 1. hint -> up and down\n",
    "# 2. limit trial -> 5 : complete\n",
    "# 3. bitcoin reward : drop\n",
    "\n",
    "answer = random.randint(1,100)\n",
    "print(answer)\n",
    "user_name = input(\"What is your name?\")\n",
    "\n",
    "trial = 5\n",
    "while trial > 0:\n",
    "    guess = int(input(\"Hi, {}. guess the num 1 to 100 >\".format(user_name)))\n",
    "    if guess == answer:\n",
    "        print(\"Congrats, {}!!\".format(user_name))\n",
    "        break\n",
    "    elif guess > answer:\n",
    "        trial -= 1\n",
    "        print(\"Lesser than your number, {}.\".format(user_name))\n",
    "    elif guess < answer:\n",
    "        trial -= 1\n",
    "        print(\"Larger than your number, {}.\".format(user_name))\n",
    "    else:\n",
    "        print(\"What are you doing?\")\n",
    "        break\n",
    "        \n",
    "    if trial > 0:\n",
    "        print(\"Try again!\")\n",
    "    else:\n",
    "        print(\"Game over..\")"
   ]
  },
  {
   "cell_type": "code",
   "execution_count": 43,
   "metadata": {},
   "outputs": [
    {
     "data": {
      "text/plain": [
       "[2,\n",
       " 4,\n",
       " 6,\n",
       " 8,\n",
       " 10,\n",
       " 12,\n",
       " 14,\n",
       " 16,\n",
       " 18,\n",
       " 20,\n",
       " 22,\n",
       " 24,\n",
       " 26,\n",
       " 28,\n",
       " 30,\n",
       " 32,\n",
       " 34,\n",
       " 36,\n",
       " 38,\n",
       " 40,\n",
       " 42,\n",
       " 44,\n",
       " 46,\n",
       " 48,\n",
       " 50,\n",
       " 52,\n",
       " 54,\n",
       " 56,\n",
       " 58,\n",
       " 60,\n",
       " 62,\n",
       " 64,\n",
       " 66,\n",
       " 68,\n",
       " 70,\n",
       " 72,\n",
       " 74,\n",
       " 76,\n",
       " 78,\n",
       " 80,\n",
       " 82,\n",
       " 84,\n",
       " 86,\n",
       " 88,\n",
       " 90,\n",
       " 92,\n",
       " 94,\n",
       " 96,\n",
       " 98,\n",
       " 100,\n",
       " 102,\n",
       " 104,\n",
       " 106,\n",
       " 108,\n",
       " 110,\n",
       " 112,\n",
       " 114,\n",
       " 116,\n",
       " 118,\n",
       " 120,\n",
       " 122,\n",
       " 124,\n",
       " 126,\n",
       " 128,\n",
       " 130,\n",
       " 132,\n",
       " 134,\n",
       " 136,\n",
       " 138,\n",
       " 140,\n",
       " 142,\n",
       " 144,\n",
       " 146,\n",
       " 148,\n",
       " 150,\n",
       " 152,\n",
       " 154,\n",
       " 156,\n",
       " 158,\n",
       " 160,\n",
       " 162,\n",
       " 164,\n",
       " 166,\n",
       " 168,\n",
       " 170,\n",
       " 172,\n",
       " 174,\n",
       " 176,\n",
       " 178,\n",
       " 180,\n",
       " 182,\n",
       " 184,\n",
       " 186,\n",
       " 188,\n",
       " 190,\n",
       " 192,\n",
       " 194,\n",
       " 196,\n",
       " 198]"
      ]
     },
     "execution_count": 43,
     "metadata": {},
     "output_type": "execute_result"
    }
   ],
   "source": [
    "[i*2 for i in range(1,100)] # List comprehension"
   ]
  },
  {
   "cell_type": "code",
   "execution_count": null,
   "metadata": {},
   "outputs": [],
   "source": [
    "# Challenge\n",
    "# 아래의 리스트의 모든 요소를 반복하면서 5의 배수라면 해당 수와 함께 5의 배수임을 알려주세요\n",
    "# ex) \"10는 5의 배수 입니다.\"\n",
    "\n",
    "num_list = [0, -1, 10, 3.14, 2.71828, 10000, 2736, 2847, 25, 287, 1, 50]"
   ]
  }
 ],
 "metadata": {
  "kernelspec": {
   "display_name": "Python 3",
   "language": "python",
   "name": "python3"
  },
  "language_info": {
   "codemirror_mode": {
    "name": "ipython",
    "version": 3
   },
   "file_extension": ".py",
   "mimetype": "text/x-python",
   "name": "python",
   "nbconvert_exporter": "python",
   "pygments_lexer": "ipython3",
   "version": "3.7.4"
  }
 },
 "nbformat": 4,
 "nbformat_minor": 2
}
