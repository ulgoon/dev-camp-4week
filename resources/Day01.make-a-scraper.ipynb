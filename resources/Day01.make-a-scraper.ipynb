{
 "cells": [
  {
   "cell_type": "code",
   "execution_count": 2,
   "metadata": {},
   "outputs": [
    {
     "name": "stdout",
     "output_type": "stream",
     "text": [
      "hello, world!\n"
     ]
    }
   ],
   "source": [
    "print('hello, world!')"
   ]
  },
  {
   "cell_type": "code",
   "execution_count": 3,
   "metadata": {},
   "outputs": [
    {
     "name": "stdout",
     "output_type": "stream",
     "text": [
      "hello, world!\n",
      "hello, world!\n",
      "hello, world!\n"
     ]
    }
   ],
   "source": [
    "print('hello, world!')\n",
    "print('hello, world!')\n",
    "print('hello, world!')"
   ]
  },
  {
   "cell_type": "code",
   "execution_count": 4,
   "metadata": {},
   "outputs": [],
   "source": [
    "import requests\n",
    "from bs4 import BeautifulSoup\n",
    "import lxml"
   ]
  },
  {
   "cell_type": "code",
   "execution_count": 5,
   "metadata": {},
   "outputs": [],
   "source": [
    "response = requests.get('https://www.google.com')"
   ]
  },
  {
   "cell_type": "code",
   "execution_count": 6,
   "metadata": {},
   "outputs": [
    {
     "data": {
      "text/plain": [
       "'<!doctype html><html itemscope=\"\" itemtype=\"http://schema.org/WebPage\" lang=\"ko\"><head><meta content=\"text/html; charset=UTF-8\" http-equiv=\"Content-Type\"><meta content=\"/images/branding/googleg/1x/googleg_standard_color_128dp.png\" itemprop=\"image\"><title>Google</title><script nonce=\"pRNhFUy3mg0iUGRILPWBpA==\">(function(){window.google={kEI:\\'nlfrXfPcJIGxmAXs9rSYBg\\',kEXPI:\\'0,202054,1151693,5662,731,223,1575,3151,378,207,1017,2187,10,713,338,175,364,123,819,33,144,35,3,278,4,60,315,411,15,236,5,271,140,42,1128993,143,1197731,418,329118,1294,12383,4855,32691,15248,867,19397,9287,369,3314,5505,8384,1119,2,579,727,2432,1361,4323,4967,774,2253,7859,6196,1719,1808,1976,2044,8909,3192,2103,2018,38,918,875,1217,1710,1,1264,2736,3061,2,631,3240,4192,3874,2884,20,317,4148,1,372,2774,519,400,992,1286,7,2796,967,601,11,14,667,612,1042,1172,200,328,1252,327,513,324,193,1474,48,820,3438,260,52,1137,2,2063,606,789,1050,184,595,1182,520,257,1690,418,329,219,210,44,1009,93,328,1284,16,84,336,82,2425,1639,607,474,1339,748,1039,2269,1,824,133,773,1548,524,7,728,89,503,1574,1879,826,689,91,117,1137,5059,1402,52,2832,258,581,111,474,391,65,1042,1176,1282,1059,565,1060,4,700,142,1227,361,1504,1275,1344,36,1001,566,16,71,481,809,99,2,433,507,425,290,374,584,110,1,45,420,5,361,128,1234,10,502,523,345,16,59,8,380,707,7,3,341,85,495,90,696,2,1124,362,285,6,53,82,273,162,46,13,4,402,6,16,443,129,147,1470,53,65,1,118,20,6,124,15,138,329,113,81,292,224,432,275,28,753,970,4,2,456,69,334,331,5862724,1805894,4194851,2799595,4,1572,549,333,444,1,2,80,1,900,896,1,8,1,2,2551,1,748,141,59,736,563,1,4265,1,1,1,1,10,466,116,7,115,2,18,2,30,3,1,5,10,3,2,53,58,3,23964831\\',authuser:0,kscs:\\'c9c918f0_nlfrXfPcJIGxmAXs9rSYBg\\',kGL:\\'KR\\',kBL:\\'moIH\\'};google.sn=\\'webhp\\';google.kHL=\\'ko\\';google.jsfs=\\'Ffpdje\\';})();(function(){google.lc=[];google.li=0;google.getEI=function(a){for(var b;a&&(!a.getAttribute||!(b=a.getAttribute(\"eid\")));)a=a.parentNode;return b||google.kEI};google.getLEI=function(a){for(var b=null;a&&(!a.getAttribute||!(b=a.getAttribute(\"leid\")));)a=a.parentNode;return b};google.https=function(){return\"https:\"==window.location.protocol};google.ml=function(){return null};google.time=function(){return(new Date).getTime()};google.log=function(a,b,e,c,g){if(a=google.logUrl(a,b,e,c,g)){b=new Image;var d=google.lc,f=google.li;d[f]=b;b.onerror=b.onload=b.onabort=function(){delete d[f]};google.vel&&google.vel.lu&&google.vel.lu(a);b.src=a;google.li=f+1}};google.logUrl=function(a,b,e,c,g){var d=\"\",f=google.ls||\"\";e||-1!=b.search(\"&ei=\")||(d=\"&ei=\"+google.getEI(c),-1==b.search(\"&lei=\")&&(c=google.getLEI(c))&&(d+=\"&lei=\"+c));c=\"\";!e&&google.cshid&&-1==b.search(\"&cshid=\")&&\"slh\"!=a&&(c=\"&cshid=\"+google.cshid);a=e||\"/\"+(g||\"gen_204\")+\"?atyp=i&ct=\"+a+\"&cad=\"+b+d+f+\"&zx=\"+google.time()+c;/^http:/i.test(a)&&google.https()&&(google.ml(Error(\"a\"),!1,{src:a,glmm:1}),a=\"\");return a};}).call(this);(function(){google.y={};google.x=function(a,b){if(a)var c=a.id;else{do c=Math.random();while(google.y[c])}google.y[c]=[a,b];return!1};google.lm=[];google.plm=function(a){google.lm.push.apply(google.lm,a)};google.lq=[];google.load=function(a,b,c){google.lq.push([[a],b,c])};google.loadAll=function(a,b){google.lq.push([a,b])};}).call(this);google.f={};(function(){document.documentElement.addEventListener(\"submit\",function(b){var a;if(a=b.target){var c=a.getAttribute(\"data-submitfalse\");a=\"1\"==c||\"q\"==c&&!a.elements.q.value?!0:!1}else a=!1;a&&(b.preventDefault(),b.stopPropagation())},!0);}).call(this);var a=window.location,b=a.href.indexOf(\"#\");if(0<=b){var c=a.href.substring(b+1);/(^|&)q=/.test(c)&&-1==c.indexOf(\"#\")&&a.replace(\"/search?\"+c.replace(/(^|&)fp=[^&]*/g,\"\")+\"&cad=h\")};</script><style>#gbar,#guser{font-size:13px;padding-top:1px !important;}#gbar{height:22px}#guser{padding-bottom:7px !important;text-align:right}.gbh,.gbd{border-top:1px solid #c9d7f1;font-size:1px}.gbh{height:0;position:absolute;top:24px;width:100%}@media all{.gb1{height:22px;margin-right:.5em;vertical-align:top}#gbar{float:left}}a.gb1,a.gb4{text-decoration:underline !important}a.gb1,a.gb4{color:#00c !important}.gbi .gb4{color:#dd8e27 !important}.gbf .gb4{color:#900 !important}\\n</style><style>body,td,a,p,.h{font-family:&#44404;&#47548;,&#46027;&#50880;,arial,sans-serif}.ko{font-size:9pt}body{margin:0;overflow-y:scroll}#gog{padding:3px 8px 0}td{line-height:.8em}.gac_m td{line-height:17px}form{margin-bottom:20px}.h{color:#36c}.q{color:#00c}.ts td{padding:0}.ts{border-collapse:collapse}em{font-weight:bold;font-style:normal}.lst{height:25px;width:496px}.gsfi,.lst{font:18px arial,sans-serif}.gsfs{font:17px arial,sans-serif}.ds{display:inline-box;display:inline-block;margin:3px 0 4px;margin-left:4px}input{font-family:inherit}a.gb1,a.gb2,a.gb3,a.gb4{color:#11c !important}body{background:#fff;color:black}a{color:#11c;text-decoration:none}a:hover,a:active{text-decoration:underline}.fl a{color:#36c}a:visited{color:#551a8b}a.gb1,a.gb4{text-decoration:underline}a.gb3:hover{text-decoration:none}#ghead a.gb2:hover{color:#fff !important}.sblc{padding-top:5px}.sblc a{display:block;margin:2px 0;margin-left:13px;font-size:11px}.lsbb{background:#eee;border:solid 1px;border-color:#ccc #999 #999 #ccc;height:30px}.lsbb{display:block}.ftl,#fll a{display:inline-block;margin:0 12px}.lsb{background:url(/images/nav_logo229.png) 0 -261px repeat-x;border:none;color:#000;cursor:pointer;height:30px;margin:0;outline:0;font:15px arial,sans-serif;vertical-align:top}.lsb:active{background:#ccc}.lst:focus{outline:none}.tiah{width:458px}</style><script nonce=\"pRNhFUy3mg0iUGRILPWBpA==\"></script></head><body bgcolor=\"#fff\"><script nonce=\"pRNhFUy3mg0iUGRILPWBpA==\">(function(){var src=\\'/images/nav_logo229.png\\';var iesg=false;document.body.onload = function(){window.n && window.n();if (document.images){new Image().src=src;}\\nif (!iesg){document.f&&document.f.q.focus();document.gbqf&&document.gbqf.q.focus();}\\n}\\n})();</script><div id=\"mngb\"> <div id=gbar><nobr><b class=gb1>&#44160;&#49353;</b> <a class=gb1 href=\"https://www.google.co.kr/imghp?hl=ko&tab=wi\">&#51060;&#48120;&#51648;</a> <a class=gb1 href=\"https://maps.google.co.kr/maps?hl=ko&tab=wl\">&#51648;&#46020;</a> <a class=gb1 href=\"https://play.google.com/?hl=ko&tab=w8\">Play</a> <a class=gb1 href=\"https://www.youtube.com/?gl=KR&tab=w1\">YouTube</a> <a class=gb1 href=\"https://news.google.co.kr/nwshp?hl=ko&tab=wn\">&#45684;&#49828;</a> <a class=gb1 href=\"https://mail.google.com/mail/?tab=wm\">Gmail</a> <a class=gb1 href=\"https://drive.google.com/?tab=wo\">&#46300;&#46972;&#51060;&#48652;</a> <a class=gb1 style=\"text-decoration:none\" href=\"https://www.google.co.kr/intl/ko/about/products?tab=wh\"><u>&#45908;&#48372;&#44592;</u> &raquo;</a></nobr></div><div id=guser width=100%><nobr><span id=gbn class=gbi></span><span id=gbf class=gbf></span><span id=gbe></span><a href=\"http://www.google.co.kr/history/optout?hl=ko\" class=gb4>&#50937; &#44592;&#47197;</a> | <a  href=\"/preferences?hl=ko\" class=gb4>&#49444;&#51221;</a> | <a target=_top id=gb_70 href=\"https://accounts.google.com/ServiceLogin?hl=ko&passive=true&continue=https://www.google.com/\" class=gb4>&#47196;&#44536;&#51064;</a></nobr></div><div class=gbh style=left:0></div><div class=gbh style=right:0></div> </div><center><br clear=\"all\" id=\"lgpd\"><div id=\"lga\"><img alt=\"Google\" height=\"92\" src=\"/images/branding/googlelogo/1x/googlelogo_white_background_color_272x92dp.png\" style=\"padding:28px 0 14px\" width=\"272\" id=\"hplogo\"><br><br></div><form action=\"/search\" name=\"f\"><table cellpadding=\"0\" cellspacing=\"0\"><tr valign=\"top\"><td width=\"25%\">&nbsp;</td><td align=\"center\" nowrap=\"\"><input name=\"ie\" value=\"ISO-8859-1\" type=\"hidden\"><input value=\"ko\" name=\"hl\" type=\"hidden\"><input name=\"source\" type=\"hidden\" value=\"hp\"><input name=\"biw\" type=\"hidden\"><input name=\"bih\" type=\"hidden\"><div class=\"ds\" style=\"height:32px;margin:4px 0\"><div style=\"position:relative;zoom:1\"><input class=\"lst tiah\" style=\"color:#000;margin:0;padding:5px 8px 0 6px;vertical-align:top;padding-right:38px\" autocomplete=\"off\" value=\"\" title=\"Google &#44160;&#49353;\" maxlength=\"2048\" name=\"q\" size=\"57\"><img src=\"/textinputassistant/tia.png\" style=\"position:absolute;cursor:pointer;right:5px;top:4px;z-index:300\" data-script-url=\"/textinputassistant/11/ko_tia.js\" id=\"tsuid1\" alt=\"\" height=\"23\" width=\"27\"><script nonce=\"pRNhFUy3mg0iUGRILPWBpA==\">(function(){var id=\\'tsuid1\\';document.getElementById(id).onclick = function(){var s = document.createElement(\\'script\\');s.src = this.getAttribute(\\'data-script-url\\');(document.getElementById(\\'xjsc\\')||document.body).appendChild(s);};})();</script></div></div><br style=\"line-height:0\"><span class=\"ds\"><span class=\"lsbb\"><input class=\"lsb\" value=\"Google &#44160;&#49353;\" name=\"btnG\" type=\"submit\"></span></span><span class=\"ds\"><span class=\"lsbb\"><input class=\"lsb\" id=\"tsuid2\" value=\"I&#8217;m Feeling Lucky\" name=\"btnI\" type=\"submit\"><script nonce=\"pRNhFUy3mg0iUGRILPWBpA==\">(function(){var id=\\'tsuid2\\';document.getElementById(id).onclick = function(){if (this.form.q.value){this.checked = 1;if (this.form.iflsig)this.form.iflsig.disabled = false;}\\nelse top.location=\\'/doodles/\\';};})();</script><input value=\"AAP1E1EAAAAAXetlrv0XwgLhyRpxL-5pgXCM7vT60oGf\" name=\"iflsig\" type=\"hidden\"></span></span></td><td class=\"fl sblc\" align=\"left\" nowrap=\"\" width=\"25%\"><a href=\"/advanced_search?hl=ko&amp;authuser=0\">&#44256;&#44553;&#44160;&#49353;</a><a href=\"/language_tools?hl=ko&amp;authuser=0\">&#50616;&#50612;&#46020;&#44396;</a></td></tr></table><input id=\"gbv\" name=\"gbv\" type=\"hidden\" value=\"1\"><script nonce=\"pRNhFUy3mg0iUGRILPWBpA==\">(function(){var a,b=\"1\";if(document&&document.getElementById)if(\"undefined\"!=typeof XMLHttpRequest)b=\"2\";else if(\"undefined\"!=typeof ActiveXObject){var c,d,e=[\"MSXML2.XMLHTTP.6.0\",\"MSXML2.XMLHTTP.3.0\",\"MSXML2.XMLHTTP\",\"Microsoft.XMLHTTP\"];for(c=0;d=e[c++];)try{new ActiveXObject(d),b=\"2\"}catch(h){}}a=b;if(\"2\"==a&&-1==location.search.indexOf(\"&gbv=2\")){var f=google.gbvu,g=document.getElementById(\"gbv\");g&&(g.value=a);f&&window.setTimeout(function(){location.href=f},0)};}).call(this);</script></form><div id=\"gac_scont\"></div><div style=\"font-size:83%;min-height:3.5em\"><br></div><span id=\"footer\"><div style=\"font-size:10pt\"><div style=\"margin:19px auto;text-align:center\" id=\"fll\"><a href=\"/intl/ko/ads/\">&#44305;&#44256; &#54532;&#47196;&#44536;&#47016;</a><a href=\"http://www.google.co.kr/intl/ko/services/\">&#48708;&#51592;&#45768;&#49828; &#49556;&#47336;&#49496;</a><a href=\"/intl/ko/about.html\">Google &#51221;&#48372;</a><a href=\"https://www.google.com/setprefdomain?prefdom=KR&amp;prev=https://www.google.co.kr/&amp;sig=K_hLJUmhTSXiCrSwUaskIzj1e8wKA%3D\">Google.co.kr</a></div></div><p style=\"color:#767676;font-size:8pt\">&copy; 2019 - <a href=\"/intl/ko/policies/privacy/\">&#44060;&#51064;&#51221;&#48372;&#52376;&#47532;&#48169;&#52840;</a> - <a href=\"/intl/ko/policies/terms/\">&#50557;&#44288;</a></p></span></center><script nonce=\"pRNhFUy3mg0iUGRILPWBpA==\">(function(){window.google.cdo={height:0,width:0};(function(){var a=window.innerWidth,b=window.innerHeight;if(!a||!b){var c=window.document,d=\"CSS1Compat\"==c.compatMode?c.documentElement:c.body;a=d.clientWidth;b=d.clientHeight}a&&b&&(a!=google.cdo.width||b!=google.cdo.height)&&google.log(\"\",\"\",\"/client_204?&atyp=i&biw=\"+a+\"&bih=\"+b+\"&ei=\"+google.kEI);}).call(this);})();(function(){var u=\\'/xjs/_/js/k\\\\x3dxjs.hp.en.gfojSU6T1bY.O/m\\\\x3dsb_he,d/am\\\\x3dwEBgIw/d\\\\x3d1/rs\\\\x3dACT90oH3JV1gkfK_vKPZxRpm8kRyXx0sqQ\\';setTimeout(function(){var b=document;var a=\"SCRIPT\";\"application/xhtml+xml\"===b.contentType&&(a=a.toLowerCase());a=b.createElement(a);a.src=u;google.timers&&google.timers.load&&google.tick&&google.tick(\"load\",\"xjsls\");document.body.appendChild(a)},0);})();(function(){window.google.xjsu=\\'/xjs/_/js/k\\\\x3dxjs.hp.en.gfojSU6T1bY.O/m\\\\x3dsb_he,d/am\\\\x3dwEBgIw/d\\\\x3d1/rs\\\\x3dACT90oH3JV1gkfK_vKPZxRpm8kRyXx0sqQ\\';})();function _DumpException(e){throw e;}\\nfunction _F_installCss(c){}\\n(function(){google.spjs=false;google.snet=true;google.em=[];google.emw=false;})();(function(){var pmc=\\'{\\\\x22d\\\\x22:{},\\\\x22sb_he\\\\x22:{\\\\x22agen\\\\x22:true,\\\\x22cgen\\\\x22:true,\\\\x22client\\\\x22:\\\\x22heirloom-hp\\\\x22,\\\\x22dh\\\\x22:true,\\\\x22dhqt\\\\x22:true,\\\\x22ds\\\\x22:\\\\x22\\\\x22,\\\\x22ffql\\\\x22:\\\\x22ko\\\\x22,\\\\x22fl\\\\x22:true,\\\\x22host\\\\x22:\\\\x22google.com\\\\x22,\\\\x22isbh\\\\x22:28,\\\\x22jsonp\\\\x22:true,\\\\x22msgs\\\\x22:{\\\\x22cibl\\\\x22:\\\\x22&#44160;&#49353;&#50612; &#51648;&#50864;&#44592;\\\\x22,\\\\x22dym\\\\x22:\\\\x22&#51060;&#44163;&#51012; &#52286;&#51004;&#49512;&#45208;&#50836;?\\\\x22,\\\\x22lcky\\\\x22:\\\\x22I&#8217;m Feeling Lucky\\\\x22,\\\\x22lml\\\\x22:\\\\x22&#51088;&#49464;&#55176; &#50508;&#50500;&#48372;&#44592;\\\\x22,\\\\x22oskt\\\\x22:\\\\x22&#51077;&#47141; &#46020;&#44396;\\\\x22,\\\\x22psrc\\\\x22:\\\\x22&#44160;&#49353;&#50612;&#44032; \\\\\\\\u003Ca href\\\\x3d\\\\\\\\\\\\x22/history\\\\\\\\\\\\x22\\\\\\\\u003E&#50937; &#44592;&#47197;\\\\\\\\u003C/a\\\\\\\\u003E&#50640;&#49436; &#49325;&#51228;&#46104;&#50632;&#49845;&#45768;&#45796;.\\\\x22,\\\\x22psrl\\\\x22:\\\\x22&#49325;&#51228;\\\\x22,\\\\x22sbit\\\\x22:\\\\x22&#51060;&#48120;&#51648;&#47196; &#44160;&#49353;\\\\x22,\\\\x22srch\\\\x22:\\\\x22Google &#44160;&#49353;\\\\x22},\\\\x22ovr\\\\x22:{},\\\\x22pq\\\\x22:\\\\x22\\\\x22,\\\\x22refpd\\\\x22:true,\\\\x22refspre\\\\x22:true,\\\\x22rfs\\\\x22:[],\\\\x22sbpl\\\\x22:24,\\\\x22sbpr\\\\x22:24,\\\\x22scd\\\\x22:10,\\\\x22sce\\\\x22:5,\\\\x22stok\\\\x22:\\\\x221EB-n-NqyRojYaOL_ycEVciwQeQ\\\\x22,\\\\x22uhde\\\\x22:false}}\\';google.pmc=JSON.parse(pmc);})();</script>        </body></html>'"
      ]
     },
     "execution_count": 6,
     "metadata": {},
     "output_type": "execute_result"
    }
   ],
   "source": [
    "response.text"
   ]
  },
  {
   "cell_type": "code",
   "execution_count": 7,
   "metadata": {},
   "outputs": [
    {
     "data": {
      "text/plain": [
       "200"
      ]
     },
     "execution_count": 7,
     "metadata": {},
     "output_type": "execute_result"
    }
   ],
   "source": [
    "response = requests.get('https://www.naver.com')\n",
    "response.status_code"
   ]
  },
  {
   "cell_type": "code",
   "execution_count": 8,
   "metadata": {},
   "outputs": [
    {
     "data": {
      "text/plain": [
       "'<!doctype html>\\n\\n\\n\\n\\n\\n\\n\\n\\n\\n\\n\\n\\n\\n\\n\\n\\n<html lang=\"ko\">\\n<head>\\n<meta charset=\"utf-8\">\\n<meta name=\"Referrer\" content=\"origin\">\\n<meta http-equiv=\"Content-Script-Type\" content=\"text/javascript\">\\n<meta http-equi'"
      ]
     },
     "execution_count": 8,
     "metadata": {},
     "output_type": "execute_result"
    }
   ],
   "source": [
    "response.text[:200]"
   ]
  },
  {
   "cell_type": "code",
   "execution_count": 9,
   "metadata": {},
   "outputs": [],
   "source": [
    "html_text = response.text"
   ]
  },
  {
   "cell_type": "code",
   "execution_count": 10,
   "metadata": {},
   "outputs": [
    {
     "data": {
      "text/plain": [
       "185438"
      ]
     },
     "execution_count": 10,
     "metadata": {},
     "output_type": "execute_result"
    }
   ],
   "source": [
    "len(html_text)"
   ]
  },
  {
   "cell_type": "code",
   "execution_count": 11,
   "metadata": {},
   "outputs": [],
   "source": [
    "soup = BeautifulSoup(html_text, 'lxml')"
   ]
  },
  {
   "cell_type": "code",
   "execution_count": 12,
   "metadata": {},
   "outputs": [],
   "source": [
    "ul_tag = soup.find('ul', attrs={'class':'ah_l'})"
   ]
  },
  {
   "cell_type": "code",
   "execution_count": 13,
   "metadata": {},
   "outputs": [
    {
     "data": {
      "text/plain": [
       "<li class=\"ah_item\">\n",
       "<a class=\"ah_a\" data-clk=\"lve.keyword\" href=\"#\">\n",
       "<span class=\"ah_r\">1</span>\n",
       "<span class=\"ah_k\">김건모</span>\n",
       "</a>\n",
       "</li>"
      ]
     },
     "execution_count": 13,
     "metadata": {},
     "output_type": "execute_result"
    }
   ],
   "source": [
    "li_list = ul_tag.find_all('li')\n",
    "li_list[0]"
   ]
  },
  {
   "cell_type": "code",
   "execution_count": 14,
   "metadata": {},
   "outputs": [
    {
     "name": "stdout",
     "output_type": "stream",
     "text": [
      "1 김건모\n"
     ]
    }
   ],
   "source": [
    "rank = li_list[0].find('span', attrs={'class':'ah_r'}).text\n",
    "keyword = li_list[0].find('span', attrs={'class':'ah_k'}).text\n",
    "print(rank,keyword)"
   ]
  },
  {
   "cell_type": "code",
   "execution_count": 15,
   "metadata": {},
   "outputs": [],
   "source": [
    "result = []\n",
    "for li in li_list:\n",
    "    rank = int(li.find('span', attrs={'class':'ah_r'}).text)\n",
    "    keyword = li.find('span', attrs={'class':'ah_k'}).text\n",
    "    result.append((rank, keyword))"
   ]
  },
  {
   "cell_type": "code",
   "execution_count": 16,
   "metadata": {},
   "outputs": [
    {
     "data": {
      "text/plain": [
       "[(1, '김건모'),\n",
       " (2, '양정화'),\n",
       " (3, '김원효김밥'),\n",
       " (4, '무지외반증'),\n",
       " (5, '삼천포'),\n",
       " (6, '양준일'),\n",
       " (7, '이준영'),\n",
       " (8, '음악중심'),\n",
       " (9, '오또맘'),\n",
       " (10, '하승진'),\n",
       " (11, '토르 라그나로크'),\n",
       " (12, '상속자들'),\n",
       " (13, '박해미'),\n",
       " (14, '질투의 화신'),\n",
       " (15, '돈스파이'),\n",
       " (16, '이장우'),\n",
       " (17, '임원희'),\n",
       " (18, '김선동'),\n",
       " (19, '엑소 수호 아버지'),\n",
       " (20, '수호')]"
      ]
     },
     "execution_count": 16,
     "metadata": {},
     "output_type": "execute_result"
    }
   ],
   "source": [
    "result"
   ]
  },
  {
   "cell_type": "markdown",
   "metadata": {},
   "source": [
    "## rottentomatoes"
   ]
  },
  {
   "cell_type": "code",
   "execution_count": 17,
   "metadata": {},
   "outputs": [
    {
     "data": {
      "text/plain": [
       "200"
      ]
     },
     "execution_count": 17,
     "metadata": {},
     "output_type": "execute_result"
    }
   ],
   "source": [
    "response = requests.get('https://rottentomatoes.com/')\n",
    "response.status_code"
   ]
  },
  {
   "cell_type": "code",
   "execution_count": 18,
   "metadata": {},
   "outputs": [
    {
     "data": {
      "text/plain": [
       "218672"
      ]
     },
     "execution_count": 18,
     "metadata": {},
     "output_type": "execute_result"
    }
   ],
   "source": [
    "html_text = response.text\n",
    "len(html_text)"
   ]
  },
  {
   "cell_type": "code",
   "execution_count": 20,
   "metadata": {},
   "outputs": [
    {
     "data": {
      "text/plain": [
       "<table class=\"movie_list\" id=\"Top-Box-Office\">\n",
       "<tr class=\"sidebarInTheaterOpening\">\n",
       "<td class=\"left_col\">\n",
       "<a href=\"/m/frozen_ii\">\n",
       "<span class=\"icon tiny certified_fresh\"></span>\n",
       "<span class=\"tMeterScore\">78%</span>\n",
       "</a>\n",
       "</td>\n",
       "<td class=\"middle_col\">\n",
       "<a href=\"/m/frozen_ii\">Frozen II</a>\n",
       "</td>\n",
       "<td class=\"right_col right\">\n",
       "<a href=\"/m/frozen_ii\">$86M</a>\n",
       "</td>\n",
       "</tr>\n",
       "<tr class=\"sidebarInTheaterOpening\">\n",
       "<td class=\"left_col\">\n",
       "<a href=\"/m/knives_out\">\n",
       "<span class=\"icon tiny certified_fresh\"></span>\n",
       "<span class=\"tMeterScore\">97%</span>\n",
       "</a>\n",
       "</td>\n",
       "<td class=\"middle_col\">\n",
       "<a href=\"/m/knives_out\">Knives Out</a>\n",
       "</td>\n",
       "<td class=\"right_col right\">\n",
       "<a href=\"/m/knives_out\">$26.9M</a>\n",
       "</td>\n",
       "</tr>\n",
       "<tr class=\"sidebarInTheaterOpening\">\n",
       "<td class=\"left_col\">\n",
       "<a href=\"/m/ford_v_ferrari\">\n",
       "<span class=\"icon tiny certified_fresh\"></span>\n",
       "<span class=\"tMeterScore\">91%</span>\n",
       "</a>\n",
       "</td>\n",
       "<td class=\"middle_col\">\n",
       "<a href=\"/m/ford_v_ferrari\">Ford v Ferrari</a>\n",
       "</td>\n",
       "<td class=\"right_col right\">\n",
       "<a href=\"/m/ford_v_ferrari\">$13.3M</a>\n",
       "</td>\n",
       "</tr>\n",
       "<tr class=\"sidebarInTheaterOpening\">\n",
       "<td class=\"left_col\">\n",
       "<a href=\"/m/queen_and_slim\">\n",
       "<span class=\"icon tiny certified_fresh\"></span>\n",
       "<span class=\"tMeterScore\">83%</span>\n",
       "</a>\n",
       "</td>\n",
       "<td class=\"middle_col\">\n",
       "<a href=\"/m/queen_and_slim\">Queen &amp; Slim</a>\n",
       "</td>\n",
       "<td class=\"right_col right\">\n",
       "<a href=\"/m/queen_and_slim\">$11.9M</a>\n",
       "</td>\n",
       "</tr>\n",
       "<tr class=\"sidebarInTheaterOpening\">\n",
       "<td class=\"left_col\">\n",
       "<a href=\"/m/a_beautiful_day_in_the_neighborhood\">\n",
       "<span class=\"icon tiny certified_fresh\"></span>\n",
       "<span class=\"tMeterScore\">95%</span>\n",
       "</a>\n",
       "</td>\n",
       "<td class=\"middle_col\">\n",
       "<a href=\"/m/a_beautiful_day_in_the_neighborhood\">A Beautiful Day in the Neighborhood</a>\n",
       "</td>\n",
       "<td class=\"right_col right\">\n",
       "<a href=\"/m/a_beautiful_day_in_the_neighborhood\">$11.8M</a>\n",
       "</td>\n",
       "</tr>\n",
       "<tr class=\"sidebarInTheaterOpening\">\n",
       "<td class=\"left_col\">\n",
       "<a href=\"/m/21_bridges\">\n",
       "<span class=\"icon tiny rotten\"></span>\n",
       "<span class=\"tMeterScore\">50%</span>\n",
       "</a>\n",
       "</td>\n",
       "<td class=\"middle_col\">\n",
       "<a href=\"/m/21_bridges\">21 Bridges</a>\n",
       "</td>\n",
       "<td class=\"right_col right\">\n",
       "<a href=\"/m/21_bridges\">$5.7M</a>\n",
       "</td>\n",
       "</tr>\n",
       "<tr class=\"sidebarInTheaterOpening\">\n",
       "<td class=\"left_col\">\n",
       "<a href=\"/m/playing_with_fire_2019\">\n",
       "<span class=\"icon tiny rotten\"></span>\n",
       "<span class=\"tMeterScore\">22%</span>\n",
       "</a>\n",
       "</td>\n",
       "<td class=\"middle_col\">\n",
       "<a href=\"/m/playing_with_fire_2019\">Playing with Fire</a>\n",
       "</td>\n",
       "<td class=\"right_col right\">\n",
       "<a href=\"/m/playing_with_fire_2019\">$4.3M</a>\n",
       "</td>\n",
       "</tr>\n",
       "<tr class=\"sidebarInTheaterOpening\">\n",
       "<td class=\"left_col\">\n",
       "<a href=\"/m/midway_2019\">\n",
       "<span class=\"icon tiny rotten\"></span>\n",
       "<span class=\"tMeterScore\">43%</span>\n",
       "</a>\n",
       "</td>\n",
       "<td class=\"middle_col\">\n",
       "<a href=\"/m/midway_2019\">Midway</a>\n",
       "</td>\n",
       "<td class=\"right_col right\">\n",
       "<a href=\"/m/midway_2019\">$4M</a>\n",
       "</td>\n",
       "</tr>\n",
       "<tr class=\"sidebarInTheaterOpening\">\n",
       "<td class=\"left_col\">\n",
       "<a href=\"/m/last_christmas_2019\">\n",
       "<span class=\"icon tiny rotten\"></span>\n",
       "<span class=\"tMeterScore\">47%</span>\n",
       "</a>\n",
       "</td>\n",
       "<td class=\"middle_col\">\n",
       "<a href=\"/m/last_christmas_2019\">Last Christmas</a>\n",
       "</td>\n",
       "<td class=\"right_col right\">\n",
       "<a href=\"/m/last_christmas_2019\">$2M</a>\n",
       "</td>\n",
       "</tr>\n",
       "<tr class=\"sidebarInTheaterOpening\">\n",
       "<td class=\"left_col\">\n",
       "<a href=\"/m/joker_2019\">\n",
       "<span class=\"icon tiny fresh\"></span>\n",
       "<span class=\"tMeterScore\">69%</span>\n",
       "</a>\n",
       "</td>\n",
       "<td class=\"middle_col\">\n",
       "<a href=\"/m/joker_2019\">Joker</a>\n",
       "</td>\n",
       "<td class=\"right_col right\">\n",
       "<a href=\"/m/joker_2019\">$1.9M</a>\n",
       "</td>\n",
       "</tr>\n",
       "</table>"
      ]
     },
     "execution_count": 20,
     "metadata": {},
     "output_type": "execute_result"
    }
   ],
   "source": [
    "soup = BeautifulSoup(html_text, 'lxml')\n",
    "table_tag = soup.find('table', attrs={'id':'Top-Box-Office'})\n",
    "table_tag"
   ]
  },
  {
   "cell_type": "code",
   "execution_count": 22,
   "metadata": {},
   "outputs": [
    {
     "data": {
      "text/plain": [
       "<tr class=\"sidebarInTheaterOpening\">\n",
       "<td class=\"left_col\">\n",
       "<a href=\"/m/frozen_ii\">\n",
       "<span class=\"icon tiny certified_fresh\"></span>\n",
       "<span class=\"tMeterScore\">78%</span>\n",
       "</a>\n",
       "</td>\n",
       "<td class=\"middle_col\">\n",
       "<a href=\"/m/frozen_ii\">Frozen II</a>\n",
       "</td>\n",
       "<td class=\"right_col right\">\n",
       "<a href=\"/m/frozen_ii\">$86M</a>\n",
       "</td>\n",
       "</tr>"
      ]
     },
     "execution_count": 22,
     "metadata": {},
     "output_type": "execute_result"
    }
   ],
   "source": [
    "tr_list = table_tag.find_all('tr')\n",
    "tr_list[0]"
   ]
  },
  {
   "cell_type": "code",
   "execution_count": 28,
   "metadata": {},
   "outputs": [
    {
     "data": {
      "text/plain": [
       "[<a href=\"/m/frozen_ii\">\n",
       " <span class=\"icon tiny certified_fresh\"></span>\n",
       " <span class=\"tMeterScore\">78%</span>\n",
       " </a>, <a href=\"/m/frozen_ii\">Frozen II</a>, <a href=\"/m/frozen_ii\">$86M</a>]"
      ]
     },
     "execution_count": 28,
     "metadata": {},
     "output_type": "execute_result"
    }
   ],
   "source": [
    "tr_list[0].find_all('a')"
   ]
  },
  {
   "cell_type": "code",
   "execution_count": 32,
   "metadata": {},
   "outputs": [
    {
     "name": "stdout",
     "output_type": "stream",
     "text": [
      "78% Frozen II $86M\n"
     ]
    }
   ],
   "source": [
    "a_list = tr_list[0].find_all('a')\n",
    "score = a_list[0].find('span', attrs={'class':'tMeterScore'}).text\n",
    "movie_name = a_list[1].text\n",
    "revenue = a_list[2].text\n",
    "print(score, movie_name, revenue)"
   ]
  },
  {
   "cell_type": "code",
   "execution_count": 39,
   "metadata": {},
   "outputs": [],
   "source": [
    "box_office = []\n",
    "for tr in tr_list:\n",
    "    a_list = tr.find_all('a')\n",
    "    score = int(a_list[0].find('span', attrs={'class':'tMeterScore'}).text.replace('%',''))\n",
    "    movie_name = a_list[1].text\n",
    "    revenue = float(a_list[2].text.replace('$','').replace('M',''))*1000000\n",
    "    box_office.append((score, movie_name,revenue))"
   ]
  },
  {
   "cell_type": "code",
   "execution_count": 40,
   "metadata": {},
   "outputs": [
    {
     "data": {
      "text/plain": [
       "[(78, 'Frozen II', 86000000.0),\n",
       " (97, 'Knives Out', 26900000.0),\n",
       " (91, 'Ford v Ferrari', 13300000.0),\n",
       " (83, 'Queen & Slim', 11900000.0),\n",
       " (95, 'A Beautiful Day in the Neighborhood', 11800000.0),\n",
       " (50, '21 Bridges', 5700000.0),\n",
       " (22, 'Playing with Fire', 4300000.0),\n",
       " (43, 'Midway', 4000000.0),\n",
       " (47, 'Last Christmas', 2000000.0),\n",
       " (69, 'Joker', 1900000.0)]"
      ]
     },
     "execution_count": 40,
     "metadata": {},
     "output_type": "execute_result"
    }
   ],
   "source": [
    "box_office"
   ]
  },
  {
   "cell_type": "markdown",
   "metadata": {},
   "source": [
    "## Save file"
   ]
  },
  {
   "cell_type": "code",
   "execution_count": 41,
   "metadata": {},
   "outputs": [
    {
     "data": {
      "text/plain": [
       "[(1, '김건모'),\n",
       " (2, '양정화'),\n",
       " (3, '김원효김밥'),\n",
       " (4, '무지외반증'),\n",
       " (5, '삼천포'),\n",
       " (6, '양준일'),\n",
       " (7, '이준영'),\n",
       " (8, '음악중심'),\n",
       " (9, '오또맘'),\n",
       " (10, '하승진'),\n",
       " (11, '토르 라그나로크'),\n",
       " (12, '상속자들'),\n",
       " (13, '박해미'),\n",
       " (14, '질투의 화신'),\n",
       " (15, '돈스파이'),\n",
       " (16, '이장우'),\n",
       " (17, '임원희'),\n",
       " (18, '김선동'),\n",
       " (19, '엑소 수호 아버지'),\n",
       " (20, '수호')]"
      ]
     },
     "execution_count": 41,
     "metadata": {},
     "output_type": "execute_result"
    }
   ],
   "source": [
    "result"
   ]
  },
  {
   "cell_type": "code",
   "execution_count": 42,
   "metadata": {},
   "outputs": [],
   "source": [
    "with open('./querys.txt', 'w') as f:\n",
    "    for rank, keyword in result:\n",
    "        f.write('{} 위는 {} 입니다.\\n'.format(rank, keyword))"
   ]
  },
  {
   "cell_type": "code",
   "execution_count": 43,
   "metadata": {},
   "outputs": [],
   "source": [
    "with open('./querys.txt', 'r') as f:\n",
    "    lines = f.readlines()"
   ]
  },
  {
   "cell_type": "code",
   "execution_count": 47,
   "metadata": {},
   "outputs": [
    {
     "name": "stdout",
     "output_type": "stream",
     "text": [
      "1 위는 김건모 입니다.\n",
      "2 위는 양정화 입니다.\n",
      "3 위는 김원효김밥 입니다.\n",
      "4 위는 무지외반증 입니다.\n",
      "5 위는 삼천포 입니다.\n",
      "6 위는 양준일 입니다.\n",
      "7 위는 이준영 입니다.\n",
      "8 위는 음악중심 입니다.\n",
      "9 위는 오또맘 입니다.\n",
      "10 위는 하승진 입니다.\n",
      "11 위는 토르 라그나로크 입니다.\n",
      "12 위는 상속자들 입니다.\n",
      "13 위는 박해미 입니다.\n",
      "14 위는 질투의 화신 입니다.\n",
      "15 위는 돈스파이 입니다.\n",
      "16 위는 이장우 입니다.\n",
      "17 위는 임원희 입니다.\n",
      "18 위는 김선동 입니다.\n",
      "19 위는 엑소 수호 아버지 입니다.\n",
      "20 위는 수호 입니다.\n"
     ]
    }
   ],
   "source": [
    "for line in lines:\n",
    "    print(line, end='')"
   ]
  },
  {
   "cell_type": "code",
   "execution_count": 58,
   "metadata": {},
   "outputs": [],
   "source": [
    "with open('./querys.txt', 'a') as f:\n",
    "    for rank, keyword in result:\n",
    "        f.write('{} 위는 {} 입니다.\\n'.format(rank, keyword))"
   ]
  },
  {
   "cell_type": "code",
   "execution_count": 59,
   "metadata": {},
   "outputs": [
    {
     "name": "stdout",
     "output_type": "stream",
     "text": [
      "1 위는 김건모 입니다.\n",
      "2 위는 양정화 입니다.\n",
      "3 위는 김원효김밥 입니다.\n",
      "4 위는 무지외반증 입니다.\n",
      "5 위는 삼천포 입니다.\n",
      "6 위는 양준일 입니다.\n",
      "7 위는 이준영 입니다.\n",
      "8 위는 음악중심 입니다.\n",
      "9 위는 오또맘 입니다.\n",
      "10 위는 하승진 입니다.\n",
      "11 위는 토르 라그나로크 입니다.\n",
      "12 위는 상속자들 입니다.\n",
      "13 위는 박해미 입니다.\n",
      "14 위는 질투의 화신 입니다.\n",
      "15 위는 돈스파이 입니다.\n",
      "16 위는 이장우 입니다.\n",
      "17 위는 임원희 입니다.\n",
      "18 위는 김선동 입니다.\n",
      "19 위는 엑소 수호 아버지 입니다.\n",
      "20 위는 수호 입니다.\n",
      "1 위는 김건모 입니다.\n",
      "2 위는 양정화 입니다.\n",
      "3 위는 김원효김밥 입니다.\n",
      "4 위는 무지외반증 입니다.\n",
      "5 위는 삼천포 입니다.\n",
      "6 위는 양준일 입니다.\n",
      "7 위는 이준영 입니다.\n",
      "8 위는 음악중심 입니다.\n",
      "9 위는 오또맘 입니다.\n",
      "10 위는 하승진 입니다.\n",
      "11 위는 토르 라그나로크 입니다.\n",
      "12 위는 상속자들 입니다.\n",
      "13 위는 박해미 입니다.\n",
      "14 위는 질투의 화신 입니다.\n",
      "15 위는 돈스파이 입니다.\n",
      "16 위는 이장우 입니다.\n",
      "17 위는 임원희 입니다.\n",
      "18 위는 김선동 입니다.\n",
      "19 위는 엑소 수호 아버지 입니다.\n",
      "20 위는 수호 입니다.\n",
      "1 위는 김건모 입니다.\n",
      "2 위는 양정화 입니다.\n",
      "3 위는 김원효김밥 입니다.\n",
      "4 위는 무지외반증 입니다.\n",
      "5 위는 삼천포 입니다.\n",
      "6 위는 양준일 입니다.\n",
      "7 위는 이준영 입니다.\n",
      "8 위는 음악중심 입니다.\n",
      "9 위는 오또맘 입니다.\n",
      "10 위는 하승진 입니다.\n",
      "11 위는 토르 라그나로크 입니다.\n",
      "12 위는 상속자들 입니다.\n",
      "13 위는 박해미 입니다.\n",
      "14 위는 질투의 화신 입니다.\n",
      "15 위는 돈스파이 입니다.\n",
      "16 위는 이장우 입니다.\n",
      "17 위는 임원희 입니다.\n",
      "18 위는 김선동 입니다.\n",
      "19 위는 엑소 수호 아버지 입니다.\n",
      "20 위는 수호 입니다.\n",
      "1 위는 김건모 입니다.\n",
      "2 위는 양정화 입니다.\n",
      "3 위는 김원효김밥 입니다.\n",
      "4 위는 무지외반증 입니다.\n",
      "5 위는 삼천포 입니다.\n",
      "6 위는 양준일 입니다.\n",
      "7 위는 이준영 입니다.\n",
      "8 위는 음악중심 입니다.\n",
      "9 위는 오또맘 입니다.\n",
      "10 위는 하승진 입니다.\n",
      "11 위는 토르 라그나로크 입니다.\n",
      "12 위는 상속자들 입니다.\n",
      "13 위는 박해미 입니다.\n",
      "14 위는 질투의 화신 입니다.\n",
      "15 위는 돈스파이 입니다.\n",
      "16 위는 이장우 입니다.\n",
      "17 위는 임원희 입니다.\n",
      "18 위는 김선동 입니다.\n",
      "19 위는 엑소 수호 아버지 입니다.\n",
      "20 위는 수호 입니다.\n",
      "1 위는 김건모 입니다.\n",
      "2 위는 양정화 입니다.\n",
      "3 위는 김원효김밥 입니다.\n",
      "4 위는 무지외반증 입니다.\n",
      "5 위는 삼천포 입니다.\n",
      "6 위는 양준일 입니다.\n",
      "7 위는 이준영 입니다.\n",
      "8 위는 음악중심 입니다.\n",
      "9 위는 오또맘 입니다.\n",
      "10 위는 하승진 입니다.\n",
      "11 위는 토르 라그나로크 입니다.\n",
      "12 위는 상속자들 입니다.\n",
      "13 위는 박해미 입니다.\n",
      "14 위는 질투의 화신 입니다.\n",
      "15 위는 돈스파이 입니다.\n",
      "16 위는 이장우 입니다.\n",
      "17 위는 임원희 입니다.\n",
      "18 위는 김선동 입니다.\n",
      "19 위는 엑소 수호 아버지 입니다.\n",
      "20 위는 수호 입니다.\n",
      "1 위는 김건모 입니다.\n",
      "2 위는 양정화 입니다.\n",
      "3 위는 김원효김밥 입니다.\n",
      "4 위는 무지외반증 입니다.\n",
      "5 위는 삼천포 입니다.\n",
      "6 위는 양준일 입니다.\n",
      "7 위는 이준영 입니다.\n",
      "8 위는 음악중심 입니다.\n",
      "9 위는 오또맘 입니다.\n",
      "10 위는 하승진 입니다.\n",
      "11 위는 토르 라그나로크 입니다.\n",
      "12 위는 상속자들 입니다.\n",
      "13 위는 박해미 입니다.\n",
      "14 위는 질투의 화신 입니다.\n",
      "15 위는 돈스파이 입니다.\n",
      "16 위는 이장우 입니다.\n",
      "17 위는 임원희 입니다.\n",
      "18 위는 김선동 입니다.\n",
      "19 위는 엑소 수호 아버지 입니다.\n",
      "20 위는 수호 입니다.\n",
      "1 위는 김건모 입니다.\n",
      "2 위는 양정화 입니다.\n",
      "3 위는 김원효김밥 입니다.\n",
      "4 위는 무지외반증 입니다.\n",
      "5 위는 삼천포 입니다.\n",
      "6 위는 양준일 입니다.\n",
      "7 위는 이준영 입니다.\n",
      "8 위는 음악중심 입니다.\n",
      "9 위는 오또맘 입니다.\n",
      "10 위는 하승진 입니다.\n",
      "11 위는 토르 라그나로크 입니다.\n",
      "12 위는 상속자들 입니다.\n",
      "13 위는 박해미 입니다.\n",
      "14 위는 질투의 화신 입니다.\n",
      "15 위는 돈스파이 입니다.\n",
      "16 위는 이장우 입니다.\n",
      "17 위는 임원희 입니다.\n",
      "18 위는 김선동 입니다.\n",
      "19 위는 엑소 수호 아버지 입니다.\n",
      "20 위는 수호 입니다.\n",
      "1 위는 김건모 입니다.\n",
      "2 위는 양정화 입니다.\n",
      "3 위는 김원효김밥 입니다.\n",
      "4 위는 무지외반증 입니다.\n",
      "5 위는 삼천포 입니다.\n",
      "6 위는 양준일 입니다.\n",
      "7 위는 이준영 입니다.\n",
      "8 위는 음악중심 입니다.\n",
      "9 위는 오또맘 입니다.\n",
      "10 위는 하승진 입니다.\n",
      "11 위는 토르 라그나로크 입니다.\n",
      "12 위는 상속자들 입니다.\n",
      "13 위는 박해미 입니다.\n",
      "14 위는 질투의 화신 입니다.\n",
      "15 위는 돈스파이 입니다.\n",
      "16 위는 이장우 입니다.\n",
      "17 위는 임원희 입니다.\n",
      "18 위는 김선동 입니다.\n",
      "19 위는 엑소 수호 아버지 입니다.\n",
      "20 위는 수호 입니다.\n",
      "1 위는 김건모 입니다.\n",
      "2 위는 양정화 입니다.\n",
      "3 위는 김원효김밥 입니다.\n",
      "4 위는 무지외반증 입니다.\n",
      "5 위는 삼천포 입니다.\n",
      "6 위는 양준일 입니다.\n",
      "7 위는 이준영 입니다.\n",
      "8 위는 음악중심 입니다.\n",
      "9 위는 오또맘 입니다.\n",
      "10 위는 하승진 입니다.\n",
      "11 위는 토르 라그나로크 입니다.\n",
      "12 위는 상속자들 입니다.\n",
      "13 위는 박해미 입니다.\n",
      "14 위는 질투의 화신 입니다.\n",
      "15 위는 돈스파이 입니다.\n",
      "16 위는 이장우 입니다.\n",
      "17 위는 임원희 입니다.\n",
      "18 위는 김선동 입니다.\n",
      "19 위는 엑소 수호 아버지 입니다.\n",
      "20 위는 수호 입니다.\n",
      "1 위는 김건모 입니다.\n",
      "2 위는 양정화 입니다.\n",
      "3 위는 김원효김밥 입니다.\n",
      "4 위는 무지외반증 입니다.\n",
      "5 위는 삼천포 입니다.\n",
      "6 위는 양준일 입니다.\n",
      "7 위는 이준영 입니다.\n",
      "8 위는 음악중심 입니다.\n",
      "9 위는 오또맘 입니다.\n",
      "10 위는 하승진 입니다.\n",
      "11 위는 토르 라그나로크 입니다.\n",
      "12 위는 상속자들 입니다.\n",
      "13 위는 박해미 입니다.\n",
      "14 위는 질투의 화신 입니다.\n",
      "15 위는 돈스파이 입니다.\n",
      "16 위는 이장우 입니다.\n",
      "17 위는 임원희 입니다.\n",
      "18 위는 김선동 입니다.\n",
      "19 위는 엑소 수호 아버지 입니다.\n",
      "20 위는 수호 입니다.\n"
     ]
    }
   ],
   "source": [
    "with open('./querys.txt', 'r') as f:\n",
    "    lines = f.readlines()\n",
    "    for line in lines:\n",
    "        print(line, end='')"
   ]
  },
  {
   "cell_type": "code",
   "execution_count": 60,
   "metadata": {},
   "outputs": [],
   "source": [
    "with open('./a.txt','w') as f:\n",
    "    for _ in range(2):\n",
    "        f.write('a\\n')"
   ]
  },
  {
   "cell_type": "code",
   "execution_count": 61,
   "metadata": {},
   "outputs": [
    {
     "name": "stdout",
     "output_type": "stream",
     "text": [
      "a\n",
      "\n",
      "a\n",
      "\n"
     ]
    }
   ],
   "source": [
    "with open('./a.txt', 'r') as f:\n",
    "    lines = f.readlines()\n",
    "    for line in lines:\n",
    "        print(line)"
   ]
  },
  {
   "cell_type": "code",
   "execution_count": 62,
   "metadata": {},
   "outputs": [],
   "source": [
    "with open('./a.txt','a') as f:\n",
    "    for _ in range(2):\n",
    "        f.write('b\\n')"
   ]
  },
  {
   "cell_type": "code",
   "execution_count": 63,
   "metadata": {},
   "outputs": [
    {
     "name": "stdout",
     "output_type": "stream",
     "text": [
      "a\n",
      "\n",
      "a\n",
      "\n",
      "b\n",
      "\n",
      "b\n",
      "\n"
     ]
    }
   ],
   "source": [
    "with open('./a.txt', 'r') as f:\n",
    "    lines = f.readlines()\n",
    "    for line in lines:\n",
    "        print(line)"
   ]
  },
  {
   "cell_type": "code",
   "execution_count": 69,
   "metadata": {},
   "outputs": [],
   "source": [
    "with open('./a.txt','a') as f:\n",
    "    for _ in range(5):\n",
    "        f.write('e')"
   ]
  },
  {
   "cell_type": "code",
   "execution_count": 70,
   "metadata": {},
   "outputs": [
    {
     "name": "stdout",
     "output_type": "stream",
     "text": [
      "a\n",
      "\n",
      "a\n",
      "\n",
      "b\n",
      "\n",
      "b\n",
      "\n",
      "c\n",
      "\n",
      "c\n",
      "\n",
      "d\n",
      "\n",
      "d\n",
      "\n",
      "d\n",
      "\n",
      "d\n",
      "\n",
      "d\n",
      "\n",
      "dddddeeeee\n"
     ]
    }
   ],
   "source": [
    "with open('./a.txt', 'r') as f:\n",
    "    lines = f.readlines()\n",
    "    for line in lines:\n",
    "        print(line)"
   ]
  },
  {
   "cell_type": "code",
   "execution_count": null,
   "metadata": {},
   "outputs": [],
   "source": []
  }
 ],
 "metadata": {
  "kernelspec": {
   "display_name": "Python 3",
   "language": "python",
   "name": "python3"
  },
  "language_info": {
   "codemirror_mode": {
    "name": "ipython",
    "version": 3
   },
   "file_extension": ".py",
   "mimetype": "text/x-python",
   "name": "python",
   "nbconvert_exporter": "python",
   "pygments_lexer": "ipython3",
   "version": "3.7.4"
  }
 },
 "nbformat": 4,
 "nbformat_minor": 2
}
