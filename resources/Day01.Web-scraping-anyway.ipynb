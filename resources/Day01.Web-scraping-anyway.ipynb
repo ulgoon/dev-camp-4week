{
 "cells": [
  {
   "cell_type": "code",
   "execution_count": 10,
   "metadata": {
    "scrolled": false
   },
   "outputs": [
    {
     "name": "stdout",
     "output_type": "stream",
     "text": [
      "hello world!\n"
     ]
    }
   ],
   "source": [
    "print(\"hello world!\")"
   ]
  },
  {
   "cell_type": "code",
   "execution_count": 11,
   "metadata": {
    "scrolled": true
   },
   "outputs": [
    {
     "name": "stdout",
     "output_type": "stream",
     "text": [
      "한글도 잘 입력되요!!\n"
     ]
    }
   ],
   "source": [
    "print(\"한글도 잘 입력되요!!\")"
   ]
  },
  {
   "cell_type": "code",
   "execution_count": 36,
   "metadata": {},
   "outputs": [],
   "source": [
    "import requests\n",
    "from bs4 import BeautifulSoup\n",
    "import lxml\n",
    "import time"
   ]
  },
  {
   "cell_type": "code",
   "execution_count": 13,
   "metadata": {},
   "outputs": [
    {
     "data": {
      "text/plain": [
       "<Response [200]>"
      ]
     },
     "execution_count": 13,
     "metadata": {},
     "output_type": "execute_result"
    }
   ],
   "source": [
    "requests.get(\"https://www.google.com\")"
   ]
  },
  {
   "cell_type": "markdown",
   "metadata": {},
   "source": [
    "## 여기서부터 구글로 차원이동함"
   ]
  },
  {
   "cell_type": "code",
   "execution_count": 14,
   "metadata": {},
   "outputs": [],
   "source": [
    "response = requests.get(\"https://www.google.com\")"
   ]
  },
  {
   "cell_type": "code",
   "execution_count": 15,
   "metadata": {},
   "outputs": [
    {
     "data": {
      "text/plain": [
       "200"
      ]
     },
     "execution_count": 15,
     "metadata": {},
     "output_type": "execute_result"
    }
   ],
   "source": [
    "response.status_code"
   ]
  },
  {
   "cell_type": "code",
   "execution_count": 16,
   "metadata": {},
   "outputs": [
    {
     "data": {
      "text/plain": [
       "{'Date': 'Sat, 05 Oct 2019 06:20:27 GMT', 'Expires': '-1', 'Cache-Control': 'private, max-age=0', 'Content-Type': 'text/html; charset=ISO-8859-1', 'P3P': 'CP=\"This is not a P3P policy! See g.co/p3phelp for more info.\"', 'Content-Encoding': 'gzip', 'Server': 'gws', 'X-XSS-Protection': '0', 'X-Frame-Options': 'SAMEORIGIN', 'Set-Cookie': '1P_JAR=2019-10-05-06; expires=Mon, 04-Nov-2019 06:20:27 GMT; path=/; domain=.google.com; SameSite=none, NID=188=kF8Vng9VEzfWRIPXQKt9rsrdNf1mRn2vVrkHAQzGb-aqNBj-YjgUOUAqryfeatGs4JF2QUVjniJcaeWGuAWgDbvjzTtmEI87w7SxSTYSFupqif2vsMtf153VTI7vFnf_IkWWs7C5d6PyxJBmjJCAmBYrCkpg4wfuPChBoej73rw; expires=Sun, 05-Apr-2020 06:20:27 GMT; path=/; domain=.google.com; HttpOnly', 'Alt-Svc': 'quic=\":443\"; ma=2592000; v=\"46,43\",h3-Q048=\":443\"; ma=2592000,h3-Q046=\":443\"; ma=2592000,h3-Q043=\":443\"; ma=2592000', 'Transfer-Encoding': 'chunked'}"
      ]
     },
     "execution_count": 16,
     "metadata": {},
     "output_type": "execute_result"
    }
   ],
   "source": [
    "response.headers"
   ]
  },
  {
   "cell_type": "code",
   "execution_count": 17,
   "metadata": {},
   "outputs": [
    {
     "data": {
      "text/plain": [
       "'<!doctype html><html itemscope=\"\" itemtype=\"http://schema.org/WebPage\" lang=\"ko\"><head><meta content=\"text/html; charset=UTF-8\" http-equiv=\"Content-Type\"><meta content=\"/images/branding/googleg/1x/googleg_standard_color_128dp.png\" itemprop=\"image\"><title>Google</title><script nonce=\"sRiWVcjuWCv5Kuv4GGz1aQ==\">(function(){window.google={kEI:\\'KzaYXYWUCbGUmAX31LyoDw\\',kEXPI:\\'0,1353747,5662,730,224,510,18,1047,3151,379,206,1017,53,172,1164,672,2,124,10,713,319,19,190,349,2,113,555,278,173,1130949,1197771,253,329243,1294,12383,4855,32691,15248,867,12163,5281,11240,369,3314,5505,2436,5948,1119,2,579,727,2431,1362,4323,4968,773,2252,4742,2898,220,6196,1719,1808,1976,2044,7220,1689,5072,225,2016,38,920,873,1217,1710,1,1264,2736,48,2607,315,91,2,631,3240,8066,2884,20,317,1118,902,104,2024,1,369,2777,519,402,990,705,580,8,85,2711,967,601,11,14,1279,2212,202,324,4,1252,327,513,324,193,1474,50,818,2620,818,108,152,52,1137,2,2669,1839,184,595,1182,520,1947,749,217,98,112,44,1009,93,328,1284,16,84,417,774,1652,1639,104,504,473,12,122,1205,729,227,831,3094,133,773,1030,518,28,496,8,727,592,523,925,126,435,1901,857,292,1070,184,344,425,3951,168,872,12,25,51,268,345,43,9,298,813,318,831,520,46,3,314,326,5,197,2,168,189,113,56,57,455,67,450,314,211,619,480,78,282,1000,770,20,228,552,54,813,3,248,138,2,4,137,196,25,2,338,417,196,113,383,4,553,248,46,547,261,84,321,666,292,413,366,611,5885437,3029,1802865,4194573,185,48,2799640,4,1572,549,333,444,1,2,80,1,900,583,9,304,1,8,1,2,2132,1,1,1,1,1,414,1,748,141,59,736,563,1,3759,102,70,26,62,6,16,38,33,26,18,1,2,8,2,3,2,10,5,2,6,1,23965806\\',authuser:0,kscs:\\'c9c918f0_KzaYXYWUCbGUmAX31LyoDw\\',kGL:\\'KR\\',kBL:\\'_Dc8\\'};google.sn=\\'webhp\\';google.kHL=\\'ko\\';google.jsfs=\\'Ffpdje\\';})();(function(){google.lc=[];google.li=0;google.getEI=function(a){for(var b;a&&(!a.getAttribute||!(b=a.getAttribute(\"eid\")));)a=a.parentNode;return b||google.kEI};google.getLEI=function(a){for(var b=null;a&&(!a.getAttribute||!(b=a.getAttribute(\"leid\")));)a=a.parentNode;return b};google.https=function(){return\"https:\"==window.location.protocol};google.ml=function(){return null};google.time=function(){return(new Date).getTime()};google.log=function(a,b,e,c,g){if(a=google.logUrl(a,b,e,c,g)){b=new Image;var d=google.lc,f=google.li;d[f]=b;b.onerror=b.onload=b.onabort=function(){delete d[f]};google.vel&&google.vel.lu&&google.vel.lu(a);b.src=a;google.li=f+1}};google.logUrl=function(a,b,e,c,g){var d=\"\",f=google.ls||\"\";e||-1!=b.search(\"&ei=\")||(d=\"&ei=\"+google.getEI(c),-1==b.search(\"&lei=\")&&(c=google.getLEI(c))&&(d+=\"&lei=\"+c));c=\"\";!e&&google.cshid&&-1==b.search(\"&cshid=\")&&\"slh\"!=a&&(c=\"&cshid=\"+google.cshid);a=e||\"/\"+(g||\"gen_204\")+\"?atyp=i&ct=\"+a+\"&cad=\"+b+d+f+\"&zx=\"+google.time()+c;/^http:/i.test(a)&&google.https()&&(google.ml(Error(\"a\"),!1,{src:a,glmm:1}),a=\"\");return a};}).call(this);(function(){google.y={};google.x=function(a,b){if(a)var c=a.id;else{do c=Math.random();while(google.y[c])}google.y[c]=[a,b];return!1};google.lm=[];google.plm=function(a){google.lm.push.apply(google.lm,a)};google.lq=[];google.load=function(a,b,c){google.lq.push([[a],b,c])};google.loadAll=function(a,b){google.lq.push([a,b])};}).call(this);google.f={};var a=window.location,b=a.href.indexOf(\"#\");if(0<=b){var c=a.href.substring(b+1);/(^|&)q=/.test(c)&&-1==c.indexOf(\"#\")&&a.replace(\"/search?\"+c.replace(/(^|&)fp=[^&]*/g,\"\")+\"&cad=h\")};</script><style>#gbar,#guser{font-size:13px;padding-top:1px !important;}#gbar{height:22px}#guser{padding-bottom:7px !important;text-align:right}.gbh,.gbd{border-top:1px solid #c9d7f1;font-size:1px}.gbh{height:0;position:absolute;top:24px;width:100%}@media all{.gb1{height:22px;margin-right:.5em;vertical-align:top}#gbar{float:left}}a.gb1,a.gb4{text-decoration:underline !important}a.gb1,a.gb4{color:#00c !important}.gbi .gb4{color:#dd8e27 !important}.gbf .gb4{color:#900 !important}\\n</style><style>body,td,a,p,.h{font-family:&#44404;&#47548;,&#46027;&#50880;,arial,sans-serif}.ko{font-size:9pt}body{margin:0;overflow-y:scroll}#gog{padding:3px 8px 0}td{line-height:.8em}.gac_m td{line-height:17px}form{margin-bottom:20px}.h{color:#36c}.q{color:#00c}.ts td{padding:0}.ts{border-collapse:collapse}em{font-weight:bold;font-style:normal}.lst{height:25px;width:496px}.gsfi,.lst{font:18px arial,sans-serif}.gsfs{font:17px arial,sans-serif}.ds{display:inline-box;display:inline-block;margin:3px 0 4px;margin-left:4px}input{font-family:inherit}a.gb1,a.gb2,a.gb3,a.gb4{color:#11c !important}body{background:#fff;color:black}a{color:#11c;text-decoration:none}a:hover,a:active{text-decoration:underline}.fl a{color:#36c}a:visited{color:#551a8b}a.gb1,a.gb4{text-decoration:underline}a.gb3:hover{text-decoration:none}#ghead a.gb2:hover{color:#fff !important}.sblc{padding-top:5px}.sblc a{display:block;margin:2px 0;margin-left:13px;font-size:11px}.lsbb{background:#eee;border:solid 1px;border-color:#ccc #999 #999 #ccc;height:30px}.lsbb{display:block}.ftl,#fll a{display:inline-block;margin:0 12px}.lsb{background:url(/images/nav_logo229.png) 0 -261px repeat-x;border:none;color:#000;cursor:pointer;height:30px;margin:0;outline:0;font:15px arial,sans-serif;vertical-align:top}.lsb:active{background:#ccc}.lst:focus{outline:none}.tiah{width:458px}</style><script nonce=\"sRiWVcjuWCv5Kuv4GGz1aQ==\"></script></head><body bgcolor=\"#fff\"><script nonce=\"sRiWVcjuWCv5Kuv4GGz1aQ==\">(function(){var src=\\'/images/nav_logo229.png\\';var iesg=false;document.body.onload = function(){window.n && window.n();if (document.images){new Image().src=src;}\\nif (!iesg){document.f&&document.f.q.focus();document.gbqf&&document.gbqf.q.focus();}\\n}\\n})();</script><div id=\"mngb\"> <div id=gbar><nobr><b class=gb1>&#44160;&#49353;</b> <a class=gb1 href=\"https://www.google.co.kr/imghp?hl=ko&tab=wi\">&#51060;&#48120;&#51648;</a> <a class=gb1 href=\"https://maps.google.co.kr/maps?hl=ko&tab=wl\">&#51648;&#46020;</a> <a class=gb1 href=\"https://play.google.com/?hl=ko&tab=w8\">Play</a> <a class=gb1 href=\"https://www.youtube.com/?gl=KR&tab=w1\">YouTube</a> <a class=gb1 href=\"https://news.google.co.kr/nwshp?hl=ko&tab=wn\">&#45684;&#49828;</a> <a class=gb1 href=\"https://mail.google.com/mail/?tab=wm\">Gmail</a> <a class=gb1 href=\"https://drive.google.com/?tab=wo\">&#46300;&#46972;&#51060;&#48652;</a> <a class=gb1 style=\"text-decoration:none\" href=\"https://www.google.co.kr/intl/ko/about/products?tab=wh\"><u>&#45908;&#48372;&#44592;</u> &raquo;</a></nobr></div><div id=guser width=100%><nobr><span id=gbn class=gbi></span><span id=gbf class=gbf></span><span id=gbe></span><a href=\"http://www.google.co.kr/history/optout?hl=ko\" class=gb4>&#50937; &#44592;&#47197;</a> | <a  href=\"/preferences?hl=ko\" class=gb4>&#49444;&#51221;</a> | <a target=_top id=gb_70 href=\"https://accounts.google.com/ServiceLogin?hl=ko&passive=true&continue=https://www.google.com/\" class=gb4>&#47196;&#44536;&#51064;</a></nobr></div><div class=gbh style=left:0></div><div class=gbh style=right:0></div> </div><center><br clear=\"all\" id=\"lgpd\"><div id=\"lga\"><img alt=\"Google\" height=\"92\" src=\"/images/branding/googlelogo/1x/googlelogo_white_background_color_272x92dp.png\" style=\"padding:28px 0 14px\" width=\"272\" id=\"hplogo\"><br><br></div><form action=\"/search\" name=\"f\"><table cellpadding=\"0\" cellspacing=\"0\"><tr valign=\"top\"><td width=\"25%\">&nbsp;</td><td align=\"center\" nowrap=\"\"><input name=\"ie\" value=\"ISO-8859-1\" type=\"hidden\"><input value=\"ko\" name=\"hl\" type=\"hidden\"><input name=\"source\" type=\"hidden\" value=\"hp\"><input name=\"biw\" type=\"hidden\"><input name=\"bih\" type=\"hidden\"><div class=\"ds\" style=\"height:32px;margin:4px 0\"><div style=\"position:relative;zoom:1\"><input style=\"color:#000;margin:0;padding:5px 8px 0 6px;vertical-align:top;padding-right:38px\" autocomplete=\"off\" class=\"lst tiah\" value=\"\" title=\"Google &#44160;&#49353;\" maxlength=\"2048\" name=\"q\" size=\"57\"><img src=\"/textinputassistant/tia.png\" style=\"position:absolute;cursor:pointer;right:5px;top:4px;z-index:300\" data-script-url=\"/textinputassistant/11/ko_tia.js\" id=\"tsuid1\" alt=\"\" height=\"23\" width=\"27\"><script nonce=\"sRiWVcjuWCv5Kuv4GGz1aQ==\">(function(){var id=\\'tsuid1\\';document.getElementById(id).onclick = function(){var s = document.createElement(\\'script\\');s.src = this.getAttribute(\\'data-script-url\\');(document.getElementById(\\'xjsc\\')||document.body).appendChild(s);};})();</script></div></div><br style=\"line-height:0\"><span class=\"ds\"><span class=\"lsbb\"><input class=\"lsb\" value=\"Google &#44160;&#49353;\" name=\"btnG\" type=\"submit\"></span></span><span class=\"ds\"><span class=\"lsbb\"><input class=\"lsb\" id=\"tsuid2\" value=\"I&#8217;m Feeling Lucky\" name=\"btnI\" type=\"submit\"><script nonce=\"sRiWVcjuWCv5Kuv4GGz1aQ==\">(function(){var id=\\'tsuid2\\';document.getElementById(id).onclick = function(){if (this.form.q.value){this.checked = 1;if (this.form.iflsig)this.form.iflsig.disabled = false;}\\nelse top.location=\\'/doodles/\\';};})();</script><input value=\"AAP1E1EAAAAAXZhEO1B1HOpXakGRJeFDibv248nYDhWp\" name=\"iflsig\" type=\"hidden\"></span></span></td><td class=\"fl sblc\" align=\"left\" nowrap=\"\" width=\"25%\"><a href=\"/advanced_search?hl=ko&amp;authuser=0\">&#44256;&#44553;&#44160;&#49353;</a><a href=\"/language_tools?hl=ko&amp;authuser=0\">&#50616;&#50612;&#46020;&#44396;</a></td></tr></table><input id=\"gbv\" name=\"gbv\" type=\"hidden\" value=\"1\"><script nonce=\"sRiWVcjuWCv5Kuv4GGz1aQ==\">(function(){var a,b=\"1\";if(document&&document.getElementById)if(\"undefined\"!=typeof XMLHttpRequest)b=\"2\";else if(\"undefined\"!=typeof ActiveXObject){var c,d,e=[\"MSXML2.XMLHTTP.6.0\",\"MSXML2.XMLHTTP.3.0\",\"MSXML2.XMLHTTP\",\"Microsoft.XMLHTTP\"];for(c=0;d=e[c++];)try{new ActiveXObject(d),b=\"2\"}catch(h){}}a=b;if(\"2\"==a&&-1==location.search.indexOf(\"&gbv=2\")){var f=google.gbvu,g=document.getElementById(\"gbv\");g&&(g.value=a);f&&window.setTimeout(function(){location.href=f},0)};}).call(this);</script></form><div id=\"gac_scont\"></div><div style=\"font-size:83%;min-height:3.5em\"><br></div><span id=\"footer\"><div style=\"font-size:10pt\"><div style=\"margin:19px auto;text-align:center\" id=\"fll\"><a href=\"/intl/ko/ads/\">&#44305;&#44256; &#54532;&#47196;&#44536;&#47016;</a><a href=\"http://www.google.co.kr/intl/ko/services/\">&#48708;&#51592;&#45768;&#49828; &#49556;&#47336;&#49496;</a><a href=\"/intl/ko/about.html\">Google &#51221;&#48372;</a><a href=\"https://www.google.com/setprefdomain?prefdom=KR&amp;prev=https://www.google.co.kr/&amp;sig=K_QqM6hMuWK2MqpQlXLHqXLLkK8Sw%3D\">Google.co.kr</a></div></div><p style=\"color:#767676;font-size:8pt\">&copy; 2019 - <a href=\"/intl/ko/policies/privacy/\">&#44060;&#51064;&#51221;&#48372;&#52376;&#47532;&#48169;&#52840;</a> - <a href=\"/intl/ko/policies/terms/\">&#50557;&#44288;</a></p></span></center><script nonce=\"sRiWVcjuWCv5Kuv4GGz1aQ==\">(function(){window.google.cdo={height:0,width:0};(function(){var a=window.innerWidth,b=window.innerHeight;if(!a||!b){var c=window.document,d=\"CSS1Compat\"==c.compatMode?c.documentElement:c.body;a=d.clientWidth;b=d.clientHeight}a&&b&&(a!=google.cdo.width||b!=google.cdo.height)&&google.log(\"\",\"\",\"/client_204?&atyp=i&biw=\"+a+\"&bih=\"+b+\"&ei=\"+google.kEI);}).call(this);})();(function(){var u=\\'/xjs/_/js/k\\\\x3dxjs.hp.en.P5V6bnnozgk.O/m\\\\x3dsb_he,d/am\\\\x3d4AQ2Aw/d\\\\x3d1/rs\\\\x3dACT90oH9WymtnsMTJf5wJ3h6uZEqIA3xXA\\';setTimeout(function(){var a=document.createElement(\"script\");a.src=u;google.timers&&google.timers.load&&google.tick&&google.tick(\"load\",\"xjsls\");document.body.appendChild(a)},0);})();(function(){window.google.xjsu=\\'/xjs/_/js/k\\\\x3dxjs.hp.en.P5V6bnnozgk.O/m\\\\x3dsb_he,d/am\\\\x3d4AQ2Aw/d\\\\x3d1/rs\\\\x3dACT90oH9WymtnsMTJf5wJ3h6uZEqIA3xXA\\';})();function _DumpException(e){throw e;}\\nfunction _F_installCss(c){}\\n(function(){google.spjs=false;google.snet=true;google.em=[];google.emw=false;})();(function(){var pmc=\\'{\\\\x22CaHQXQ\\\\x22:{},\\\\x22Qnk92g\\\\x22:{},\\\\x22RWGcrA\\\\x22:{},\\\\x22U5B21g\\\\x22:{},\\\\x22YFCs/g\\\\x22:{},\\\\x22ZI/YVQ\\\\x22:{},\\\\x22d\\\\x22:{},\\\\x22mVopag\\\\x22:{},\\\\x22sb_he\\\\x22:{\\\\x22agen\\\\x22:true,\\\\x22cgen\\\\x22:true,\\\\x22client\\\\x22:\\\\x22heirloom-hp\\\\x22,\\\\x22dh\\\\x22:true,\\\\x22dhqt\\\\x22:true,\\\\x22ds\\\\x22:\\\\x22\\\\x22,\\\\x22ffql\\\\x22:\\\\x22ko\\\\x22,\\\\x22fl\\\\x22:true,\\\\x22host\\\\x22:\\\\x22google.com\\\\x22,\\\\x22isbh\\\\x22:28,\\\\x22jsonp\\\\x22:true,\\\\x22msgs\\\\x22:{\\\\x22cibl\\\\x22:\\\\x22&#44160;&#49353;&#50612; &#51648;&#50864;&#44592;\\\\x22,\\\\x22dym\\\\x22:\\\\x22&#51060;&#44163;&#51012; &#52286;&#51004;&#49512;&#45208;&#50836;?\\\\x22,\\\\x22lcky\\\\x22:\\\\x22I&#8217;m Feeling Lucky\\\\x22,\\\\x22lml\\\\x22:\\\\x22&#51088;&#49464;&#55176; &#50508;&#50500;&#48372;&#44592;\\\\x22,\\\\x22oskt\\\\x22:\\\\x22&#51077;&#47141; &#46020;&#44396;\\\\x22,\\\\x22psrc\\\\x22:\\\\x22&#44160;&#49353;&#50612;&#44032; \\\\\\\\u003Ca href\\\\x3d\\\\\\\\\\\\x22/history\\\\\\\\\\\\x22\\\\\\\\u003E&#50937; &#44592;&#47197;\\\\\\\\u003C/a\\\\\\\\u003E&#50640;&#49436; &#49325;&#51228;&#46104;&#50632;&#49845;&#45768;&#45796;.\\\\x22,\\\\x22psrl\\\\x22:\\\\x22&#49325;&#51228;\\\\x22,\\\\x22sbit\\\\x22:\\\\x22&#51060;&#48120;&#51648;&#47196; &#44160;&#49353;\\\\x22,\\\\x22srch\\\\x22:\\\\x22Google &#44160;&#49353;\\\\x22},\\\\x22ovr\\\\x22:{},\\\\x22pq\\\\x22:\\\\x22\\\\x22,\\\\x22refpd\\\\x22:true,\\\\x22refspre\\\\x22:true,\\\\x22rfs\\\\x22:[],\\\\x22sbpl\\\\x22:24,\\\\x22sbpr\\\\x22:24,\\\\x22scd\\\\x22:10,\\\\x22sce\\\\x22:5,\\\\x22stok\\\\x22:\\\\x22ICdgOUS8DD8WLiTu7KS2A2_bNkA\\\\x22,\\\\x22uhde\\\\x22:false}}\\';google.pmc=JSON.parse(pmc);})();</script>        </body></html>'"
      ]
     },
     "execution_count": 17,
     "metadata": {},
     "output_type": "execute_result"
    }
   ],
   "source": [
    "response.text"
   ]
  },
  {
   "cell_type": "markdown",
   "metadata": {},
   "source": [
    "## N사 포털 급상승 검색어 가져오기 코드"
   ]
  },
  {
   "cell_type": "code",
   "execution_count": 60,
   "metadata": {},
   "outputs": [
    {
     "data": {
      "text/plain": [
       "200"
      ]
     },
     "execution_count": 60,
     "metadata": {},
     "output_type": "execute_result"
    }
   ],
   "source": [
    "# 먼저, requests를 이용해서 전체 소스코드를 불러옵니다.\n",
    "response = requests.get(\"https://www.naver.com/\")\n",
    "executed_time = time.ctime()\n",
    "response.status_code"
   ]
  },
  {
   "cell_type": "code",
   "execution_count": 61,
   "metadata": {},
   "outputs": [],
   "source": [
    "page_text = response.text"
   ]
  },
  {
   "cell_type": "code",
   "execution_count": 62,
   "metadata": {},
   "outputs": [],
   "source": [
    "soup = BeautifulSoup(page_text, 'lxml')"
   ]
  },
  {
   "cell_type": "code",
   "execution_count": 63,
   "metadata": {},
   "outputs": [
    {
     "data": {
      "text/plain": [
       "<ul class=\"ah_l\">\n",
       "<li class=\"ah_item\">\n",
       "<a class=\"ah_a\" data-clk=\"lve.keyword\" href=\"#\">\n",
       "<span class=\"ah_r\">1</span>\n",
       "<span class=\"ah_k\">루디아 악어크림</span>\n",
       "</a>\n",
       "</li>\n",
       "<li class=\"ah_item\">\n",
       "<a class=\"ah_a\" data-clk=\"lve.keyword\" href=\"#\">\n",
       "<span class=\"ah_r\">2</span>\n",
       "<span class=\"ah_k\">김옥원회장</span>\n",
       "</a>\n",
       "</li>\n",
       "<li class=\"ah_item\">\n",
       "<a class=\"ah_a\" data-clk=\"lve.keyword\" href=\"#\">\n",
       "<span class=\"ah_r\">3</span>\n",
       "<span class=\"ah_k\">박영규 아들</span>\n",
       "</a>\n",
       "</li>\n",
       "<li class=\"ah_item\">\n",
       "<a class=\"ah_a\" data-clk=\"lve.keyword\" href=\"#\">\n",
       "<span class=\"ah_r\">4</span>\n",
       "<span class=\"ah_k\">염따 후드티</span>\n",
       "</a>\n",
       "</li>\n",
       "<li class=\"ah_item\">\n",
       "<a class=\"ah_a\" data-clk=\"lve.keyword\" href=\"#\">\n",
       "<span class=\"ah_r\">5</span>\n",
       "<span class=\"ah_k\">오거돈</span>\n",
       "</a>\n",
       "</li>\n",
       "<li class=\"ah_item\">\n",
       "<a class=\"ah_a\" data-clk=\"lve.keyword\" href=\"#\">\n",
       "<span class=\"ah_r\">6</span>\n",
       "<span class=\"ah_k\">방미</span>\n",
       "</a>\n",
       "</li>\n",
       "<li class=\"ah_item\">\n",
       "<a class=\"ah_a\" data-clk=\"lve.keyword\" href=\"#\">\n",
       "<span class=\"ah_r\">7</span>\n",
       "<span class=\"ah_k\">염따 티셔츠</span>\n",
       "</a>\n",
       "</li>\n",
       "<li class=\"ah_item\">\n",
       "<a class=\"ah_a\" data-clk=\"lve.keyword\" href=\"#\">\n",
       "<span class=\"ah_r\">8</span>\n",
       "<span class=\"ah_k\">2019 여의도 불꽃축제 시간</span>\n",
       "</a>\n",
       "</li>\n",
       "<li class=\"ah_item\">\n",
       "<a class=\"ah_a\" data-clk=\"lve.keyword\" href=\"#\">\n",
       "<span class=\"ah_r\">9</span>\n",
       "<span class=\"ah_k\">불꽃축제</span>\n",
       "</a>\n",
       "</li>\n",
       "<li class=\"ah_item\">\n",
       "<a class=\"ah_a\" data-clk=\"lve.keyword\" href=\"#\">\n",
       "<span class=\"ah_r\">10</span>\n",
       "<span class=\"ah_k\">서초동 집회</span>\n",
       "</a>\n",
       "</li>\n",
       "<li class=\"ah_item\">\n",
       "<a class=\"ah_a\" data-clk=\"lve.keyword\" href=\"#\">\n",
       "<span class=\"ah_r\">11</span>\n",
       "<span class=\"ah_k\">염따</span>\n",
       "</a>\n",
       "</li>\n",
       "<li class=\"ah_item\">\n",
       "<a class=\"ah_a\" data-clk=\"lve.keyword\" href=\"#\">\n",
       "<span class=\"ah_r\">12</span>\n",
       "<span class=\"ah_k\">2019 여의도 불꽃축제 명당</span>\n",
       "</a>\n",
       "</li>\n",
       "<li class=\"ah_item\">\n",
       "<a class=\"ah_a\" data-clk=\"lve.keyword\" href=\"#\">\n",
       "<span class=\"ah_r\">13</span>\n",
       "<span class=\"ah_k\">2019 여의도 불꽃축제</span>\n",
       "</a>\n",
       "</li>\n",
       "<li class=\"ah_item\">\n",
       "<a class=\"ah_a\" data-clk=\"lve.keyword\" href=\"#\">\n",
       "<span class=\"ah_r\">14</span>\n",
       "<span class=\"ah_k\">박영규</span>\n",
       "</a>\n",
       "</li>\n",
       "<li class=\"ah_item\">\n",
       "<a class=\"ah_a\" data-clk=\"lve.keyword\" href=\"#\">\n",
       "<span class=\"ah_r\">15</span>\n",
       "<span class=\"ah_k\">김옥원</span>\n",
       "</a>\n",
       "</li>\n",
       "<li class=\"ah_item\">\n",
       "<a class=\"ah_a\" data-clk=\"lve.keyword\" href=\"#\">\n",
       "<span class=\"ah_r\">16</span>\n",
       "<span class=\"ah_k\">음악중심</span>\n",
       "</a>\n",
       "</li>\n",
       "<li class=\"ah_item\">\n",
       "<a class=\"ah_a\" data-clk=\"lve.keyword\" href=\"#\">\n",
       "<span class=\"ah_r\">17</span>\n",
       "<span class=\"ah_k\">김성령</span>\n",
       "</a>\n",
       "</li>\n",
       "<li class=\"ah_item\">\n",
       "<a class=\"ah_a\" data-clk=\"lve.keyword\" href=\"#\">\n",
       "<span class=\"ah_r\">18</span>\n",
       "<span class=\"ah_k\">말괄량이 삐삐 결말</span>\n",
       "</a>\n",
       "</li>\n",
       "<li class=\"ah_item\">\n",
       "<a class=\"ah_a\" data-clk=\"lve.keyword\" href=\"#\">\n",
       "<span class=\"ah_r\">19</span>\n",
       "<span class=\"ah_k\">아이마스크</span>\n",
       "</a>\n",
       "</li>\n",
       "<li class=\"ah_item\">\n",
       "<a class=\"ah_a\" data-clk=\"lve.keyword\" href=\"#\">\n",
       "<span class=\"ah_r\">20</span>\n",
       "<span class=\"ah_k\">설인아</span>\n",
       "</a>\n",
       "</li>\n",
       "</ul>"
      ]
     },
     "execution_count": 63,
     "metadata": {},
     "output_type": "execute_result"
    }
   ],
   "source": [
    "# 전체 소스에서 검색어가 담긴 ul이라는 단위 찾기\n",
    "ul_text = soup.find(\"ul\", attrs={\"class\":\"ah_l\"})\n",
    "ul_text"
   ]
  },
  {
   "cell_type": "code",
   "execution_count": 64,
   "metadata": {},
   "outputs": [
    {
     "data": {
      "text/plain": [
       "[<li class=\"ah_item\">\n",
       " <a class=\"ah_a\" data-clk=\"lve.keyword\" href=\"#\">\n",
       " <span class=\"ah_r\">1</span>\n",
       " <span class=\"ah_k\">루디아 악어크림</span>\n",
       " </a>\n",
       " </li>, <li class=\"ah_item\">\n",
       " <a class=\"ah_a\" data-clk=\"lve.keyword\" href=\"#\">\n",
       " <span class=\"ah_r\">2</span>\n",
       " <span class=\"ah_k\">김옥원회장</span>\n",
       " </a>\n",
       " </li>, <li class=\"ah_item\">\n",
       " <a class=\"ah_a\" data-clk=\"lve.keyword\" href=\"#\">\n",
       " <span class=\"ah_r\">3</span>\n",
       " <span class=\"ah_k\">박영규 아들</span>\n",
       " </a>\n",
       " </li>, <li class=\"ah_item\">\n",
       " <a class=\"ah_a\" data-clk=\"lve.keyword\" href=\"#\">\n",
       " <span class=\"ah_r\">4</span>\n",
       " <span class=\"ah_k\">염따 후드티</span>\n",
       " </a>\n",
       " </li>, <li class=\"ah_item\">\n",
       " <a class=\"ah_a\" data-clk=\"lve.keyword\" href=\"#\">\n",
       " <span class=\"ah_r\">5</span>\n",
       " <span class=\"ah_k\">오거돈</span>\n",
       " </a>\n",
       " </li>, <li class=\"ah_item\">\n",
       " <a class=\"ah_a\" data-clk=\"lve.keyword\" href=\"#\">\n",
       " <span class=\"ah_r\">6</span>\n",
       " <span class=\"ah_k\">방미</span>\n",
       " </a>\n",
       " </li>, <li class=\"ah_item\">\n",
       " <a class=\"ah_a\" data-clk=\"lve.keyword\" href=\"#\">\n",
       " <span class=\"ah_r\">7</span>\n",
       " <span class=\"ah_k\">염따 티셔츠</span>\n",
       " </a>\n",
       " </li>, <li class=\"ah_item\">\n",
       " <a class=\"ah_a\" data-clk=\"lve.keyword\" href=\"#\">\n",
       " <span class=\"ah_r\">8</span>\n",
       " <span class=\"ah_k\">2019 여의도 불꽃축제 시간</span>\n",
       " </a>\n",
       " </li>, <li class=\"ah_item\">\n",
       " <a class=\"ah_a\" data-clk=\"lve.keyword\" href=\"#\">\n",
       " <span class=\"ah_r\">9</span>\n",
       " <span class=\"ah_k\">불꽃축제</span>\n",
       " </a>\n",
       " </li>, <li class=\"ah_item\">\n",
       " <a class=\"ah_a\" data-clk=\"lve.keyword\" href=\"#\">\n",
       " <span class=\"ah_r\">10</span>\n",
       " <span class=\"ah_k\">서초동 집회</span>\n",
       " </a>\n",
       " </li>, <li class=\"ah_item\">\n",
       " <a class=\"ah_a\" data-clk=\"lve.keyword\" href=\"#\">\n",
       " <span class=\"ah_r\">11</span>\n",
       " <span class=\"ah_k\">염따</span>\n",
       " </a>\n",
       " </li>, <li class=\"ah_item\">\n",
       " <a class=\"ah_a\" data-clk=\"lve.keyword\" href=\"#\">\n",
       " <span class=\"ah_r\">12</span>\n",
       " <span class=\"ah_k\">2019 여의도 불꽃축제 명당</span>\n",
       " </a>\n",
       " </li>, <li class=\"ah_item\">\n",
       " <a class=\"ah_a\" data-clk=\"lve.keyword\" href=\"#\">\n",
       " <span class=\"ah_r\">13</span>\n",
       " <span class=\"ah_k\">2019 여의도 불꽃축제</span>\n",
       " </a>\n",
       " </li>, <li class=\"ah_item\">\n",
       " <a class=\"ah_a\" data-clk=\"lve.keyword\" href=\"#\">\n",
       " <span class=\"ah_r\">14</span>\n",
       " <span class=\"ah_k\">박영규</span>\n",
       " </a>\n",
       " </li>, <li class=\"ah_item\">\n",
       " <a class=\"ah_a\" data-clk=\"lve.keyword\" href=\"#\">\n",
       " <span class=\"ah_r\">15</span>\n",
       " <span class=\"ah_k\">김옥원</span>\n",
       " </a>\n",
       " </li>, <li class=\"ah_item\">\n",
       " <a class=\"ah_a\" data-clk=\"lve.keyword\" href=\"#\">\n",
       " <span class=\"ah_r\">16</span>\n",
       " <span class=\"ah_k\">음악중심</span>\n",
       " </a>\n",
       " </li>, <li class=\"ah_item\">\n",
       " <a class=\"ah_a\" data-clk=\"lve.keyword\" href=\"#\">\n",
       " <span class=\"ah_r\">17</span>\n",
       " <span class=\"ah_k\">김성령</span>\n",
       " </a>\n",
       " </li>, <li class=\"ah_item\">\n",
       " <a class=\"ah_a\" data-clk=\"lve.keyword\" href=\"#\">\n",
       " <span class=\"ah_r\">18</span>\n",
       " <span class=\"ah_k\">말괄량이 삐삐 결말</span>\n",
       " </a>\n",
       " </li>, <li class=\"ah_item\">\n",
       " <a class=\"ah_a\" data-clk=\"lve.keyword\" href=\"#\">\n",
       " <span class=\"ah_r\">19</span>\n",
       " <span class=\"ah_k\">아이마스크</span>\n",
       " </a>\n",
       " </li>, <li class=\"ah_item\">\n",
       " <a class=\"ah_a\" data-clk=\"lve.keyword\" href=\"#\">\n",
       " <span class=\"ah_r\">20</span>\n",
       " <span class=\"ah_k\">설인아</span>\n",
       " </a>\n",
       " </li>]"
      ]
     },
     "execution_count": 64,
     "metadata": {},
     "output_type": "execute_result"
    }
   ],
   "source": [
    "# 찾아낸 검색어 단위에서 순위별로 나눠 저장하기\n",
    "li_list = ul_text.find_all(\"li\")\n",
    "li_list"
   ]
  },
  {
   "cell_type": "code",
   "execution_count": 65,
   "metadata": {},
   "outputs": [
    {
     "name": "stdout",
     "output_type": "stream",
     "text": [
      "Sat Oct  5 16:48:37 2019 1 루디아 악어크림\n",
      "Sat Oct  5 16:48:37 2019 2 김옥원회장\n",
      "Sat Oct  5 16:48:37 2019 3 박영규 아들\n",
      "Sat Oct  5 16:48:37 2019 4 염따 후드티\n",
      "Sat Oct  5 16:48:37 2019 5 오거돈\n",
      "Sat Oct  5 16:48:37 2019 6 방미\n",
      "Sat Oct  5 16:48:37 2019 7 염따 티셔츠\n",
      "Sat Oct  5 16:48:37 2019 8 2019 여의도 불꽃축제 시간\n",
      "Sat Oct  5 16:48:37 2019 9 불꽃축제\n",
      "Sat Oct  5 16:48:37 2019 10 서초동 집회\n",
      "Sat Oct  5 16:48:37 2019 11 염따\n",
      "Sat Oct  5 16:48:37 2019 12 2019 여의도 불꽃축제 명당\n",
      "Sat Oct  5 16:48:37 2019 13 2019 여의도 불꽃축제\n",
      "Sat Oct  5 16:48:37 2019 14 박영규\n",
      "Sat Oct  5 16:48:37 2019 15 김옥원\n",
      "Sat Oct  5 16:48:37 2019 16 음악중심\n",
      "Sat Oct  5 16:48:37 2019 17 김성령\n",
      "Sat Oct  5 16:48:37 2019 18 말괄량이 삐삐 결말\n",
      "Sat Oct  5 16:48:37 2019 19 아이마스크\n",
      "Sat Oct  5 16:48:37 2019 20 설인아\n"
     ]
    }
   ],
   "source": [
    "# 검색어와 순위만 빼내기\n",
    "nv_keywords = []\n",
    "for li in li_list:\n",
    "    rank = int(li.find(\"span\", attrs={\"class\":\"ah_r\"}).text)\n",
    "    keyword = li.find(\"span\", attrs={\"class\":\"ah_k\"}).text\n",
    "    nv_keywords.append((executed_time, rank, keyword))\n",
    "    print(executed_time,rank,keyword)\n",
    "    "
   ]
  },
  {
   "cell_type": "markdown",
   "metadata": {},
   "source": [
    "## D사 실시간 검색어 가져오기"
   ]
  },
  {
   "cell_type": "code",
   "execution_count": 67,
   "metadata": {},
   "outputs": [
    {
     "data": {
      "text/plain": [
       "200"
      ]
     },
     "execution_count": 67,
     "metadata": {},
     "output_type": "execute_result"
    }
   ],
   "source": [
    "# D사 전체코드 가져오기\n",
    "response = requests.get(\"https://www.daum.net\")\n",
    "executed_time = time.ctime()\n",
    "response.status_code"
   ]
  },
  {
   "cell_type": "code",
   "execution_count": 68,
   "metadata": {},
   "outputs": [
    {
     "data": {
      "text/plain": [
       "'<!DOCTYPE html>\\n<html lang=\"ko\" class=\"\">\\n<head>\\n<meta charset=\"utf-8\"/>\\n<title>Daum</title>\\n<meta property=\"og:url\" content=\"https://www.daum.net/\">\\n<meta property=\"og:type\" content=\"website\">\\n<meta '"
      ]
     },
     "execution_count": 68,
     "metadata": {},
     "output_type": "execute_result"
    }
   ],
   "source": [
    "# 전체코드를 page_text라는 이름으로 저장\n",
    "page_text = response.text\n",
    "page_text[:200]"
   ]
  },
  {
   "cell_type": "code",
   "execution_count": 69,
   "metadata": {},
   "outputs": [
    {
     "data": {
      "text/plain": [
       "<ol class=\"list_hotissue issue_row\">\n",
       "<li class=\"current\">\n",
       "<div class=\"roll_txt @1\">\n",
       "<div class=\"rank_cont\">\n",
       "<span class=\"num_pctop rank1\"><span class=\"ir_wa\">1위</span></span>\n",
       "<span class=\"txt_issue\"><a class=\"link_issue\" href=\"https://search.daum.net/search?w=tot&amp;q=%EC%97%AC%EC%9D%98%EB%8F%84+%EB%B6%88%EA%BD%83%EC%B6%95%EC%A0%9C&amp;DA=ATG&amp;rtmaxcoll=1TH\">여의도 불꽃축제</a></span>\n",
       "</div>\n",
       "<div aria-hidden=\"true\" class=\"rank_cont\">\n",
       "<span class=\"num_pctop rank1\"><span class=\"ir_wa\">1위}</span></span>\n",
       "<span class=\"txt_issue\"><a class=\"link_issue\" href=\"https://search.daum.net/search?w=tot&amp;q=%EC%97%AC%EC%9D%98%EB%8F%84+%EB%B6%88%EA%BD%83%EC%B6%95%EC%A0%9C&amp;DA=ATG&amp;rtmaxcoll=1TH\" tabindex=\"-1\">여의도 불꽃축제</a></span>\n",
       "</div>\n",
       "</div>\n",
       "</li>\n",
       "<li class=\"next\">\n",
       "<div class=\"roll_txt @2\">\n",
       "<div class=\"rank_cont\">\n",
       "<span class=\"num_pctop rank2\"><span class=\"ir_wa\">2위</span></span>\n",
       "<span class=\"txt_issue\"><a class=\"link_issue\" href=\"https://search.daum.net/search?w=tot&amp;q=%EC%9E%84%EC%9D%80%EC%A0%95&amp;DA=ATG&amp;rtmaxcoll=1TH\">임은정</a></span>\n",
       "</div>\n",
       "<div aria-hidden=\"true\" class=\"rank_cont\">\n",
       "<span class=\"num_pctop rank2\"><span class=\"ir_wa\">2위}</span></span>\n",
       "<span class=\"txt_issue\"><a class=\"link_issue\" href=\"https://search.daum.net/search?w=tot&amp;q=%EC%9E%84%EC%9D%80%EC%A0%95&amp;DA=ATG&amp;rtmaxcoll=1TH\" tabindex=\"-1\">임은정</a></span>\n",
       "</div>\n",
       "</div>\n",
       "</li>\n",
       "<li class=\"\">\n",
       "<div class=\"roll_txt @3\">\n",
       "<div class=\"rank_cont\">\n",
       "<span class=\"num_pctop rank3\"><span class=\"ir_wa\">3위</span></span>\n",
       "<span class=\"txt_issue\"><a class=\"link_issue\" href=\"https://search.daum.net/search?w=tot&amp;q=%EB%82%98%EC%9D%98+%EB%82%98%EB%9D%BC&amp;DA=ATG&amp;rtmaxcoll=1TH\">나의 나라</a></span>\n",
       "</div>\n",
       "<div aria-hidden=\"true\" class=\"rank_cont\">\n",
       "<span class=\"num_pctop rank3\"><span class=\"ir_wa\">3위}</span></span>\n",
       "<span class=\"txt_issue\"><a class=\"link_issue\" href=\"https://search.daum.net/search?w=tot&amp;q=%EB%82%98%EC%9D%98+%EB%82%98%EB%9D%BC&amp;DA=ATG&amp;rtmaxcoll=1TH\" tabindex=\"-1\">나의 나라</a></span>\n",
       "</div>\n",
       "</div>\n",
       "</li>\n",
       "<li class=\"\">\n",
       "<div class=\"roll_txt @4\">\n",
       "<div class=\"rank_cont\">\n",
       "<span class=\"num_pctop rank4\"><span class=\"ir_wa\">4위</span></span>\n",
       "<span class=\"txt_issue\"><a class=\"link_issue\" href=\"https://search.daum.net/search?w=tot&amp;q=%EA%B2%80%EC%B0%B0%EA%B0%9C%ED%98%81+%EC%B4%9B%EB%B6%88%EC%A7%91%ED%9A%8C&amp;DA=ATG&amp;rtmaxcoll=1TH\">검찰개혁 촛불집회</a></span>\n",
       "</div>\n",
       "<div aria-hidden=\"true\" class=\"rank_cont\">\n",
       "<span class=\"num_pctop rank4\"><span class=\"ir_wa\">4위}</span></span>\n",
       "<span class=\"txt_issue\"><a class=\"link_issue\" href=\"https://search.daum.net/search?w=tot&amp;q=%EA%B2%80%EC%B0%B0%EA%B0%9C%ED%98%81+%EC%B4%9B%EB%B6%88%EC%A7%91%ED%9A%8C&amp;DA=ATG&amp;rtmaxcoll=1TH\" tabindex=\"-1\">검찰개혁 촛불집회</a></span>\n",
       "</div>\n",
       "</div>\n",
       "</li>\n",
       "<li class=\"\">\n",
       "<div class=\"roll_txt @5\">\n",
       "<div class=\"rank_cont\">\n",
       "<span class=\"num_pctop rank5\"><span class=\"ir_wa\">5위</span></span>\n",
       "<span class=\"txt_issue\"><a class=\"link_issue\" href=\"https://search.daum.net/search?w=tot&amp;q=%EB%B0%95%EC%98%81%EA%B7%9C&amp;DA=ATG&amp;rtmaxcoll=1TH\">박영규</a></span>\n",
       "</div>\n",
       "<div aria-hidden=\"true\" class=\"rank_cont\">\n",
       "<span class=\"num_pctop rank5\"><span class=\"ir_wa\">5위}</span></span>\n",
       "<span class=\"txt_issue\"><a class=\"link_issue\" href=\"https://search.daum.net/search?w=tot&amp;q=%EB%B0%95%EC%98%81%EA%B7%9C&amp;DA=ATG&amp;rtmaxcoll=1TH\" tabindex=\"-1\">박영규</a></span>\n",
       "</div>\n",
       "</div>\n",
       "</li>\n",
       "<li class=\"\">\n",
       "<div class=\"roll_txt @6\">\n",
       "<div class=\"rank_cont\">\n",
       "<span class=\"num_pctop rank6\"><span class=\"ir_wa\">6위</span></span>\n",
       "<span class=\"txt_issue\"><a class=\"link_issue\" href=\"https://search.daum.net/search?w=tot&amp;q=%EC%84%A0%EB%8F%99%ED%98%81&amp;DA=ATG&amp;rtmaxcoll=1TH\">선동혁</a></span>\n",
       "</div>\n",
       "<div aria-hidden=\"true\" class=\"rank_cont\">\n",
       "<span class=\"num_pctop rank6\"><span class=\"ir_wa\">6위}</span></span>\n",
       "<span class=\"txt_issue\"><a class=\"link_issue\" href=\"https://search.daum.net/search?w=tot&amp;q=%EC%84%A0%EB%8F%99%ED%98%81&amp;DA=ATG&amp;rtmaxcoll=1TH\" tabindex=\"-1\">선동혁</a></span>\n",
       "</div>\n",
       "</div>\n",
       "</li>\n",
       "<li class=\"\">\n",
       "<div class=\"roll_txt @7\">\n",
       "<div class=\"rank_cont\">\n",
       "<span class=\"num_pctop rank7\"><span class=\"ir_wa\">7위</span></span>\n",
       "<span class=\"txt_issue\"><a class=\"link_issue\" href=\"https://search.daum.net/search?w=tot&amp;q=%EC%84%9C%EC%B4%88%EB%8F%99+%EC%A7%91%ED%9A%8C&amp;DA=ATG&amp;rtmaxcoll=1TH\">서초동 집회</a></span>\n",
       "</div>\n",
       "<div aria-hidden=\"true\" class=\"rank_cont\">\n",
       "<span class=\"num_pctop rank7\"><span class=\"ir_wa\">7위}</span></span>\n",
       "<span class=\"txt_issue\"><a class=\"link_issue\" href=\"https://search.daum.net/search?w=tot&amp;q=%EC%84%9C%EC%B4%88%EB%8F%99+%EC%A7%91%ED%9A%8C&amp;DA=ATG&amp;rtmaxcoll=1TH\" tabindex=\"-1\">서초동 집회</a></span>\n",
       "</div>\n",
       "</div>\n",
       "</li>\n",
       "<li class=\"\">\n",
       "<div class=\"roll_txt @8\">\n",
       "<div class=\"rank_cont\">\n",
       "<span class=\"num_pctop rank8\"><span class=\"ir_wa\">8위</span></span>\n",
       "<span class=\"txt_issue\"><a class=\"link_issue\" href=\"https://search.daum.net/search?w=tot&amp;q=%ED%9A%A1%EC%84%B1+%ED%95%9C%EC%9A%B0%EC%B6%95%EC%A0%9C&amp;DA=ATG&amp;rtmaxcoll=1TH\">횡성 한우축제</a></span>\n",
       "</div>\n",
       "<div aria-hidden=\"true\" class=\"rank_cont\">\n",
       "<span class=\"num_pctop rank8\"><span class=\"ir_wa\">8위}</span></span>\n",
       "<span class=\"txt_issue\"><a class=\"link_issue\" href=\"https://search.daum.net/search?w=tot&amp;q=%ED%9A%A1%EC%84%B1+%ED%95%9C%EC%9A%B0%EC%B6%95%EC%A0%9C&amp;DA=ATG&amp;rtmaxcoll=1TH\" tabindex=\"-1\">횡성 한우축제</a></span>\n",
       "</div>\n",
       "</div>\n",
       "</li>\n",
       "<li class=\"\">\n",
       "<div class=\"roll_txt @9\">\n",
       "<div class=\"rank_cont\">\n",
       "<span class=\"num_pctop rank9\"><span class=\"ir_wa\">9위</span></span>\n",
       "<span class=\"txt_issue\"><a class=\"link_issue\" href=\"https://search.daum.net/search?w=tot&amp;q=%EC%98%A4%EA%B1%B0%EB%8F%88&amp;DA=ATG&amp;rtmaxcoll=1TH\">오거돈</a></span>\n",
       "</div>\n",
       "<div aria-hidden=\"true\" class=\"rank_cont\">\n",
       "<span class=\"num_pctop rank9\"><span class=\"ir_wa\">9위}</span></span>\n",
       "<span class=\"txt_issue\"><a class=\"link_issue\" href=\"https://search.daum.net/search?w=tot&amp;q=%EC%98%A4%EA%B1%B0%EB%8F%88&amp;DA=ATG&amp;rtmaxcoll=1TH\" tabindex=\"-1\">오거돈</a></span>\n",
       "</div>\n",
       "</div>\n",
       "</li>\n",
       "<li class=\"\">\n",
       "<div class=\"roll_txt @10\">\n",
       "<div class=\"rank_cont\">\n",
       "<span class=\"num_pctop rank10\"><span class=\"ir_wa\">10위</span></span>\n",
       "<span class=\"txt_issue\"><a class=\"link_issue\" href=\"https://search.daum.net/search?w=tot&amp;q=%EB%82%A8%EC%97%B0%EC%9A%B0&amp;DA=ATG&amp;rtmaxcoll=1TH\">남연우</a></span>\n",
       "</div>\n",
       "<div aria-hidden=\"true\" class=\"rank_cont\">\n",
       "<span class=\"num_pctop rank10\"><span class=\"ir_wa\">10위}</span></span>\n",
       "<span class=\"txt_issue\"><a class=\"link_issue\" href=\"https://search.daum.net/search?w=tot&amp;q=%EB%82%A8%EC%97%B0%EC%9A%B0&amp;DA=ATG&amp;rtmaxcoll=1TH\" tabindex=\"-1\">남연우</a></span>\n",
       "</div>\n",
       "</div>\n",
       "</li>\n",
       "</ol>"
      ]
     },
     "execution_count": 69,
     "metadata": {},
     "output_type": "execute_result"
    }
   ],
   "source": [
    "# Parser 시작하기 검색어를 포함하는 작은 단위로 나눕니다.\n",
    "soup = BeautifulSoup(page_text, 'lxml')\n",
    "ol_text = soup.find(\"ol\", attrs={\"class\":\"list_hotissue\"})\n",
    "ol_text"
   ]
  },
  {
   "cell_type": "code",
   "execution_count": 70,
   "metadata": {},
   "outputs": [
    {
     "data": {
      "text/plain": [
       "[<li class=\"current\">\n",
       " <div class=\"roll_txt @1\">\n",
       " <div class=\"rank_cont\">\n",
       " <span class=\"num_pctop rank1\"><span class=\"ir_wa\">1위</span></span>\n",
       " <span class=\"txt_issue\"><a class=\"link_issue\" href=\"https://search.daum.net/search?w=tot&amp;q=%EC%97%AC%EC%9D%98%EB%8F%84+%EB%B6%88%EA%BD%83%EC%B6%95%EC%A0%9C&amp;DA=ATG&amp;rtmaxcoll=1TH\">여의도 불꽃축제</a></span>\n",
       " </div>\n",
       " <div aria-hidden=\"true\" class=\"rank_cont\">\n",
       " <span class=\"num_pctop rank1\"><span class=\"ir_wa\">1위}</span></span>\n",
       " <span class=\"txt_issue\"><a class=\"link_issue\" href=\"https://search.daum.net/search?w=tot&amp;q=%EC%97%AC%EC%9D%98%EB%8F%84+%EB%B6%88%EA%BD%83%EC%B6%95%EC%A0%9C&amp;DA=ATG&amp;rtmaxcoll=1TH\" tabindex=\"-1\">여의도 불꽃축제</a></span>\n",
       " </div>\n",
       " </div>\n",
       " </li>, <li class=\"next\">\n",
       " <div class=\"roll_txt @2\">\n",
       " <div class=\"rank_cont\">\n",
       " <span class=\"num_pctop rank2\"><span class=\"ir_wa\">2위</span></span>\n",
       " <span class=\"txt_issue\"><a class=\"link_issue\" href=\"https://search.daum.net/search?w=tot&amp;q=%EC%9E%84%EC%9D%80%EC%A0%95&amp;DA=ATG&amp;rtmaxcoll=1TH\">임은정</a></span>\n",
       " </div>\n",
       " <div aria-hidden=\"true\" class=\"rank_cont\">\n",
       " <span class=\"num_pctop rank2\"><span class=\"ir_wa\">2위}</span></span>\n",
       " <span class=\"txt_issue\"><a class=\"link_issue\" href=\"https://search.daum.net/search?w=tot&amp;q=%EC%9E%84%EC%9D%80%EC%A0%95&amp;DA=ATG&amp;rtmaxcoll=1TH\" tabindex=\"-1\">임은정</a></span>\n",
       " </div>\n",
       " </div>\n",
       " </li>, <li class=\"\">\n",
       " <div class=\"roll_txt @3\">\n",
       " <div class=\"rank_cont\">\n",
       " <span class=\"num_pctop rank3\"><span class=\"ir_wa\">3위</span></span>\n",
       " <span class=\"txt_issue\"><a class=\"link_issue\" href=\"https://search.daum.net/search?w=tot&amp;q=%EB%82%98%EC%9D%98+%EB%82%98%EB%9D%BC&amp;DA=ATG&amp;rtmaxcoll=1TH\">나의 나라</a></span>\n",
       " </div>\n",
       " <div aria-hidden=\"true\" class=\"rank_cont\">\n",
       " <span class=\"num_pctop rank3\"><span class=\"ir_wa\">3위}</span></span>\n",
       " <span class=\"txt_issue\"><a class=\"link_issue\" href=\"https://search.daum.net/search?w=tot&amp;q=%EB%82%98%EC%9D%98+%EB%82%98%EB%9D%BC&amp;DA=ATG&amp;rtmaxcoll=1TH\" tabindex=\"-1\">나의 나라</a></span>\n",
       " </div>\n",
       " </div>\n",
       " </li>, <li class=\"\">\n",
       " <div class=\"roll_txt @4\">\n",
       " <div class=\"rank_cont\">\n",
       " <span class=\"num_pctop rank4\"><span class=\"ir_wa\">4위</span></span>\n",
       " <span class=\"txt_issue\"><a class=\"link_issue\" href=\"https://search.daum.net/search?w=tot&amp;q=%EA%B2%80%EC%B0%B0%EA%B0%9C%ED%98%81+%EC%B4%9B%EB%B6%88%EC%A7%91%ED%9A%8C&amp;DA=ATG&amp;rtmaxcoll=1TH\">검찰개혁 촛불집회</a></span>\n",
       " </div>\n",
       " <div aria-hidden=\"true\" class=\"rank_cont\">\n",
       " <span class=\"num_pctop rank4\"><span class=\"ir_wa\">4위}</span></span>\n",
       " <span class=\"txt_issue\"><a class=\"link_issue\" href=\"https://search.daum.net/search?w=tot&amp;q=%EA%B2%80%EC%B0%B0%EA%B0%9C%ED%98%81+%EC%B4%9B%EB%B6%88%EC%A7%91%ED%9A%8C&amp;DA=ATG&amp;rtmaxcoll=1TH\" tabindex=\"-1\">검찰개혁 촛불집회</a></span>\n",
       " </div>\n",
       " </div>\n",
       " </li>, <li class=\"\">\n",
       " <div class=\"roll_txt @5\">\n",
       " <div class=\"rank_cont\">\n",
       " <span class=\"num_pctop rank5\"><span class=\"ir_wa\">5위</span></span>\n",
       " <span class=\"txt_issue\"><a class=\"link_issue\" href=\"https://search.daum.net/search?w=tot&amp;q=%EB%B0%95%EC%98%81%EA%B7%9C&amp;DA=ATG&amp;rtmaxcoll=1TH\">박영규</a></span>\n",
       " </div>\n",
       " <div aria-hidden=\"true\" class=\"rank_cont\">\n",
       " <span class=\"num_pctop rank5\"><span class=\"ir_wa\">5위}</span></span>\n",
       " <span class=\"txt_issue\"><a class=\"link_issue\" href=\"https://search.daum.net/search?w=tot&amp;q=%EB%B0%95%EC%98%81%EA%B7%9C&amp;DA=ATG&amp;rtmaxcoll=1TH\" tabindex=\"-1\">박영규</a></span>\n",
       " </div>\n",
       " </div>\n",
       " </li>, <li class=\"\">\n",
       " <div class=\"roll_txt @6\">\n",
       " <div class=\"rank_cont\">\n",
       " <span class=\"num_pctop rank6\"><span class=\"ir_wa\">6위</span></span>\n",
       " <span class=\"txt_issue\"><a class=\"link_issue\" href=\"https://search.daum.net/search?w=tot&amp;q=%EC%84%A0%EB%8F%99%ED%98%81&amp;DA=ATG&amp;rtmaxcoll=1TH\">선동혁</a></span>\n",
       " </div>\n",
       " <div aria-hidden=\"true\" class=\"rank_cont\">\n",
       " <span class=\"num_pctop rank6\"><span class=\"ir_wa\">6위}</span></span>\n",
       " <span class=\"txt_issue\"><a class=\"link_issue\" href=\"https://search.daum.net/search?w=tot&amp;q=%EC%84%A0%EB%8F%99%ED%98%81&amp;DA=ATG&amp;rtmaxcoll=1TH\" tabindex=\"-1\">선동혁</a></span>\n",
       " </div>\n",
       " </div>\n",
       " </li>, <li class=\"\">\n",
       " <div class=\"roll_txt @7\">\n",
       " <div class=\"rank_cont\">\n",
       " <span class=\"num_pctop rank7\"><span class=\"ir_wa\">7위</span></span>\n",
       " <span class=\"txt_issue\"><a class=\"link_issue\" href=\"https://search.daum.net/search?w=tot&amp;q=%EC%84%9C%EC%B4%88%EB%8F%99+%EC%A7%91%ED%9A%8C&amp;DA=ATG&amp;rtmaxcoll=1TH\">서초동 집회</a></span>\n",
       " </div>\n",
       " <div aria-hidden=\"true\" class=\"rank_cont\">\n",
       " <span class=\"num_pctop rank7\"><span class=\"ir_wa\">7위}</span></span>\n",
       " <span class=\"txt_issue\"><a class=\"link_issue\" href=\"https://search.daum.net/search?w=tot&amp;q=%EC%84%9C%EC%B4%88%EB%8F%99+%EC%A7%91%ED%9A%8C&amp;DA=ATG&amp;rtmaxcoll=1TH\" tabindex=\"-1\">서초동 집회</a></span>\n",
       " </div>\n",
       " </div>\n",
       " </li>, <li class=\"\">\n",
       " <div class=\"roll_txt @8\">\n",
       " <div class=\"rank_cont\">\n",
       " <span class=\"num_pctop rank8\"><span class=\"ir_wa\">8위</span></span>\n",
       " <span class=\"txt_issue\"><a class=\"link_issue\" href=\"https://search.daum.net/search?w=tot&amp;q=%ED%9A%A1%EC%84%B1+%ED%95%9C%EC%9A%B0%EC%B6%95%EC%A0%9C&amp;DA=ATG&amp;rtmaxcoll=1TH\">횡성 한우축제</a></span>\n",
       " </div>\n",
       " <div aria-hidden=\"true\" class=\"rank_cont\">\n",
       " <span class=\"num_pctop rank8\"><span class=\"ir_wa\">8위}</span></span>\n",
       " <span class=\"txt_issue\"><a class=\"link_issue\" href=\"https://search.daum.net/search?w=tot&amp;q=%ED%9A%A1%EC%84%B1+%ED%95%9C%EC%9A%B0%EC%B6%95%EC%A0%9C&amp;DA=ATG&amp;rtmaxcoll=1TH\" tabindex=\"-1\">횡성 한우축제</a></span>\n",
       " </div>\n",
       " </div>\n",
       " </li>, <li class=\"\">\n",
       " <div class=\"roll_txt @9\">\n",
       " <div class=\"rank_cont\">\n",
       " <span class=\"num_pctop rank9\"><span class=\"ir_wa\">9위</span></span>\n",
       " <span class=\"txt_issue\"><a class=\"link_issue\" href=\"https://search.daum.net/search?w=tot&amp;q=%EC%98%A4%EA%B1%B0%EB%8F%88&amp;DA=ATG&amp;rtmaxcoll=1TH\">오거돈</a></span>\n",
       " </div>\n",
       " <div aria-hidden=\"true\" class=\"rank_cont\">\n",
       " <span class=\"num_pctop rank9\"><span class=\"ir_wa\">9위}</span></span>\n",
       " <span class=\"txt_issue\"><a class=\"link_issue\" href=\"https://search.daum.net/search?w=tot&amp;q=%EC%98%A4%EA%B1%B0%EB%8F%88&amp;DA=ATG&amp;rtmaxcoll=1TH\" tabindex=\"-1\">오거돈</a></span>\n",
       " </div>\n",
       " </div>\n",
       " </li>, <li class=\"\">\n",
       " <div class=\"roll_txt @10\">\n",
       " <div class=\"rank_cont\">\n",
       " <span class=\"num_pctop rank10\"><span class=\"ir_wa\">10위</span></span>\n",
       " <span class=\"txt_issue\"><a class=\"link_issue\" href=\"https://search.daum.net/search?w=tot&amp;q=%EB%82%A8%EC%97%B0%EC%9A%B0&amp;DA=ATG&amp;rtmaxcoll=1TH\">남연우</a></span>\n",
       " </div>\n",
       " <div aria-hidden=\"true\" class=\"rank_cont\">\n",
       " <span class=\"num_pctop rank10\"><span class=\"ir_wa\">10위}</span></span>\n",
       " <span class=\"txt_issue\"><a class=\"link_issue\" href=\"https://search.daum.net/search?w=tot&amp;q=%EB%82%A8%EC%97%B0%EC%9A%B0&amp;DA=ATG&amp;rtmaxcoll=1TH\" tabindex=\"-1\">남연우</a></span>\n",
       " </div>\n",
       " </div>\n",
       " </li>]"
      ]
     },
     "execution_count": 70,
     "metadata": {},
     "output_type": "execute_result"
    }
   ],
   "source": [
    "# 그 단위에 대해 검색어별로 존재하게 li로 자릅니다\n",
    "li_list = ol_text.find_all(\"li\")\n",
    "li_list"
   ]
  },
  {
   "cell_type": "code",
   "execution_count": 71,
   "metadata": {},
   "outputs": [
    {
     "name": "stdout",
     "output_type": "stream",
     "text": [
      "Sat Oct  5 17:04:41 2019 1 여의도 불꽃축제\n",
      "Sat Oct  5 17:04:41 2019 2 임은정\n",
      "Sat Oct  5 17:04:41 2019 3 나의 나라\n",
      "Sat Oct  5 17:04:41 2019 4 검찰개혁 촛불집회\n",
      "Sat Oct  5 17:04:41 2019 5 박영규\n",
      "Sat Oct  5 17:04:41 2019 6 선동혁\n",
      "Sat Oct  5 17:04:41 2019 7 서초동 집회\n",
      "Sat Oct  5 17:04:41 2019 8 횡성 한우축제\n",
      "Sat Oct  5 17:04:41 2019 9 오거돈\n",
      "Sat Oct  5 17:04:41 2019 10 남연우\n"
     ]
    }
   ],
   "source": [
    "# 잘라낸 각 검색어 단위에 대해 원하는 순위와 검색어만 존재하도록 작업하여 출력합니다.\n",
    "# TODO: 찾아낸 각각의 검색어를 du_keywords에 담아야 합니다.\n",
    "du_keywords = []\n",
    "for li in li_list:\n",
    "    item = li.select(\"div.rank_cont:nth-of-type(1)\")[0]\n",
    "    rank = int(item.find(\"span\", attrs={\"class\":\"ir_wa\"}).text.replace(\"위\",\"\"))\n",
    "    keyword = item.find(\"a\").text\n",
    "    du_keywords.append((executed_time, rank, keyword))\n",
    "    print(executed_time,rank, keyword)"
   ]
  },
  {
   "cell_type": "code",
   "execution_count": 72,
   "metadata": {},
   "outputs": [
    {
     "data": {
      "text/plain": [
       "[('Sat Oct  5 17:04:41 2019', 1, '여의도 불꽃축제'),\n",
       " ('Sat Oct  5 17:04:41 2019', 2, '임은정'),\n",
       " ('Sat Oct  5 17:04:41 2019', 3, '나의 나라'),\n",
       " ('Sat Oct  5 17:04:41 2019', 4, '검찰개혁 촛불집회'),\n",
       " ('Sat Oct  5 17:04:41 2019', 5, '박영규'),\n",
       " ('Sat Oct  5 17:04:41 2019', 6, '선동혁'),\n",
       " ('Sat Oct  5 17:04:41 2019', 7, '서초동 집회'),\n",
       " ('Sat Oct  5 17:04:41 2019', 8, '횡성 한우축제'),\n",
       " ('Sat Oct  5 17:04:41 2019', 9, '오거돈'),\n",
       " ('Sat Oct  5 17:04:41 2019', 10, '남연우')]"
      ]
     },
     "execution_count": 72,
     "metadata": {},
     "output_type": "execute_result"
    }
   ],
   "source": [
    "du_keywords"
   ]
  },
  {
   "cell_type": "markdown",
   "metadata": {},
   "source": [
    "## RottenTomatoes Boxoffice 가져오기"
   ]
  },
  {
   "cell_type": "code",
   "execution_count": 88,
   "metadata": {},
   "outputs": [
    {
     "data": {
      "text/plain": [
       "200"
      ]
     },
     "execution_count": 88,
     "metadata": {},
     "output_type": "execute_result"
    }
   ],
   "source": [
    "# Rotten tomatoes 접근하기\n",
    "response = requests.get(\"https://rottentomatoes.com/\")\n",
    "executed_time = time.ctime()\n",
    "response.status_code"
   ]
  },
  {
   "cell_type": "code",
   "execution_count": 89,
   "metadata": {},
   "outputs": [
    {
     "data": {
      "text/plain": [
       "[<tr class=\"sidebarInTheaterOpening\">\n",
       " <td class=\"left_col\">\n",
       " <a href=\"/m/abominable\">\n",
       " <span class=\"icon tiny certified_fresh\"></span>\n",
       " <span class=\"tMeterScore\">81%</span>\n",
       " </a>\n",
       " </td>\n",
       " <td class=\"middle_col\">\n",
       " <a href=\"/m/abominable\">Abominable</a>\n",
       " </td>\n",
       " <td class=\"right_col right\">\n",
       " <a href=\"/m/abominable\">$20.9M</a>\n",
       " </td>\n",
       " </tr>, <tr class=\"sidebarInTheaterOpening\">\n",
       " <td class=\"left_col\">\n",
       " <a href=\"/m/downton_abbey\">\n",
       " <span class=\"icon tiny certified_fresh\"></span>\n",
       " <span class=\"tMeterScore\">85%</span>\n",
       " </a>\n",
       " </td>\n",
       " <td class=\"middle_col\">\n",
       " <a href=\"/m/downton_abbey\">Downton Abbey</a>\n",
       " </td>\n",
       " <td class=\"right_col right\">\n",
       " <a href=\"/m/downton_abbey\">$14.6M</a>\n",
       " </td>\n",
       " </tr>, <tr class=\"sidebarInTheaterOpening\">\n",
       " <td class=\"left_col\">\n",
       " <a href=\"/m/hustlers_2019\">\n",
       " <span class=\"icon tiny certified_fresh\"></span>\n",
       " <span class=\"tMeterScore\">88%</span>\n",
       " </a>\n",
       " </td>\n",
       " <td class=\"middle_col\">\n",
       " <a href=\"/m/hustlers_2019\">Hustlers</a>\n",
       " </td>\n",
       " <td class=\"right_col right\">\n",
       " <a href=\"/m/hustlers_2019\">$11.6M</a>\n",
       " </td>\n",
       " </tr>, <tr class=\"sidebarInTheaterOpening\">\n",
       " <td class=\"left_col\">\n",
       " <a href=\"/m/it_chapter_two\">\n",
       " <span class=\"icon tiny fresh\"></span>\n",
       " <span class=\"tMeterScore\">63%</span>\n",
       " </a>\n",
       " </td>\n",
       " <td class=\"middle_col\">\n",
       " <a href=\"/m/it_chapter_two\">It Chapter Two</a>\n",
       " </td>\n",
       " <td class=\"right_col right\">\n",
       " <a href=\"/m/it_chapter_two\">$10.4M</a>\n",
       " </td>\n",
       " </tr>, <tr class=\"sidebarInTheaterOpening\">\n",
       " <td class=\"left_col\">\n",
       " <a href=\"/m/ad_astra\">\n",
       " <span class=\"icon tiny certified_fresh\"></span>\n",
       " <span class=\"tMeterScore\">83%</span>\n",
       " </a>\n",
       " </td>\n",
       " <td class=\"middle_col\">\n",
       " <a href=\"/m/ad_astra\">Ad Astra</a>\n",
       " </td>\n",
       " <td class=\"right_col right\">\n",
       " <a href=\"/m/ad_astra\">$10.2M</a>\n",
       " </td>\n",
       " </tr>, <tr class=\"sidebarInTheaterOpening\">\n",
       " <td class=\"left_col\">\n",
       " <a href=\"/m/rambo_last_blood\">\n",
       " <span class=\"icon tiny rotten\"></span>\n",
       " <span class=\"tMeterScore\">26%</span>\n",
       " </a>\n",
       " </td>\n",
       " <td class=\"middle_col\">\n",
       " <a href=\"/m/rambo_last_blood\">Rambo: Last Blood</a>\n",
       " </td>\n",
       " <td class=\"right_col right\">\n",
       " <a href=\"/m/rambo_last_blood\">$8.7M</a>\n",
       " </td>\n",
       " </tr>, <tr class=\"sidebarInTheaterOpening\">\n",
       " <td class=\"left_col\">\n",
       " <a href=\"/m/judy_2019\">\n",
       " <span class=\"icon tiny certified_fresh\"></span>\n",
       " <span class=\"tMeterScore\">83%</span>\n",
       " </a>\n",
       " </td>\n",
       " <td class=\"middle_col\">\n",
       " <a href=\"/m/judy_2019\">Judy</a>\n",
       " </td>\n",
       " <td class=\"right_col right\">\n",
       " <a href=\"/m/judy_2019\">$3.1M</a>\n",
       " </td>\n",
       " </tr>, <tr class=\"sidebarInTheaterOpening\">\n",
       " <td class=\"left_col\">\n",
       " <a href=\"/m/good_boys_2019\">\n",
       " <span class=\"icon tiny certified_fresh\"></span>\n",
       " <span class=\"tMeterScore\">80%</span>\n",
       " </a>\n",
       " </td>\n",
       " <td class=\"middle_col\">\n",
       " <a href=\"/m/good_boys_2019\">Good Boys</a>\n",
       " </td>\n",
       " <td class=\"right_col right\">\n",
       " <a href=\"/m/good_boys_2019\">$2M</a>\n",
       " </td>\n",
       " </tr>, <tr class=\"sidebarInTheaterOpening\">\n",
       " <td class=\"left_col\">\n",
       " <a href=\"/m/the_lion_king_2019\">\n",
       " <span class=\"icon tiny rotten\"></span>\n",
       " <span class=\"tMeterScore\">53%</span>\n",
       " </a>\n",
       " </td>\n",
       " <td class=\"middle_col\">\n",
       " <a href=\"/m/the_lion_king_2019\">The Lion King</a>\n",
       " </td>\n",
       " <td class=\"right_col right\">\n",
       " <a href=\"/m/the_lion_king_2019\">$1.6M</a>\n",
       " </td>\n",
       " </tr>, <tr class=\"sidebarInTheaterOpening\">\n",
       " <td class=\"left_col\">\n",
       " <a href=\"/m/angel_has_fallen\">\n",
       " <span class=\"icon tiny rotten\"></span>\n",
       " <span class=\"tMeterScore\">39%</span>\n",
       " </a>\n",
       " </td>\n",
       " <td class=\"middle_col\">\n",
       " <a href=\"/m/angel_has_fallen\">Angel Has Fallen</a>\n",
       " </td>\n",
       " <td class=\"right_col right\">\n",
       " <a href=\"/m/angel_has_fallen\">$1.6M</a>\n",
       " </td>\n",
       " </tr>]"
      ]
     },
     "execution_count": 89,
     "metadata": {},
     "output_type": "execute_result"
    }
   ],
   "source": [
    "# page source 받아내기\n",
    "page_text = response.text\n",
    "\n",
    "# 전체 페이지 소스에 Boxoffice 데이터 접근하기 시작\n",
    "soup = BeautifulSoup(page_text, 'lxml')\n",
    "# ID가 Top-Box-Office인 table을 찾습니다\n",
    "table_data = soup.find(\"table\", attrs={\"id\":\"Top-Box-Office\"})\n",
    "\n",
    "# 2차원 단위 데이터에서 가로줄을 기준으로 데이터를 분할합니다.\n",
    "tr_list = table_data.find_all(\"tr\")\n",
    "tr_list"
   ]
  },
  {
   "cell_type": "code",
   "execution_count": 93,
   "metadata": {
    "scrolled": true
   },
   "outputs": [
    {
     "name": "stdout",
     "output_type": "stream",
     "text": [
      "Sat Oct  5 17:35:00 2019 81 Abominable 20.9M\n",
      "Sat Oct  5 17:35:00 2019 85 Downton Abbey 14.6M\n",
      "Sat Oct  5 17:35:00 2019 88 Hustlers 11.6M\n",
      "Sat Oct  5 17:35:00 2019 63 It Chapter Two 10.4M\n",
      "Sat Oct  5 17:35:00 2019 83 Ad Astra 10.2M\n",
      "Sat Oct  5 17:35:00 2019 26 Rambo: Last Blood 8.7M\n",
      "Sat Oct  5 17:35:00 2019 83 Judy 3.1M\n",
      "Sat Oct  5 17:35:00 2019 80 Good Boys 2M\n",
      "Sat Oct  5 17:35:00 2019 53 The Lion King 1.6M\n",
      "Sat Oct  5 17:35:00 2019 39 Angel Has Fallen 1.6M\n"
     ]
    }
   ],
   "source": [
    "# 모든 tr에 대해 데이터를 추출하는 작업을 반복수행합니다.\n",
    "box_office_list = []\n",
    "for tr in tr_list:\n",
    "    a_list = tr.find_all(\"a\")\n",
    "    score = int(a_list[0].find(\"span\", attrs={\"class\":\"tMeterScore\"}).text.replace(\"%\",\"\"))\n",
    "    movie_name = a_list[1].text\n",
    "    revenue = a_list[2].text.replace(\"$\",\"\")\n",
    "    box_office_list.append((executed_time, score, movie_name, revenue))\n",
    "    print(executed_time, score, movie_name, revenue)"
   ]
  },
  {
   "cell_type": "markdown",
   "metadata": {},
   "source": [
    "## 가져온 데이터 저장하기"
   ]
  },
  {
   "cell_type": "code",
   "execution_count": 95,
   "metadata": {},
   "outputs": [
    {
     "data": {
      "text/plain": [
       "[('Sat Oct  5 17:35:00 2019', 81, 'Abominable', '20.9M'),\n",
       " ('Sat Oct  5 17:35:00 2019', 85, 'Downton Abbey', '14.6M'),\n",
       " ('Sat Oct  5 17:35:00 2019', 88, 'Hustlers', '11.6M'),\n",
       " ('Sat Oct  5 17:35:00 2019', 63, 'It Chapter Two', '10.4M'),\n",
       " ('Sat Oct  5 17:35:00 2019', 83, 'Ad Astra', '10.2M'),\n",
       " ('Sat Oct  5 17:35:00 2019', 26, 'Rambo: Last Blood', '8.7M'),\n",
       " ('Sat Oct  5 17:35:00 2019', 83, 'Judy', '3.1M'),\n",
       " ('Sat Oct  5 17:35:00 2019', 80, 'Good Boys', '2M'),\n",
       " ('Sat Oct  5 17:35:00 2019', 53, 'The Lion King', '1.6M'),\n",
       " ('Sat Oct  5 17:35:00 2019', 39, 'Angel Has Fallen', '1.6M')]"
      ]
     },
     "execution_count": 95,
     "metadata": {},
     "output_type": "execute_result"
    }
   ],
   "source": [
    "box_office_list"
   ]
  },
  {
   "cell_type": "code",
   "execution_count": 96,
   "metadata": {},
   "outputs": [
    {
     "data": {
      "text/plain": [
       "[('Sat Oct  5 16:48:37 2019', 1, '루디아 악어크림'),\n",
       " ('Sat Oct  5 16:48:37 2019', 2, '김옥원회장'),\n",
       " ('Sat Oct  5 16:48:37 2019', 3, '박영규 아들'),\n",
       " ('Sat Oct  5 16:48:37 2019', 4, '염따 후드티'),\n",
       " ('Sat Oct  5 16:48:37 2019', 5, '오거돈'),\n",
       " ('Sat Oct  5 16:48:37 2019', 6, '방미'),\n",
       " ('Sat Oct  5 16:48:37 2019', 7, '염따 티셔츠'),\n",
       " ('Sat Oct  5 16:48:37 2019', 8, '2019 여의도 불꽃축제 시간'),\n",
       " ('Sat Oct  5 16:48:37 2019', 9, '불꽃축제'),\n",
       " ('Sat Oct  5 16:48:37 2019', 10, '서초동 집회'),\n",
       " ('Sat Oct  5 16:48:37 2019', 11, '염따'),\n",
       " ('Sat Oct  5 16:48:37 2019', 12, '2019 여의도 불꽃축제 명당'),\n",
       " ('Sat Oct  5 16:48:37 2019', 13, '2019 여의도 불꽃축제'),\n",
       " ('Sat Oct  5 16:48:37 2019', 14, '박영규'),\n",
       " ('Sat Oct  5 16:48:37 2019', 15, '김옥원'),\n",
       " ('Sat Oct  5 16:48:37 2019', 16, '음악중심'),\n",
       " ('Sat Oct  5 16:48:37 2019', 17, '김성령'),\n",
       " ('Sat Oct  5 16:48:37 2019', 18, '말괄량이 삐삐 결말'),\n",
       " ('Sat Oct  5 16:48:37 2019', 19, '아이마스크'),\n",
       " ('Sat Oct  5 16:48:37 2019', 20, '설인아')]"
      ]
     },
     "execution_count": 96,
     "metadata": {},
     "output_type": "execute_result"
    }
   ],
   "source": [
    "nv_keywords"
   ]
  },
  {
   "cell_type": "code",
   "execution_count": 97,
   "metadata": {},
   "outputs": [
    {
     "data": {
      "text/plain": [
       "[('Sat Oct  5 17:04:41 2019', 1, '여의도 불꽃축제'),\n",
       " ('Sat Oct  5 17:04:41 2019', 2, '임은정'),\n",
       " ('Sat Oct  5 17:04:41 2019', 3, '나의 나라'),\n",
       " ('Sat Oct  5 17:04:41 2019', 4, '검찰개혁 촛불집회'),\n",
       " ('Sat Oct  5 17:04:41 2019', 5, '박영규'),\n",
       " ('Sat Oct  5 17:04:41 2019', 6, '선동혁'),\n",
       " ('Sat Oct  5 17:04:41 2019', 7, '서초동 집회'),\n",
       " ('Sat Oct  5 17:04:41 2019', 8, '횡성 한우축제'),\n",
       " ('Sat Oct  5 17:04:41 2019', 9, '오거돈'),\n",
       " ('Sat Oct  5 17:04:41 2019', 10, '남연우')]"
      ]
     },
     "execution_count": 97,
     "metadata": {},
     "output_type": "execute_result"
    }
   ],
   "source": [
    "du_keywords"
   ]
  },
  {
   "cell_type": "code",
   "execution_count": 98,
   "metadata": {},
   "outputs": [
    {
     "data": {
      "text/plain": [
       "[('Sat Oct  5 17:35:00 2019', 81, 'Abominable', '20.9M'),\n",
       " ('Sat Oct  5 17:35:00 2019', 85, 'Downton Abbey', '14.6M'),\n",
       " ('Sat Oct  5 17:35:00 2019', 88, 'Hustlers', '11.6M'),\n",
       " ('Sat Oct  5 17:35:00 2019', 63, 'It Chapter Two', '10.4M'),\n",
       " ('Sat Oct  5 17:35:00 2019', 83, 'Ad Astra', '10.2M'),\n",
       " ('Sat Oct  5 17:35:00 2019', 26, 'Rambo: Last Blood', '8.7M'),\n",
       " ('Sat Oct  5 17:35:00 2019', 83, 'Judy', '3.1M'),\n",
       " ('Sat Oct  5 17:35:00 2019', 80, 'Good Boys', '2M'),\n",
       " ('Sat Oct  5 17:35:00 2019', 53, 'The Lion King', '1.6M'),\n",
       " ('Sat Oct  5 17:35:00 2019', 39, 'Angel Has Fallen', '1.6M')]"
      ]
     },
     "execution_count": 98,
     "metadata": {},
     "output_type": "execute_result"
    }
   ],
   "source": [
    "box_office_list"
   ]
  },
  {
   "cell_type": "code",
   "execution_count": 105,
   "metadata": {},
   "outputs": [],
   "source": [
    "with open('new_naver_query.txt', 'w') as f:\n",
    "    for query in nv_keywords:\n",
    "        f.write(\n",
    "            query[0]+\"순간에 \"+ \n",
    "            str(query[1]) + \"위의 검색어는 \"+ \n",
    "            query[2] + \n",
    "            \"입니다.\\n\")"
   ]
  },
  {
   "cell_type": "code",
   "execution_count": 111,
   "metadata": {},
   "outputs": [],
   "source": [
    "with open('re_naver_query.csv', 'w') as f:\n",
    "    for query in nv_keywords:\n",
    "        f.write(query[0]+\",\"+str(query[1])+\",\"+query[2]+\"\\n\")"
   ]
  },
  {
   "cell_type": "code",
   "execution_count": 112,
   "metadata": {},
   "outputs": [
    {
     "name": "stdout",
     "output_type": "stream",
     "text": [
      "Sat Oct  5 16:48:37 2019,1,루디아 악어크림\n",
      "\n",
      "Sat Oct  5 16:48:37 2019,2,김옥원회장\n",
      "\n",
      "Sat Oct  5 16:48:37 2019,3,박영규 아들\n",
      "\n",
      "Sat Oct  5 16:48:37 2019,4,염따 후드티\n",
      "\n",
      "Sat Oct  5 16:48:37 2019,5,오거돈\n",
      "\n",
      "Sat Oct  5 16:48:37 2019,6,방미\n",
      "\n",
      "Sat Oct  5 16:48:37 2019,7,염따 티셔츠\n",
      "\n",
      "Sat Oct  5 16:48:37 2019,8,2019 여의도 불꽃축제 시간\n",
      "\n",
      "Sat Oct  5 16:48:37 2019,9,불꽃축제\n",
      "\n",
      "Sat Oct  5 16:48:37 2019,10,서초동 집회\n",
      "\n",
      "Sat Oct  5 16:48:37 2019,11,염따\n",
      "\n",
      "Sat Oct  5 16:48:37 2019,12,2019 여의도 불꽃축제 명당\n",
      "\n",
      "Sat Oct  5 16:48:37 2019,13,2019 여의도 불꽃축제\n",
      "\n",
      "Sat Oct  5 16:48:37 2019,14,박영규\n",
      "\n",
      "Sat Oct  5 16:48:37 2019,15,김옥원\n",
      "\n",
      "Sat Oct  5 16:48:37 2019,16,음악중심\n",
      "\n",
      "Sat Oct  5 16:48:37 2019,17,김성령\n",
      "\n",
      "Sat Oct  5 16:48:37 2019,18,말괄량이 삐삐 결말\n",
      "\n",
      "Sat Oct  5 16:48:37 2019,19,아이마스크\n",
      "\n",
      "Sat Oct  5 16:48:37 2019,20,설인아\n",
      "\n"
     ]
    }
   ],
   "source": [
    "with open('re_naver_query.csv', 'r') as f:\n",
    "    data = f.readlines()\n",
    "    for text in data:\n",
    "        print(text)"
   ]
  },
  {
   "cell_type": "code",
   "execution_count": 106,
   "metadata": {},
   "outputs": [
    {
     "name": "stdout",
     "output_type": "stream",
     "text": [
      "Sat Oct  5 16:48:37 2019순간에 1위의 검색어는 루디아 악어크림입니다.\n",
      "\n",
      "Sat Oct  5 16:48:37 2019순간에 2위의 검색어는 김옥원회장입니다.\n",
      "\n",
      "Sat Oct  5 16:48:37 2019순간에 3위의 검색어는 박영규 아들입니다.\n",
      "\n",
      "Sat Oct  5 16:48:37 2019순간에 4위의 검색어는 염따 후드티입니다.\n",
      "\n",
      "Sat Oct  5 16:48:37 2019순간에 5위의 검색어는 오거돈입니다.\n",
      "\n",
      "Sat Oct  5 16:48:37 2019순간에 6위의 검색어는 방미입니다.\n",
      "\n",
      "Sat Oct  5 16:48:37 2019순간에 7위의 검색어는 염따 티셔츠입니다.\n",
      "\n",
      "Sat Oct  5 16:48:37 2019순간에 8위의 검색어는 2019 여의도 불꽃축제 시간입니다.\n",
      "\n",
      "Sat Oct  5 16:48:37 2019순간에 9위의 검색어는 불꽃축제입니다.\n",
      "\n",
      "Sat Oct  5 16:48:37 2019순간에 10위의 검색어는 서초동 집회입니다.\n",
      "\n",
      "Sat Oct  5 16:48:37 2019순간에 11위의 검색어는 염따입니다.\n",
      "\n",
      "Sat Oct  5 16:48:37 2019순간에 12위의 검색어는 2019 여의도 불꽃축제 명당입니다.\n",
      "\n",
      "Sat Oct  5 16:48:37 2019순간에 13위의 검색어는 2019 여의도 불꽃축제입니다.\n",
      "\n",
      "Sat Oct  5 16:48:37 2019순간에 14위의 검색어는 박영규입니다.\n",
      "\n",
      "Sat Oct  5 16:48:37 2019순간에 15위의 검색어는 김옥원입니다.\n",
      "\n",
      "Sat Oct  5 16:48:37 2019순간에 16위의 검색어는 음악중심입니다.\n",
      "\n",
      "Sat Oct  5 16:48:37 2019순간에 17위의 검색어는 김성령입니다.\n",
      "\n",
      "Sat Oct  5 16:48:37 2019순간에 18위의 검색어는 말괄량이 삐삐 결말입니다.\n",
      "\n",
      "Sat Oct  5 16:48:37 2019순간에 19위의 검색어는 아이마스크입니다.\n",
      "\n",
      "Sat Oct  5 16:48:37 2019순간에 20위의 검색어는 설인아입니다.\n",
      "\n"
     ]
    }
   ],
   "source": [
    "with open('new_naver_query.txt', 'r') as f:\n",
    "    data = f.readlines()\n",
    "    for text in data:\n",
    "        print(text)"
   ]
  },
  {
   "cell_type": "code",
   "execution_count": null,
   "metadata": {},
   "outputs": [],
   "source": []
  },
  {
   "cell_type": "code",
   "execution_count": null,
   "metadata": {},
   "outputs": [],
   "source": []
  },
  {
   "cell_type": "code",
   "execution_count": null,
   "metadata": {},
   "outputs": [],
   "source": []
  }
 ],
 "metadata": {
  "kernelspec": {
   "display_name": "Python 3",
   "language": "python",
   "name": "python3"
  },
  "language_info": {
   "codemirror_mode": {
    "name": "ipython",
    "version": 3
   },
   "file_extension": ".py",
   "mimetype": "text/x-python",
   "name": "python",
   "nbconvert_exporter": "python",
   "pygments_lexer": "ipython3",
   "version": "3.7.4"
  }
 },
 "nbformat": 4,
 "nbformat_minor": 2
}
