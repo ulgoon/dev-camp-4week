{
 "cells": [
  {
   "cell_type": "code",
   "execution_count": 1,
   "metadata": {},
   "outputs": [],
   "source": [
    "import random"
   ]
  },
  {
   "cell_type": "code",
   "execution_count": 46,
   "metadata": {},
   "outputs": [
    {
     "name": "stdout",
     "output_type": "stream",
     "text": [
      "77\n",
      "What is your name? fc\n",
      "Hi, fc. guess the number 1 to 100> 77\n",
      "77 <class 'int'>\n",
      "Winner winner chicken dinner!\n"
     ]
    }
   ],
   "source": [
    "answer = random.randint(1,100+1)\n",
    "print(answer)\n",
    "user_name = input(\"What is your name? \")\n",
    "guess = int(input(\"Hi, {}. guess the number 1 to 100> \".format(user_name)))\n",
    "print(guess, type(guess))\n",
    "if guess == answer:\n",
    "    print(\"Winner winner chicken dinner!\")\n",
    "else:\n",
    "    print(\"Wrong!! The answer was {}.\".format(answer))\n",
    "    \n",
    "# TODO: trial, up&down"
   ]
  },
  {
   "cell_type": "markdown",
   "metadata": {},
   "source": [
    "## Iteration"
   ]
  },
  {
   "cell_type": "code",
   "execution_count": 48,
   "metadata": {},
   "outputs": [
    {
     "name": "stdout",
     "output_type": "stream",
     "text": [
      "1\n",
      "2\n",
      "3\n",
      "4\n",
      "5\n"
     ]
    }
   ],
   "source": [
    "#for (i=0;i<10;i++){\n",
    "#    printf(i)\n",
    "#}\n",
    "for i in [1,2,3,4,5]:\n",
    "    print(i)"
   ]
  },
  {
   "cell_type": "code",
   "execution_count": 51,
   "metadata": {},
   "outputs": [
    {
     "name": "stdout",
     "output_type": "stream",
     "text": [
      "1\n",
      "2\n",
      "3\n",
      "4\n",
      "5\n",
      "6\n",
      "7\n",
      "8\n",
      "9\n",
      "10\n"
     ]
    }
   ],
   "source": [
    "for i in range(1,10+1):\n",
    "    print(i)"
   ]
  },
  {
   "cell_type": "code",
   "execution_count": 50,
   "metadata": {},
   "outputs": [
    {
     "data": {
      "text/plain": [
       "[1, 2, 3, 4, 5, 6, 7, 8, 9, 10]"
      ]
     },
     "execution_count": 50,
     "metadata": {},
     "output_type": "execute_result"
    }
   ],
   "source": [
    "list(range(1,10+1))"
   ]
  },
  {
   "cell_type": "code",
   "execution_count": 52,
   "metadata": {},
   "outputs": [
    {
     "name": "stdout",
     "output_type": "stream",
     "text": [
      "cat에게 밥을 주었습니다.\n",
      "dog에게 밥을 주었습니다.\n",
      "hamster에게 밥을 주었습니다.\n"
     ]
    }
   ],
   "source": [
    "animals = [\"cat\", \"dog\", \"hamster\"]\n",
    "for animal in animals:\n",
    "    print(\"{}에게 밥을 주었습니다.\".format(animal))"
   ]
  },
  {
   "cell_type": "code",
   "execution_count": 54,
   "metadata": {},
   "outputs": [
    {
     "name": "stdout",
     "output_type": "stream",
     "text": [
      "cat에게 참치을 주었습니다.\n",
      "dog에게 개사료을 주었습니다.\n",
      "hamster에게 해바라기씨을 주었습니다.\n"
     ]
    }
   ],
   "source": [
    "animals = [[\"cat\",\"참치\"], [\"dog\",\"개사료\"], [\"hamster\",\"해바라기씨\"]]\n",
    "for animal,feed in animals:\n",
    "    print(\"{}에게 {}을 주었습니다.\".format(animal,feed))"
   ]
  },
  {
   "cell_type": "code",
   "execution_count": 56,
   "metadata": {},
   "outputs": [
    {
     "name": "stdout",
     "output_type": "stream",
     "text": [
      "1\n",
      "3\n",
      "5\n",
      "7\n",
      "9\n",
      "11\n",
      "13\n",
      "15\n",
      "17\n",
      "19\n"
     ]
    }
   ],
   "source": [
    "for i in range(1,20+1):\n",
    "    # 홀수만 출력\n",
    "    if i%2==1:\n",
    "        print(i)\n",
    "    else:\n",
    "        pass # 있으나 마나"
   ]
  },
  {
   "cell_type": "code",
   "execution_count": 64,
   "metadata": {},
   "outputs": [
    {
     "name": "stdout",
     "output_type": "stream",
     "text": [
      "1\t2\tfast\t4\tcampus\tfast\t7\t8\tfast\tcampus\t11\tfast\t13\t14\tfastcampus\t16\t17\tfast\t19\tcampus\tfast\t22\t23\tfast\tcampus\t26\tfast\t28\t29\tfastcampus\t31\t32\tfast\t34\tcampus\tfast\t37\t38\tfast\tcampus\t41\tfast\t43\t44\tfastcampus\t46\t47\tfast\t49\tcampus\tfast\t52\t53\tfast\tcampus\t56\tfast\t58\t59\tfastcampus\t61\t62\tfast\t64\tcampus\tfast\t67\t68\tfast\tcampus\t71\tfast\t73\t74\tfastcampus\t76\t77\tfast\t79\tcampus\tfast\t82\t83\tfast\tcampus\t86\tfast\t88\t89\tfastcampus\t91\t92\tfast\t94\tcampus\tfast\t97\t98\tfast\tcampus\t"
     ]
    }
   ],
   "source": [
    "# 1 부터 100 진행되는 정수 i\n",
    "# i가 3의 배수라면 \"fast\" 출력\n",
    "# i가 5의 배수라면 \"campus\" 출력\n",
    "# i가 15의 배수라면 \"fastcampus\" 출력\n",
    "# 나머지는 i 출력\n",
    "# 반복문 먼저 작성 -> 3의 배수 -> 5의 배수 -> 15의 배수 \n",
    "\n",
    "for i in range(1,100+1):\n",
    "    if i%15==0: # i%3==0 and i%5==0\n",
    "        print(\"fastcampus\", end='\\t')\n",
    "    elif i%3==0:\n",
    "        print(\"fast\", end='\\t')\n",
    "    elif i%5==0:\n",
    "        print(\"campus\", end='\\t')\n",
    "    else:\n",
    "        print(i, end='\\t')"
   ]
  },
  {
   "cell_type": "code",
   "execution_count": 70,
   "metadata": {},
   "outputs": [
    {
     "name": "stdout",
     "output_type": "stream",
     "text": [
      "1\t2\tfast\t4\tcampus\tfast\t7\t8\tfast\tcampus\t11\tfast\t13\t14\tfastcampus\t16\t17\tfast\t19\tcampus\tfast\t22\t23\tfast\tcampus\t26\tfast\t28\t29\tfastcampus\t31\t32\tfast\t34\tcampus\tfast\t37\t38\tfast\tcampus\t41\tfast\t43\t44\tfastcampus\t46\t47\tfast\t49\tcampus\tfast\t52\t53\tfast\tcampus\t56\tfast\t58\t59\tfastcampus\t61\t62\tfast\t64\tcampus\tfast\t67\t68\tfast\tcampus\t71\tfast\t73\t74\tfastcampus\t76\t77\tfast\t79\tcampus\tfast\t82\t83\tfast\tcampus\t86\tfast\t88\t89\tfastcampus\t91\t92\tfast\t94\tcampus\tfast\t97\t98\tfast\tcampus\t"
     ]
    }
   ],
   "source": [
    "for i in range(1,100+1):\n",
    "    if i%3==0 or i%5==0:\n",
    "        print(\"fast\"*(i%3==0) + \"campus\"*(i%5==0), end='\\t')\n",
    "    else:\n",
    "        print(i, end='\\t')"
   ]
  },
  {
   "cell_type": "code",
   "execution_count": 73,
   "metadata": {},
   "outputs": [
    {
     "data": {
      "text/plain": [
       "[1,\n",
       " 2,\n",
       " 'fast',\n",
       " 4,\n",
       " 5,\n",
       " 'fast',\n",
       " 7,\n",
       " 8,\n",
       " 'fast',\n",
       " 10,\n",
       " 11,\n",
       " 'fast',\n",
       " 13,\n",
       " 14,\n",
       " 'fast',\n",
       " 16,\n",
       " 17,\n",
       " 'fast',\n",
       " 19,\n",
       " 20,\n",
       " 'fast',\n",
       " 22,\n",
       " 23,\n",
       " 'fast',\n",
       " 25,\n",
       " 26,\n",
       " 'fast',\n",
       " 28,\n",
       " 29,\n",
       " 'fast',\n",
       " 31,\n",
       " 32,\n",
       " 'fast',\n",
       " 34,\n",
       " 35,\n",
       " 'fast',\n",
       " 37,\n",
       " 38,\n",
       " 'fast',\n",
       " 40,\n",
       " 41,\n",
       " 'fast',\n",
       " 43,\n",
       " 44,\n",
       " 'fast',\n",
       " 46,\n",
       " 47,\n",
       " 'fast',\n",
       " 49,\n",
       " 50,\n",
       " 'fast',\n",
       " 52,\n",
       " 53,\n",
       " 'fast',\n",
       " 55,\n",
       " 56,\n",
       " 'fast',\n",
       " 58,\n",
       " 59,\n",
       " 'fast',\n",
       " 61,\n",
       " 62,\n",
       " 'fast',\n",
       " 64,\n",
       " 65,\n",
       " 'fast',\n",
       " 67,\n",
       " 68,\n",
       " 'fast',\n",
       " 70,\n",
       " 71,\n",
       " 'fast',\n",
       " 73,\n",
       " 74,\n",
       " 'fast',\n",
       " 76,\n",
       " 77,\n",
       " 'fast',\n",
       " 79,\n",
       " 80,\n",
       " 'fast',\n",
       " 82,\n",
       " 83,\n",
       " 'fast',\n",
       " 85,\n",
       " 86,\n",
       " 'fast',\n",
       " 88,\n",
       " 89,\n",
       " 'fast',\n",
       " 91,\n",
       " 92,\n",
       " 'fast',\n",
       " 94,\n",
       " 95,\n",
       " 'fast',\n",
       " 97,\n",
       " 98,\n",
       " 'fast',\n",
       " 100]"
      ]
     },
     "execution_count": 73,
     "metadata": {},
     "output_type": "execute_result"
    }
   ],
   "source": [
    "# list comprehension\n",
    "[\"fast\" if i%3==0 else i for i in range(1,100+1)]"
   ]
  },
  {
   "cell_type": "code",
   "execution_count": 76,
   "metadata": {},
   "outputs": [
    {
     "name": "stdout",
     "output_type": "stream",
     "text": [
      "Enter some number(1 to 100) 1\n",
      "gotcha!\n"
     ]
    }
   ],
   "source": [
    "while True:\n",
    "    num = 1\n",
    "    kill_switch = int(input(\"Enter some number(1 to 100) \"))\n",
    "    if kill_switch == num:\n",
    "        print(\"gotcha!\")\n",
    "        break\n",
    "    elif kill_switch < 10:\n",
    "        print(\"almost there.. try again\")"
   ]
  },
  {
   "cell_type": "code",
   "execution_count": 78,
   "metadata": {},
   "outputs": [
    {
     "name": "stdout",
     "output_type": "stream",
     "text": [
      "odd\t2\todd\todd\t6\todd\todd\t10\todd\todd\t14\todd\todd\t18\todd\todd\t22\todd\todd\t26\todd\todd\t30\todd\todd\t34\todd\todd\t38\todd\todd\t"
     ]
    }
   ],
   "source": [
    "for i in range(1,100+1):\n",
    "    if i==42:\n",
    "        break\n",
    "    elif i%4==0:\n",
    "        pass\n",
    "    elif i%2==0:\n",
    "        print(i, end='\\t')\n",
    "    else:\n",
    "        print(\"odd\", end='\\t')"
   ]
  },
  {
   "cell_type": "markdown",
   "metadata": {},
   "source": [
    "## numguess with iteration"
   ]
  },
  {
   "cell_type": "code",
   "execution_count": 83,
   "metadata": {},
   "outputs": [
    {
     "name": "stdout",
     "output_type": "stream",
     "text": [
      "23\n",
      "What is your name? fc\n",
      "Hi, fc. guess the number 1 to 100> 1\n",
      "1 <class 'int'>\n",
      "Up! You have 4 time(s) left.\n",
      "Hi, fc. guess the number 1 to 100> 100\n",
      "100 <class 'int'>\n",
      "Down! You have 3 time(s) left.\n",
      "Hi, fc. guess the number 1 to 100> 23\n",
      "23 <class 'int'>\n",
      "Winner winner chicken dinner!\n"
     ]
    }
   ],
   "source": [
    "answer = random.randint(1,100+1)\n",
    "print(answer)\n",
    "user_name = input(\"What is your name? \")\n",
    "trial = 5\n",
    "while trial>0:\n",
    "    guess = int(input(\"Hi, {}. guess the number 1 to 100> \".format(user_name)))\n",
    "    print(guess, type(guess))\n",
    "    if guess == answer:\n",
    "        # 5회 이내 성공시 메시지 출력 후 종료\n",
    "        print(\"Winner winner chicken dinner!\")\n",
    "        break\n",
    "    elif guess > answer:\n",
    "        # 틀릴경우, 기회 감소 및 남은 기회 출력 후 사이클 종료\n",
    "        trial-=1 # same to trial = trial - 1\n",
    "        print(\"Down! You have {} time(s) left.\".format(trial))\n",
    "    elif guess < answer:\n",
    "        trial-=1 # same to trial = trial - 1\n",
    "        print(\"Up! You have {} time(s) left.\".format(trial))"
   ]
  }
 ],
 "metadata": {
  "kernelspec": {
   "display_name": "Python 3",
   "language": "python",
   "name": "python3"
  },
  "language_info": {
   "codemirror_mode": {
    "name": "ipython",
    "version": 3
   },
   "file_extension": ".py",
   "mimetype": "text/x-python",
   "name": "python",
   "nbconvert_exporter": "python",
   "pygments_lexer": "ipython3",
   "version": "3.7.4"
  }
 },
 "nbformat": 4,
 "nbformat_minor": 2
}
