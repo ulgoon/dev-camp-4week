{
 "cells": [
  {
   "cell_type": "code",
   "execution_count": 27,
   "metadata": {},
   "outputs": [],
   "source": [
    "# 4의 배수 -> 윤년\n",
    "# 100의 배수 -> 평년\n",
    "# 400의 배수 -> 윤년\n",
    "# 나머지 -> 평년\n",
    "def is_leap(year):\n",
    "    # Step1\n",
    "    if year%4==0:\n",
    "        return \"윤년입니다.\"\n",
    "    else:\n",
    "        return \"평년입니다.\"\n",
    "\n",
    "def is_leap(year):\n",
    "    # Step2\n",
    "    if year%4==0:\n",
    "        if year%100==0:\n",
    "            return \"평년입니다.\"\n",
    "        return \"윤년입니다.\"\n",
    "    else:\n",
    "        return \"평년입니다.\"\n",
    "\n",
    "def is_leap(year):\n",
    "    # Step3\n",
    "    if year%400==0:\n",
    "        return \"윤년입니다.\"\n",
    "    elif year%4==0:\n",
    "        if year%100==0:\n",
    "            return \"평년입니다.\"\n",
    "        return \"윤년입니다.\"\n",
    "    else:\n",
    "        return \"평년입니다.\"\n",
    "\n",
    "# Alternative is_leap(if 하나만 쓰기)\n",
    "def is_leap(year):\n",
    "    if year%400==0 or (year%4==0 and year%100!=0):\n",
    "        return \"윤년입니다\"\n",
    "    else:\n",
    "        return \"평년입니다\""
   ]
  },
  {
   "cell_type": "code",
   "execution_count": 28,
   "metadata": {},
   "outputs": [
    {
     "data": {
      "text/plain": [
       "'평년입니다'"
      ]
     },
     "execution_count": 28,
     "metadata": {},
     "output_type": "execute_result"
    }
   ],
   "source": [
    "is_leap(2100)"
   ]
  },
  {
   "cell_type": "code",
   "execution_count": 29,
   "metadata": {},
   "outputs": [
    {
     "data": {
      "text/plain": [
       "'평년입니다'"
      ]
     },
     "execution_count": 29,
     "metadata": {},
     "output_type": "execute_result"
    }
   ],
   "source": [
    "is_leap(2101)"
   ]
  },
  {
   "cell_type": "code",
   "execution_count": 30,
   "metadata": {},
   "outputs": [
    {
     "data": {
      "text/plain": [
       "'윤년입니다'"
      ]
     },
     "execution_count": 30,
     "metadata": {},
     "output_type": "execute_result"
    }
   ],
   "source": [
    "is_leap(2104)"
   ]
  },
  {
   "cell_type": "code",
   "execution_count": 31,
   "metadata": {},
   "outputs": [
    {
     "data": {
      "text/plain": [
       "'윤년입니다'"
      ]
     },
     "execution_count": 31,
     "metadata": {},
     "output_type": "execute_result"
    }
   ],
   "source": [
    "is_leap(2000)"
   ]
  },
  {
   "cell_type": "code",
   "execution_count": null,
   "metadata": {},
   "outputs": [],
   "source": []
  }
 ],
 "metadata": {
  "kernelspec": {
   "display_name": "Python 3",
   "language": "python",
   "name": "python3"
  },
  "language_info": {
   "codemirror_mode": {
    "name": "ipython",
    "version": 3
   },
   "file_extension": ".py",
   "mimetype": "text/x-python",
   "name": "python",
   "nbconvert_exporter": "python",
   "pygments_lexer": "ipython3",
   "version": "3.7.4"
  }
 },
 "nbformat": 4,
 "nbformat_minor": 2
}
