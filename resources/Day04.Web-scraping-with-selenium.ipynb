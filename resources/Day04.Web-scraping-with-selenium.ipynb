{
 "cells": [
  {
   "cell_type": "code",
   "execution_count": 6,
   "metadata": {},
   "outputs": [],
   "source": [
    "import requests\n",
    "import lxml\n",
    "from bs4 import BeautifulSoup"
   ]
  },
  {
   "cell_type": "code",
   "execution_count": 2,
   "metadata": {},
   "outputs": [
    {
     "name": "stdout",
     "output_type": "stream",
     "text": [
      "0은 5의 배수 입니다.\n",
      "10은 5의 배수 입니다.\n",
      "10000은 5의 배수 입니다.\n",
      "25은 5의 배수 입니다.\n",
      "50은 5의 배수 입니다.\n"
     ]
    }
   ],
   "source": [
    "# 숙제1\n",
    "num_list = [0, -1, 10, 3.14, 2.71828, 10000, 2736, 2847, 25, 287, 1, 50]\n",
    "\n",
    "for i in num_list:\n",
    "    if i%5==0:\n",
    "        print(\"{}은 5의 배수 입니다.\".format(i))\n",
    "        \n",
    "# 숙제2는 flask/server.py를 참고하세요"
   ]
  },
  {
   "cell_type": "code",
   "execution_count": 16,
   "metadata": {},
   "outputs": [
    {
     "data": {
      "text/plain": [
       "[(1, '톤업에센스 젠틀피버'),\n",
       " (2, '톤업에센스'),\n",
       " (3, '캐슬스텝업'),\n",
       " (4, '엄홍길 목걸이 가격'),\n",
       " (5, '지드래곤'),\n",
       " (6, '엠씨몽'),\n",
       " (7, '신서유기7 재방송'),\n",
       " (8, '황은정 윤기원'),\n",
       " (9, '젠틀피버'),\n",
       " (10, 'mc몽'),\n",
       " (11, '나르샤'),\n",
       " (12, '김필'),\n",
       " (13, '임헌일'),\n",
       " (14, '엄홍길'),\n",
       " (15, '지금 이대로가 좋아요'),\n",
       " (16, '공인중개사'),\n",
       " (17, '곽윤기'),\n",
       " (18, '한국사능력검정시험 45회'),\n",
       " (19, '최수종 나이'),\n",
       " (20, '공인중개사 가답안')]"
      ]
     },
     "execution_count": 16,
     "metadata": {},
     "output_type": "execute_result"
    }
   ],
   "source": [
    "# 숙제2를 수행하기 위한 연습작업\n",
    "response = requests.get(\"https://www.naver.com/\")\n",
    "html_text = response.text\n",
    "soup = BeautifulSoup(html_text, \"lxml\")\n",
    "ul_text = soup.find(\"ul\", attrs={\"class\":\"ah_l\"})\n",
    "li_list = ul_text.find_all(\"li\")\n",
    "result = []\n",
    "for li in li_list:\n",
    "    rank = int(li.find(\"span\", attrs={\"class\":\"ah_r\"}).text)\n",
    "    keyword = li.find(\"span\", attrs={\"class\":\"ah_k\"}).text\n",
    "    result.append((rank, keyword))\n",
    "    \n",
    "result"
   ]
  },
  {
   "cell_type": "markdown",
   "metadata": {},
   "source": [
    "## Selenium\n",
    "\n",
    "### requirements\n",
    "\n",
    "- `pip install selenium`\n",
    "- chromedriver(https://chromedriver.storage.googleapis.com/index.html?path=78.0.3904.11/)"
   ]
  },
  {
   "cell_type": "code",
   "execution_count": 17,
   "metadata": {},
   "outputs": [],
   "source": [
    "from selenium import webdriver"
   ]
  },
  {
   "cell_type": "code",
   "execution_count": 22,
   "metadata": {},
   "outputs": [],
   "source": [
    "# 세션시작(세션용 브라우저 창을 닫지 마세요)\n",
    "ch_driver = webdriver.Chrome(\"/Users/ulgoon/Desktop/chromedriver\")"
   ]
  },
  {
   "cell_type": "code",
   "execution_count": 23,
   "metadata": {},
   "outputs": [],
   "source": [
    "# 페이지 이동을 위한 .get()\n",
    "ch_driver.get(\"https://www.naver.com/\")"
   ]
  },
  {
   "cell_type": "code",
   "execution_count": 24,
   "metadata": {},
   "outputs": [],
   "source": [
    "# 평화나라 이동하기\n",
    "ch_driver.get(\"https://cafe.naver.com/joonggonara\")"
   ]
  },
  {
   "cell_type": "code",
   "execution_count": 25,
   "metadata": {},
   "outputs": [],
   "source": [
    "# id로 요소 찾기\n",
    "search_input = ch_driver.find_element_by_id(\"topLayerQueryInput\")"
   ]
  },
  {
   "cell_type": "code",
   "execution_count": 26,
   "metadata": {},
   "outputs": [],
   "source": [
    "# 찾은 요소에 값 전달하기\n",
    "search_input.send_keys(\"아이패드\")"
   ]
  },
  {
   "cell_type": "code",
   "execution_count": 27,
   "metadata": {},
   "outputs": [],
   "source": [
    "# 스크립트 실행으로 검색결과 가져오기\n",
    "ch_driver.execute_script(\"searchBoard();\")"
   ]
  },
  {
   "cell_type": "code",
   "execution_count": 28,
   "metadata": {},
   "outputs": [],
   "source": [
    "# iframe 전환을 위한 스크립트\n",
    "ch_driver.switch_to.frame(\"cafe_main\")"
   ]
  },
  {
   "cell_type": "code",
   "execution_count": 41,
   "metadata": {},
   "outputs": [],
   "source": [
    "# xpath로 패턴에 의한 리스트 제목 접근하기\n",
    "result = ch_driver.find_elements_by_xpath(\"//*[@id='main-area']/div[5]/table/tbody/tr/td[1]/div[2]/div/a\")"
   ]
  },
  {
   "cell_type": "code",
   "execution_count": 44,
   "metadata": {},
   "outputs": [
    {
     "data": {
      "text/plain": [
       "['아이패드 프로 1세대 12.9 셀룰러 골드 128 팝니다 스마트키보드 벌크포함',\n",
       " '- 아이패드 / 갤럭시탭 전기종 삽니다. ( 자급제 WIFI LTE 셀룰러 가개통 중고 애플펜슬1,2 ) 서울경기 직거래',\n",
       " '[매입] 맥북프로 맥북에어 아이맥 애플 전제품 / 아이패드 에어 프로 / 서피스프로 서피스북 / LG 그램 삼성 노트북 삽니다.',\n",
       " '아이패드11inch 256g 셀룰러 + 애플펜슬2 + 애플정품키보드폴리오 + 애플케어플러스',\n",
       " '★★서울,경기 직접갑니다★★전국 최고단가!!새폰, 중고폰 최고단가!!(아이패드, 아이폰11, 아이폰 프로 ,갤럭시폴드 특단가!!)',\n",
       " '[미개봉] 아이패드 프로3세대 11인치 64GB 미개봉 판매',\n",
       " '※※가개통폰,박스폰,자급제,미개봉폰,아이패드,갤럭시폴드 출장매입※※ 아이폰11ProMax150만 아이폰11Pro140만 아이폰11 85만 출장매입합니다.',\n",
       " '아이패드 미니3 S급 (64GB 골드)',\n",
       " '아이패드 에어2 풀박스 (wifi 64GB 스그)',\n",
       " '@가개통매입 갤럭시폴드,노트10,노트10+,s10 5g,s10+,s10,아이폰xs,아이폰xs max,아이폰xr,아이패드등 전기종 서울경기 출장매입합니다.',\n",
       " '아이패드 6세대(32GB)+애플펜슬',\n",
       " '■■■ 아이폰 갤럭시 아이패드 전기종 최고가로 삽니다! ( 가개통 / 중고 / 파손 ) 서울 경기 전지역 24시간 출장매입~♡ 갤럭시 폴드',\n",
       " '애플 아이패드2 2대 16기가 32기가 팔아요 액정 깨졌고 충전이안되서',\n",
       " '[새제품급]아이패드 미니5 + 애플펜슬 리퍼가능',\n",
       " '아이패드 프로 3 12.9 인치 wifi 64gb 스그']"
      ]
     },
     "execution_count": 44,
     "metadata": {},
     "output_type": "execute_result"
    }
   ],
   "source": [
    "result_list = []\n",
    "for item in result:\n",
    "    result_list.append(item.text)\n",
    "result_list"
   ]
  },
  {
   "cell_type": "code",
   "execution_count": 45,
   "metadata": {},
   "outputs": [],
   "source": [
    "# 검색창 선택한뒤 검색어 넘겨주기\n",
    "query_input = ch_driver.find_element_by_id(\"query\")\n",
    "query_input.send_keys(\"맥북\")"
   ]
  },
  {
   "cell_type": "code",
   "execution_count": 50,
   "metadata": {},
   "outputs": [],
   "source": [
    "# 버튼 찾아서 클릭하기\n",
    "btn = ch_driver.find_elements_by_class_name(\"btn-search-green\")[1]\n",
    "btn.click()"
   ]
  },
  {
   "cell_type": "code",
   "execution_count": 54,
   "metadata": {},
   "outputs": [],
   "source": [
    "ch_driver.switch_to.parent_frame() # 메인 프레임으로 돌아오기"
   ]
  },
  {
   "cell_type": "code",
   "execution_count": 55,
   "metadata": {},
   "outputs": [],
   "source": [
    "ch_driver.execute_script(\"window.scrollTo(0, window.scrollY + 1000)\") # javaScript로 스크롤하기"
   ]
  }
 ],
 "metadata": {
  "kernelspec": {
   "display_name": "Python 3",
   "language": "python",
   "name": "python3"
  },
  "language_info": {
   "codemirror_mode": {
    "name": "ipython",
    "version": 3
   },
   "file_extension": ".py",
   "mimetype": "text/x-python",
   "name": "python",
   "nbconvert_exporter": "python",
   "pygments_lexer": "ipython3",
   "version": "3.7.4"
  }
 },
 "nbformat": 4,
 "nbformat_minor": 2
}
