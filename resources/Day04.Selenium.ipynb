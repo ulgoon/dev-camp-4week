{
 "cells": [
  {
   "cell_type": "code",
   "execution_count": 1,
   "metadata": {},
   "outputs": [],
   "source": [
    "from selenium import webdriver\n",
    "from time import sleep"
   ]
  },
  {
   "cell_type": "code",
   "execution_count": 2,
   "metadata": {},
   "outputs": [],
   "source": [
    "# 크롬드라이버 시작\n",
    "# Windows: C:\\\\chromedriver.exe 혹은 chromedriver.exe가 있는 경로(한글이 포함되지 않도록)\n",
    "ch_driver = webdriver.Chrome('/Users/ulgoon/Documents/chromedriver')"
   ]
  },
  {
   "cell_type": "code",
   "execution_count": 3,
   "metadata": {},
   "outputs": [],
   "source": [
    "# 경로 이동하기\n",
    "ch_driver.get('https://www.google.com')"
   ]
  },
  {
   "cell_type": "code",
   "execution_count": 4,
   "metadata": {},
   "outputs": [],
   "source": [
    "ch_driver.get('https://cafe.naver.com/joonggonara')"
   ]
  },
  {
   "cell_type": "code",
   "execution_count": 6,
   "metadata": {},
   "outputs": [],
   "source": [
    "# 검색어를 입력창에 전달(입력할 창을 찾아 값을 넘겨줌)\n",
    "query = '아이패드'\n",
    "query_input = ch_driver.find_element_by_id('topLayerQueryInput')"
   ]
  },
  {
   "cell_type": "code",
   "execution_count": 7,
   "metadata": {},
   "outputs": [],
   "source": [
    "query_input.send_keys(query) # 검색어를 넘겨주는 코드"
   ]
  },
  {
   "cell_type": "code",
   "execution_count": 8,
   "metadata": {},
   "outputs": [],
   "source": [
    "# 검색 버튼 클릭 or Enter 대신 자바스크립트로 검색결과 확인\n",
    "ch_driver.execute_script('searchBoard();')"
   ]
  },
  {
   "cell_type": "code",
   "execution_count": 10,
   "metadata": {},
   "outputs": [],
   "source": [
    "# subframe으로 전환하기\n",
    "ch_driver.switch_to.frame('cafe_main')"
   ]
  },
  {
   "cell_type": "code",
   "execution_count": 14,
   "metadata": {},
   "outputs": [],
   "source": [
    "# xpath로 검색결과의 게시물 title을 지정하고 가져오기\n",
    "title_path = '//*[@id=\"main-area\"]/div[5]/table/tbody/tr/td[1]/div[2]/div/a'\n",
    "# //*[@id=\"main-area\"]/div[5]/table/tbody/tr[15]/td[1]/div[2]/div/a\n",
    "result_list =  ch_driver.find_elements_by_xpath(title_path)"
   ]
  },
  {
   "cell_type": "code",
   "execution_count": 18,
   "metadata": {},
   "outputs": [
    {
     "name": "stdout",
     "output_type": "stream",
     "text": [
      "[미개봉]애플 아이패드 프로3세대 11 64gb 실버 팝니다.\n",
      "[공식앱][아이패드 6세대 실버 128기가 wifi+ 애플펜슬 1][300,000원]\n",
      "☆★아이패드프로3세대 에어3 미니5 갤럭시탭s6 갤럭시탭s4 최고가로 삽니다★☆ 서울경기 24시출장매입!!!\n",
      "[판매중] 아이패드6 와이파이 32기가 로즈골드 리퍼 20년 7/9일 배터리사이클 1 애플펜슬 미개봉\n",
      "[삽니다]매입합니다 아이폰,아이패드,갤럭시[노트북,맥북,아이맥,태블릿,DSLR] 등등 it기기 카메라등 전부[최고가매입][당일방문][출장비X][현금지급]\n",
      "애플 아이패드7세대셀룰러 스페이스그레이 128기가 미사용 풀박스 팝니다.\n",
      "※※가개통폰,박스폰,자급제,미개봉폰,아이패드,갤럭시폴드,노트10+ 출장매입※※ 아이폰11ProMax145만 아이폰11Pro135만 아이폰11 95만 출장매입합니다.\n",
      "아이패드 에어2 (A1567) 셀룰러 64기가 (케이스포함)팝니다.\n",
      "(미개봉)아이패드 에어3_ 256GB 미개봉_스페이스 그레이 팝니다\n",
      "@@가개통폰,박스폰,미개봉폰,자급제폰,미개봉폰,아이패드@@ 아이폰11ProMax,Pro(프로) 갤럭시폴드 갤럭시노트10,S10 서울,경기,인천 30분이내 출장매입.\n",
      "아이패드 미니5 셀룰러 스그 64기가 팝니다\n",
      "아이패드 프로3 미개봉 80구매해요\n",
      "†† 아이패드프로3세대 11인치 12.9인치 / 에어3 / 미니5 / 갤럭시탭S6 , S4 †† 최고가로 삽니다! 24시출장매입 ( 가개통 자급제 중고 유심기변 )\n",
      "아이폰 아이패드 출장매입 경기 서울권 고가매입 !!!!\n",
      ":::: 아이패드프로3세대 / 아이패드에어3 / 아이패드미니5 / 갤럭시탭S6 S4 :::: 모든기종 삽니다! 서울경기24시출장매입!\n"
     ]
    }
   ],
   "source": [
    "# 스크래핑 결과 출력\n",
    "for web_element in result_list:\n",
    "    print(web_element.text)"
   ]
  },
  {
   "cell_type": "code",
   "execution_count": 19,
   "metadata": {},
   "outputs": [],
   "source": [
    "# 페이지 이동하기(마우스 클릭)\n",
    "page_num_path = '//*[@id=\"main-area\"]/div[7]/a[2]'\n",
    "# //*[@id=\"main-area\"]/div[7]/a[10] -> []의 숫자를 바꾸면 다른 페이지 이동\n",
    "pagenation_link = ch_driver.find_element_by_xpath(page_num_path)\n",
    "pagenation_link.click()"
   ]
  },
  {
   "cell_type": "markdown",
   "metadata": {},
   "source": [
    "## Twitter "
   ]
  },
  {
   "cell_type": "code",
   "execution_count": 20,
   "metadata": {},
   "outputs": [],
   "source": [
    "# 크롬드라이버 시작\n",
    "# Windows: C:\\\\chromedriver.exe 혹은 chromedriver.exe가 있는 경로(한글이 포함되지 않도록)\n",
    "ch_driver = webdriver.Chrome('/Users/ulgoon/Documents/chromedriver')"
   ]
  },
  {
   "cell_type": "code",
   "execution_count": 21,
   "metadata": {},
   "outputs": [],
   "source": [
    "ch_driver.get('https://twitter.com/search?q=블프')"
   ]
  },
  {
   "cell_type": "code",
   "execution_count": 22,
   "metadata": {},
   "outputs": [],
   "source": [
    "from time import sleep\n",
    "\n",
    "# 페이지 스크롤을 위한 자바스크립트 반복실행\n",
    "for _ in range(5):\n",
    "    ch_driver.execute_script('window.scrollTo(0, window.scrollY + 1000)')\n",
    "    sleep(4)"
   ]
  },
  {
   "cell_type": "code",
   "execution_count": 24,
   "metadata": {},
   "outputs": [],
   "source": [
    "# 현재 세션의 페이지 텍스트 저장\n",
    "html_text = ch_driver.page_source"
   ]
  },
  {
   "cell_type": "code",
   "execution_count": 25,
   "metadata": {},
   "outputs": [],
   "source": [
    "from bs4 import BeautifulSoup\n",
    "import lxml\n",
    "\n",
    "# beautifulsoup을 활용한 스크래핑 시작\n",
    "soup = BeautifulSoup(html_text, 'lxml')"
   ]
  },
  {
   "cell_type": "code",
   "execution_count": 27,
   "metadata": {},
   "outputs": [],
   "source": [
    "#1 using attributes\n",
    "span_list = soup.find_all('span', attrs={'class':'username'})\n",
    "#2 soup.select() -> CSS Selector"
   ]
  },
  {
   "cell_type": "code",
   "execution_count": 29,
   "metadata": {},
   "outputs": [
    {
     "name": "stdout",
     "output_type": "stream",
     "text": [
      "\n",
      "canimkanka\n",
      "choco_thumB\n",
      "with_jacey\n",
      "sanmin_co0321\n",
      "SEunkong\n",
      "UTS_ASTRO\n",
      "chung_guan_b\n",
      "Zafir_love\n",
      "0929_SINKE\n",
      "es_iroiro\n",
      "zeprid\n",
      "kikinjiji\n",
      "buy_badge0\n",
      "nari_963\n",
      "hyeseul2285\n",
      "star_astin_\n",
      "collect_mthings\n",
      "yoonimeda_\n",
      "dooboochoo\n",
      "0coco00coco0\n",
      "M_Society_\n",
      "TrueColor_JJY\n",
      "wkqtlr_\n",
      "Vhx2M2I9kI76PGK\n",
      "gyeong_saint\n",
      "0425mia\n",
      "woojoodog88\n",
      "_Namu_ya_\n",
      "ma2angbini\n",
      "MyTopThingsss\n",
      "0425mia\n",
      "gyeong_saint\n",
      "jayadat\n",
      "VanCAwork\n",
      "Mareummo_\n",
      "VanCAwork\n",
      "Myunnya_game\n",
      "na_g0m\n",
      "arohatoo\n",
      "Patdsa18i5\n",
      "cesium_kim\n",
      "Myunnya_game\n",
      "dooboochoo\n",
      "_ho_p_\n",
      "DJIGlobal\n",
      "Vhx2M2I9kI76PGK\n",
      "bog_chap\n",
      "Baekgi_allin\n",
      "DAY6_partner\n",
      "Dear_friedpork\n",
      "BN_ggomi\n",
      "ASTRO_YE0101\n",
      "gyeong_saint\n",
      "aroha_Mjj\n",
      "\n"
     ]
    }
   ],
   "source": [
    "for span in span_list:\n",
    "    print(span.text.replace(\"@\",\"\"))"
   ]
  }
 ],
 "metadata": {
  "kernelspec": {
   "display_name": "Python 3",
   "language": "python",
   "name": "python3"
  },
  "language_info": {
   "codemirror_mode": {
    "name": "ipython",
    "version": 3
   },
   "file_extension": ".py",
   "mimetype": "text/x-python",
   "name": "python",
   "nbconvert_exporter": "python",
   "pygments_lexer": "ipython3",
   "version": "3.7.4"
  }
 },
 "nbformat": 4,
 "nbformat_minor": 2
}
